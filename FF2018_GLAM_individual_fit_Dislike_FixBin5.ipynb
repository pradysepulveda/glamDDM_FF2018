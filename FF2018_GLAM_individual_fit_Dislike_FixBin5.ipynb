{
 "cells": [
  {
   "cell_type": "code",
   "execution_count": 1,
   "metadata": {},
   "outputs": [],
   "source": [
    "import glam\n",
    "import pandas as pd\n",
    "import numpy as np\n",
    "import os.path\n",
    "\n",
    "import matplotlib.pyplot as plt\n",
    "from analysis_functions import make_sure_path_exists"
   ]
  },
  {
   "cell_type": "code",
   "execution_count": 2,
   "metadata": {
    "collapsed": true
   },
   "outputs": [],
   "source": [
    "make_sure_path_exists('results/estimates')\n",
    "make_sure_path_exists('results/dic')\n",
    "make_sure_path_exists('results/predictions')"
   ]
  },
  {
   "cell_type": "code",
   "execution_count": 3,
   "metadata": {
    "collapsed": true
   },
   "outputs": [],
   "source": [
    "np.random.seed(23) # from random.org"
   ]
  },
  {
   "cell_type": "markdown",
   "metadata": {},
   "source": [
    "# 2.1 GLAM Individual Fits"
   ]
  },
  {
   "cell_type": "markdown",
   "metadata": {},
   "source": [
    "## Load data"
   ]
  },
  {
   "cell_type": "code",
   "execution_count": 4,
   "metadata": {},
   "outputs": [
    {
     "data": {
      "text/html": [
       "<div>\n",
       "<style scoped>\n",
       "    .dataframe tbody tr th:only-of-type {\n",
       "        vertical-align: middle;\n",
       "    }\n",
       "\n",
       "    .dataframe tbody tr th {\n",
       "        vertical-align: top;\n",
       "    }\n",
       "\n",
       "    .dataframe thead th {\n",
       "        text-align: right;\n",
       "    }\n",
       "</style>\n",
       "<table border=\"1\" class=\"dataframe\">\n",
       "  <thead>\n",
       "    <tr style=\"text-align: right;\">\n",
       "      <th></th>\n",
       "      <th>subject</th>\n",
       "      <th>trial</th>\n",
       "      <th>choice</th>\n",
       "      <th>rt</th>\n",
       "      <th>item_value_0</th>\n",
       "      <th>item_value_1</th>\n",
       "      <th>gaze_0</th>\n",
       "      <th>gaze_1</th>\n",
       "    </tr>\n",
       "  </thead>\n",
       "  <tbody>\n",
       "    <tr>\n",
       "      <th>0</th>\n",
       "      <td>0</td>\n",
       "      <td>0</td>\n",
       "      <td>1</td>\n",
       "      <td>3327</td>\n",
       "      <td>0.0</td>\n",
       "      <td>5.0</td>\n",
       "      <td>0.745415</td>\n",
       "      <td>0.254585</td>\n",
       "    </tr>\n",
       "    <tr>\n",
       "      <th>1</th>\n",
       "      <td>0</td>\n",
       "      <td>1</td>\n",
       "      <td>1</td>\n",
       "      <td>3424</td>\n",
       "      <td>5.0</td>\n",
       "      <td>4.0</td>\n",
       "      <td>0.410720</td>\n",
       "      <td>0.589280</td>\n",
       "    </tr>\n",
       "    <tr>\n",
       "      <th>2</th>\n",
       "      <td>0</td>\n",
       "      <td>2</td>\n",
       "      <td>1</td>\n",
       "      <td>3691</td>\n",
       "      <td>4.0</td>\n",
       "      <td>1.0</td>\n",
       "      <td>0.330549</td>\n",
       "      <td>0.669451</td>\n",
       "    </tr>\n",
       "    <tr>\n",
       "      <th>3</th>\n",
       "      <td>0</td>\n",
       "      <td>3</td>\n",
       "      <td>0</td>\n",
       "      <td>8144</td>\n",
       "      <td>3.0</td>\n",
       "      <td>5.0</td>\n",
       "      <td>0.592345</td>\n",
       "      <td>0.407655</td>\n",
       "    </tr>\n",
       "    <tr>\n",
       "      <th>4</th>\n",
       "      <td>0</td>\n",
       "      <td>4</td>\n",
       "      <td>0</td>\n",
       "      <td>6559</td>\n",
       "      <td>5.0</td>\n",
       "      <td>5.0</td>\n",
       "      <td>0.641717</td>\n",
       "      <td>0.358283</td>\n",
       "    </tr>\n",
       "  </tbody>\n",
       "</table>\n",
       "</div>"
      ],
      "text/plain": [
       "   subject  trial  choice    rt  item_value_0  item_value_1    gaze_0  \\\n",
       "0        0      0       1  3327           0.0           5.0  0.745415   \n",
       "1        0      1       1  3424           5.0           4.0  0.410720   \n",
       "2        0      2       1  3691           4.0           1.0  0.330549   \n",
       "3        0      3       0  8144           3.0           5.0  0.592345   \n",
       "4        0      4       0  6559           5.0           5.0  0.641717   \n",
       "\n",
       "     gaze_1  \n",
       "0  0.254585  \n",
       "1  0.589280  \n",
       "2  0.669451  \n",
       "3  0.407655  \n",
       "4  0.358283  "
      ]
     },
     "execution_count": 4,
     "metadata": {},
     "output_type": "execute_result"
    }
   ],
   "source": [
    "# Load data\n",
    "sufix = '_Dislike_FixBin5'\n",
    "data = pd.read_csv(str('data/FF2018_data/GlamDataFF2018_Dislike_Bin_v2.csv'))\n",
    "# Subset only necessary columns\n",
    "data = data[['subject', 'trial', 'choice', 'rt',\n",
    "         'item_value_0', 'item_value_1',\n",
    "         'gaze_0', 'gaze_1']]\n",
    "data.head()"
   ]
  },
  {
   "cell_type": "markdown",
   "metadata": {},
   "source": [
    "## Fit GLAM variants individually"
   ]
  },
  {
   "cell_type": "markdown",
   "metadata": {},
   "source": [
    "### 1. full GLAM"
   ]
  },
  {
   "cell_type": "code",
   "execution_count": 5,
   "metadata": {
    "scrolled": false
   },
   "outputs": [
    {
     "name": "stdout",
     "output_type": "stream",
     "text": [
      "Fitting full GLAM individually...\n",
      "Generating single subject models for 33 subjects...\n",
      "  Found old parameter estimates in \"results/estimates\". Skipping estimation...\n"
     ]
    }
   ],
   "source": [
    "# Fitting full GLAM\n",
    "print('Fitting full GLAM individually...')\n",
    "\n",
    "glam_full = glam.GLAM(data)\n",
    "glam_full.make_model('individual', gamma_bounds=(-1, 1), t0_val=0)\n",
    "\n",
    "if not os.path.exists(str('results/estimates/glam_FF2018_full_individual'+sufix+'.npy')):\n",
    "    glam_full.fit(method='NUTS', tune=1000)\n",
    "else:\n",
    "    print('  Found old parameter estimates in \"results/estimates\". Skipping estimation...')\n",
    "    glam_full.estimates = np.load(str('results/estimates/glam_FF2018_full_individual'+sufix+'.npy'))\n",
    "    \n",
    "# Save parameter estimates\n",
    "np.save(str('results/estimates/glam_FF2018_full_individual'+sufix+'.npy'), glam_full.estimates)"
   ]
  },
  {
   "cell_type": "code",
   "execution_count": 6,
   "metadata": {},
   "outputs": [],
   "source": [
    "#estimates_like = pd.DataFrame(glam_full.estimates)\n",
    "#estimates_like.to_csv(\"results/params_estimates/params_indiv_like.csv\")"
   ]
  },
  {
   "cell_type": "code",
   "execution_count": 7,
   "metadata": {},
   "outputs": [
    {
     "name": "stdout",
     "output_type": "stream",
     "text": [
      "Predicting individual subject data using full GLAM...\n",
      "  Found old individual full GLAM predictions in \"results/predictions\". Skipping prediction...\n"
     ]
    },
    {
     "data": {
      "text/html": [
       "<div>\n",
       "<style scoped>\n",
       "    .dataframe tbody tr th:only-of-type {\n",
       "        vertical-align: middle;\n",
       "    }\n",
       "\n",
       "    .dataframe tbody tr th {\n",
       "        vertical-align: top;\n",
       "    }\n",
       "\n",
       "    .dataframe thead th {\n",
       "        text-align: right;\n",
       "    }\n",
       "</style>\n",
       "<table border=\"1\" class=\"dataframe\">\n",
       "  <thead>\n",
       "    <tr style=\"text-align: right;\">\n",
       "      <th></th>\n",
       "      <th>choice</th>\n",
       "      <th>repeat</th>\n",
       "      <th>rt</th>\n",
       "      <th>subject</th>\n",
       "      <th>trial</th>\n",
       "      <th>item_value_0</th>\n",
       "      <th>gaze_0</th>\n",
       "      <th>item_value_1</th>\n",
       "      <th>gaze_1</th>\n",
       "    </tr>\n",
       "  </thead>\n",
       "  <tbody>\n",
       "    <tr>\n",
       "      <th>0</th>\n",
       "      <td>1.0</td>\n",
       "      <td>0.0</td>\n",
       "      <td>3720.0</td>\n",
       "      <td>0.0</td>\n",
       "      <td>0.0</td>\n",
       "      <td>0.0</td>\n",
       "      <td>0.745415</td>\n",
       "      <td>5.0</td>\n",
       "      <td>0.254585</td>\n",
       "    </tr>\n",
       "    <tr>\n",
       "      <th>1</th>\n",
       "      <td>1.0</td>\n",
       "      <td>1.0</td>\n",
       "      <td>3108.0</td>\n",
       "      <td>0.0</td>\n",
       "      <td>0.0</td>\n",
       "      <td>0.0</td>\n",
       "      <td>0.745415</td>\n",
       "      <td>5.0</td>\n",
       "      <td>0.254585</td>\n",
       "    </tr>\n",
       "    <tr>\n",
       "      <th>2</th>\n",
       "      <td>1.0</td>\n",
       "      <td>2.0</td>\n",
       "      <td>2679.0</td>\n",
       "      <td>0.0</td>\n",
       "      <td>0.0</td>\n",
       "      <td>0.0</td>\n",
       "      <td>0.745415</td>\n",
       "      <td>5.0</td>\n",
       "      <td>0.254585</td>\n",
       "    </tr>\n",
       "    <tr>\n",
       "      <th>3</th>\n",
       "      <td>1.0</td>\n",
       "      <td>3.0</td>\n",
       "      <td>2255.0</td>\n",
       "      <td>0.0</td>\n",
       "      <td>0.0</td>\n",
       "      <td>0.0</td>\n",
       "      <td>0.745415</td>\n",
       "      <td>5.0</td>\n",
       "      <td>0.254585</td>\n",
       "    </tr>\n",
       "    <tr>\n",
       "      <th>4</th>\n",
       "      <td>1.0</td>\n",
       "      <td>4.0</td>\n",
       "      <td>3122.0</td>\n",
       "      <td>0.0</td>\n",
       "      <td>0.0</td>\n",
       "      <td>0.0</td>\n",
       "      <td>0.745415</td>\n",
       "      <td>5.0</td>\n",
       "      <td>0.254585</td>\n",
       "    </tr>\n",
       "  </tbody>\n",
       "</table>\n",
       "</div>"
      ],
      "text/plain": [
       "   choice  repeat      rt  subject  trial  item_value_0    gaze_0  \\\n",
       "0     1.0     0.0  3720.0      0.0    0.0           0.0  0.745415   \n",
       "1     1.0     1.0  3108.0      0.0    0.0           0.0  0.745415   \n",
       "2     1.0     2.0  2679.0      0.0    0.0           0.0  0.745415   \n",
       "3     1.0     3.0  2255.0      0.0    0.0           0.0  0.745415   \n",
       "4     1.0     4.0  3122.0      0.0    0.0           0.0  0.745415   \n",
       "\n",
       "   item_value_1    gaze_1  \n",
       "0           5.0  0.254585  \n",
       "1           5.0  0.254585  \n",
       "2           5.0  0.254585  \n",
       "3           5.0  0.254585  \n",
       "4           5.0  0.254585  "
      ]
     },
     "execution_count": 7,
     "metadata": {},
     "output_type": "execute_result"
    }
   ],
   "source": [
    "# Predictions\n",
    "print('Predicting individual subject data using full GLAM...')\n",
    "\n",
    "if not os.path.exists(str('results/predictions/glam_FF2018_full_individual'+sufix+'.csv')):\n",
    "    glam_full.predict(n_repeats=50)\n",
    "    glam_full.prediction.to_csv(str('results/predictions/glam_FF2018_full_individual'+sufix+'.csv'), index=False)\n",
    "else:\n",
    "    print('  Found old individual full GLAM predictions in \"results/predictions\". Skipping prediction...')\n",
    "    glam_full.prediction = pd.read_csv(str('results/predictions/glam_FF2018_full_individual'+sufix+'.csv'))\n",
    "\n",
    "glam_full.prediction.head()"
   ]
  },
  {
   "cell_type": "markdown",
   "metadata": {},
   "source": [
    "### 2 No-bias $(\\gamma=1)$ GLAM"
   ]
  },
  {
   "cell_type": "code",
   "execution_count": 8,
   "metadata": {},
   "outputs": [
    {
     "name": "stdout",
     "output_type": "stream",
     "text": [
      "Fitting no-bias GLAM individually...\n",
      "Generating single subject models for 33 subjects...\n",
      "  Found old parameter estimates in \"results/estimates\". Skipping estimation...\n"
     ]
    }
   ],
   "source": [
    "# Fitting no-bias GLAM\n",
    "print('Fitting no-bias GLAM individually...')\n",
    "\n",
    "glam_nobias = glam.GLAM(data)\n",
    "glam_nobias.make_model('individual', gamma_val=1, t0_val=0)\n",
    "\n",
    "if not os.path.exists(str('results/estimates/glam_FF2018_nobias_individual'+sufix+'.npy')):\n",
    "    glam_nobias.fit(method='NUTS', tune=1000)\n",
    "else:\n",
    "    print('  Found old parameter estimates in \"results/estimates\". Skipping estimation...')\n",
    "    glam_nobias.estimates = np.load(str('results/estimates/glam_FF2018_nobias_individual'+sufix+'.npy'))\n",
    "    \n",
    "# Save parameter estimates\n",
    "np.save(str('results/estimates/glam_FF2018_nobias_individual'+sufix+'.npy'), glam_nobias.estimates)"
   ]
  },
  {
   "cell_type": "code",
   "execution_count": 9,
   "metadata": {},
   "outputs": [
    {
     "name": "stdout",
     "output_type": "stream",
     "text": [
      "Predicting individual subject data using no-bias GLAM...\n",
      "  Found old individual full GLAM predictions in \"results/predictions\". Skipping prediction...\n"
     ]
    },
    {
     "data": {
      "text/html": [
       "<div>\n",
       "<style scoped>\n",
       "    .dataframe tbody tr th:only-of-type {\n",
       "        vertical-align: middle;\n",
       "    }\n",
       "\n",
       "    .dataframe tbody tr th {\n",
       "        vertical-align: top;\n",
       "    }\n",
       "\n",
       "    .dataframe thead th {\n",
       "        text-align: right;\n",
       "    }\n",
       "</style>\n",
       "<table border=\"1\" class=\"dataframe\">\n",
       "  <thead>\n",
       "    <tr style=\"text-align: right;\">\n",
       "      <th></th>\n",
       "      <th>choice</th>\n",
       "      <th>repeat</th>\n",
       "      <th>rt</th>\n",
       "      <th>subject</th>\n",
       "      <th>trial</th>\n",
       "      <th>item_value_0</th>\n",
       "      <th>gaze_0</th>\n",
       "      <th>item_value_1</th>\n",
       "      <th>gaze_1</th>\n",
       "    </tr>\n",
       "  </thead>\n",
       "  <tbody>\n",
       "    <tr>\n",
       "      <th>0</th>\n",
       "      <td>1.0</td>\n",
       "      <td>0.0</td>\n",
       "      <td>4480.0</td>\n",
       "      <td>0.0</td>\n",
       "      <td>0.0</td>\n",
       "      <td>0.0</td>\n",
       "      <td>0.745415</td>\n",
       "      <td>5.0</td>\n",
       "      <td>0.254585</td>\n",
       "    </tr>\n",
       "    <tr>\n",
       "      <th>1</th>\n",
       "      <td>1.0</td>\n",
       "      <td>1.0</td>\n",
       "      <td>3124.0</td>\n",
       "      <td>0.0</td>\n",
       "      <td>0.0</td>\n",
       "      <td>0.0</td>\n",
       "      <td>0.745415</td>\n",
       "      <td>5.0</td>\n",
       "      <td>0.254585</td>\n",
       "    </tr>\n",
       "    <tr>\n",
       "      <th>2</th>\n",
       "      <td>0.0</td>\n",
       "      <td>2.0</td>\n",
       "      <td>3644.0</td>\n",
       "      <td>0.0</td>\n",
       "      <td>0.0</td>\n",
       "      <td>0.0</td>\n",
       "      <td>0.745415</td>\n",
       "      <td>5.0</td>\n",
       "      <td>0.254585</td>\n",
       "    </tr>\n",
       "    <tr>\n",
       "      <th>3</th>\n",
       "      <td>0.0</td>\n",
       "      <td>3.0</td>\n",
       "      <td>3581.0</td>\n",
       "      <td>0.0</td>\n",
       "      <td>0.0</td>\n",
       "      <td>0.0</td>\n",
       "      <td>0.745415</td>\n",
       "      <td>5.0</td>\n",
       "      <td>0.254585</td>\n",
       "    </tr>\n",
       "    <tr>\n",
       "      <th>4</th>\n",
       "      <td>0.0</td>\n",
       "      <td>4.0</td>\n",
       "      <td>3646.0</td>\n",
       "      <td>0.0</td>\n",
       "      <td>0.0</td>\n",
       "      <td>0.0</td>\n",
       "      <td>0.745415</td>\n",
       "      <td>5.0</td>\n",
       "      <td>0.254585</td>\n",
       "    </tr>\n",
       "  </tbody>\n",
       "</table>\n",
       "</div>"
      ],
      "text/plain": [
       "   choice  repeat      rt  subject  trial  item_value_0    gaze_0  \\\n",
       "0     1.0     0.0  4480.0      0.0    0.0           0.0  0.745415   \n",
       "1     1.0     1.0  3124.0      0.0    0.0           0.0  0.745415   \n",
       "2     0.0     2.0  3644.0      0.0    0.0           0.0  0.745415   \n",
       "3     0.0     3.0  3581.0      0.0    0.0           0.0  0.745415   \n",
       "4     0.0     4.0  3646.0      0.0    0.0           0.0  0.745415   \n",
       "\n",
       "   item_value_1    gaze_1  \n",
       "0           5.0  0.254585  \n",
       "1           5.0  0.254585  \n",
       "2           5.0  0.254585  \n",
       "3           5.0  0.254585  \n",
       "4           5.0  0.254585  "
      ]
     },
     "execution_count": 9,
     "metadata": {},
     "output_type": "execute_result"
    }
   ],
   "source": [
    "# Predictions\n",
    "print('Predicting individual subject data using no-bias GLAM...')\n",
    "\n",
    "if not os.path.exists(str('results/predictions/glam_FF2018_nobias_individual'+sufix+'.csv')):\n",
    "    glam_nobias.predict(n_repeats=50)\n",
    "    glam_nobias.prediction.to_csv(str('results/predictions/glam_FF2018_nobias_individual'+sufix+'.csv'), index=False)\n",
    "else:\n",
    "    print('  Found old individual full GLAM predictions in \"results/predictions\". Skipping prediction...')\n",
    "    glam_nobias.prediction = pd.read_csv(str('results/predictions/glam_FF2018_nobias_individual'+sufix+'.csv'))\n",
    "\n",
    "glam_nobias.prediction.head()"
   ]
  },
  {
   "cell_type": "markdown",
   "metadata": {},
   "source": [
    "## 2. Plot fit"
   ]
  },
  {
   "cell_type": "code",
   "execution_count": 10,
   "metadata": {},
   "outputs": [
    {
     "name": "stdout",
     "output_type": "stream",
     "text": [
      "Close Figure to continue...\n"
     ]
    },
    {
     "data": {
      "image/png": "[encoded data removed]",
      "text/plain": [
       "<Figure size 864x216 with 4 Axes>"
      ]
     },
     "metadata": {},
     "output_type": "display_data"
    }
   ],
   "source": [
    "print('Close Figure to continue...')\n",
    "glam.plot_fit(data, [glam_full.prediction, glam_nobias.prediction]);\n",
    "plt.show()"
   ]
  },
  {
   "cell_type": "markdown",
   "metadata": {},
   "source": [
    "## Estimated Params"
   ]
  },
  {
   "cell_type": "code",
   "execution_count": 11,
   "metadata": {},
   "outputs": [],
   "source": [
    "## TO PLOT ESTIMATED PARAMETERS ##\n",
    "\n",
    "params_participant = pd.DataFrame(columns=['SNR','b','gamma','p_error','s','t0','tau','v'])\n",
    "for i in range(len(glam_full.estimates)):\n",
    "    df1 = pd.DataFrame.from_dict(glam_full.estimates[i])\n",
    "    params_participant = pd.concat([params_participant, df1])\n",
    "    \n",
    "params_participant = params_participant.reset_index(drop=True)"
   ]
  },
  {
   "cell_type": "code",
   "execution_count": 12,
   "metadata": {},
   "outputs": [
    {
     "data": {
      "text/html": [
       "<div>\n",
       "<style scoped>\n",
       "    .dataframe tbody tr th:only-of-type {\n",
       "        vertical-align: middle;\n",
       "    }\n",
       "\n",
       "    .dataframe tbody tr th {\n",
       "        vertical-align: top;\n",
       "    }\n",
       "\n",
       "    .dataframe thead th {\n",
       "        text-align: right;\n",
       "    }\n",
       "</style>\n",
       "<table border=\"1\" class=\"dataframe\">\n",
       "  <thead>\n",
       "    <tr style=\"text-align: right;\">\n",
       "      <th></th>\n",
       "      <th>SNR</th>\n",
       "      <th>b</th>\n",
       "      <th>gamma</th>\n",
       "      <th>p_error</th>\n",
       "      <th>s</th>\n",
       "      <th>t0</th>\n",
       "      <th>tau</th>\n",
       "      <th>v</th>\n",
       "    </tr>\n",
       "  </thead>\n",
       "  <tbody>\n",
       "    <tr>\n",
       "      <th>0</th>\n",
       "      <td>40.38</td>\n",
       "      <td>1.0</td>\n",
       "      <td>-0.14</td>\n",
       "      <td>0.05</td>\n",
       "      <td>0.003008</td>\n",
       "      <td>0.0</td>\n",
       "      <td>0.71</td>\n",
       "      <td>0.000047</td>\n",
       "    </tr>\n",
       "    <tr>\n",
       "      <th>1</th>\n",
       "      <td>184.99</td>\n",
       "      <td>1.0</td>\n",
       "      <td>-0.99</td>\n",
       "      <td>0.05</td>\n",
       "      <td>0.010956</td>\n",
       "      <td>0.0</td>\n",
       "      <td>0.01</td>\n",
       "      <td>0.000052</td>\n",
       "    </tr>\n",
       "    <tr>\n",
       "      <th>2</th>\n",
       "      <td>184.36</td>\n",
       "      <td>1.0</td>\n",
       "      <td>-0.98</td>\n",
       "      <td>0.05</td>\n",
       "      <td>0.009439</td>\n",
       "      <td>0.0</td>\n",
       "      <td>0.01</td>\n",
       "      <td>0.000049</td>\n",
       "    </tr>\n",
       "    <tr>\n",
       "      <th>3</th>\n",
       "      <td>151.52</td>\n",
       "      <td>1.0</td>\n",
       "      <td>-0.99</td>\n",
       "      <td>0.05</td>\n",
       "      <td>0.008225</td>\n",
       "      <td>0.0</td>\n",
       "      <td>0.96</td>\n",
       "      <td>0.000053</td>\n",
       "    </tr>\n",
       "    <tr>\n",
       "      <th>4</th>\n",
       "      <td>183.36</td>\n",
       "      <td>1.0</td>\n",
       "      <td>-0.99</td>\n",
       "      <td>0.05</td>\n",
       "      <td>0.010870</td>\n",
       "      <td>0.0</td>\n",
       "      <td>4.68</td>\n",
       "      <td>0.000055</td>\n",
       "    </tr>\n",
       "    <tr>\n",
       "      <th>5</th>\n",
       "      <td>143.55</td>\n",
       "      <td>1.0</td>\n",
       "      <td>-0.98</td>\n",
       "      <td>0.05</td>\n",
       "      <td>0.007897</td>\n",
       "      <td>0.0</td>\n",
       "      <td>0.37</td>\n",
       "      <td>0.000060</td>\n",
       "    </tr>\n",
       "    <tr>\n",
       "      <th>6</th>\n",
       "      <td>171.05</td>\n",
       "      <td>1.0</td>\n",
       "      <td>-0.99</td>\n",
       "      <td>0.05</td>\n",
       "      <td>0.009588</td>\n",
       "      <td>0.0</td>\n",
       "      <td>0.01</td>\n",
       "      <td>0.000062</td>\n",
       "    </tr>\n",
       "    <tr>\n",
       "      <th>7</th>\n",
       "      <td>137.64</td>\n",
       "      <td>1.0</td>\n",
       "      <td>0.63</td>\n",
       "      <td>0.05</td>\n",
       "      <td>0.007361</td>\n",
       "      <td>0.0</td>\n",
       "      <td>0.03</td>\n",
       "      <td>0.000049</td>\n",
       "    </tr>\n",
       "    <tr>\n",
       "      <th>8</th>\n",
       "      <td>138.75</td>\n",
       "      <td>1.0</td>\n",
       "      <td>-0.98</td>\n",
       "      <td>0.05</td>\n",
       "      <td>0.008136</td>\n",
       "      <td>0.0</td>\n",
       "      <td>0.56</td>\n",
       "      <td>0.000057</td>\n",
       "    </tr>\n",
       "    <tr>\n",
       "      <th>9</th>\n",
       "      <td>118.48</td>\n",
       "      <td>1.0</td>\n",
       "      <td>-0.99</td>\n",
       "      <td>0.05</td>\n",
       "      <td>0.008029</td>\n",
       "      <td>0.0</td>\n",
       "      <td>3.68</td>\n",
       "      <td>0.000057</td>\n",
       "    </tr>\n",
       "    <tr>\n",
       "      <th>10</th>\n",
       "      <td>67.23</td>\n",
       "      <td>1.0</td>\n",
       "      <td>-0.99</td>\n",
       "      <td>0.05</td>\n",
       "      <td>0.004280</td>\n",
       "      <td>0.0</td>\n",
       "      <td>0.43</td>\n",
       "      <td>0.000053</td>\n",
       "    </tr>\n",
       "    <tr>\n",
       "      <th>11</th>\n",
       "      <td>128.42</td>\n",
       "      <td>1.0</td>\n",
       "      <td>-0.99</td>\n",
       "      <td>0.05</td>\n",
       "      <td>0.007727</td>\n",
       "      <td>0.0</td>\n",
       "      <td>0.76</td>\n",
       "      <td>0.000061</td>\n",
       "    </tr>\n",
       "    <tr>\n",
       "      <th>12</th>\n",
       "      <td>45.27</td>\n",
       "      <td>1.0</td>\n",
       "      <td>0.24</td>\n",
       "      <td>0.05</td>\n",
       "      <td>0.002549</td>\n",
       "      <td>0.0</td>\n",
       "      <td>0.69</td>\n",
       "      <td>0.000075</td>\n",
       "    </tr>\n",
       "    <tr>\n",
       "      <th>13</th>\n",
       "      <td>154.81</td>\n",
       "      <td>1.0</td>\n",
       "      <td>0.48</td>\n",
       "      <td>0.05</td>\n",
       "      <td>0.010840</td>\n",
       "      <td>0.0</td>\n",
       "      <td>0.70</td>\n",
       "      <td>0.000042</td>\n",
       "    </tr>\n",
       "    <tr>\n",
       "      <th>14</th>\n",
       "      <td>185.87</td>\n",
       "      <td>1.0</td>\n",
       "      <td>-0.99</td>\n",
       "      <td>0.05</td>\n",
       "      <td>0.007834</td>\n",
       "      <td>0.0</td>\n",
       "      <td>0.37</td>\n",
       "      <td>0.000042</td>\n",
       "    </tr>\n",
       "    <tr>\n",
       "      <th>15</th>\n",
       "      <td>110.66</td>\n",
       "      <td>1.0</td>\n",
       "      <td>-0.89</td>\n",
       "      <td>0.05</td>\n",
       "      <td>0.007124</td>\n",
       "      <td>0.0</td>\n",
       "      <td>0.84</td>\n",
       "      <td>0.000064</td>\n",
       "    </tr>\n",
       "    <tr>\n",
       "      <th>16</th>\n",
       "      <td>97.15</td>\n",
       "      <td>1.0</td>\n",
       "      <td>-0.99</td>\n",
       "      <td>0.05</td>\n",
       "      <td>0.006926</td>\n",
       "      <td>0.0</td>\n",
       "      <td>0.77</td>\n",
       "      <td>0.000074</td>\n",
       "    </tr>\n",
       "    <tr>\n",
       "      <th>17</th>\n",
       "      <td>183.23</td>\n",
       "      <td>1.0</td>\n",
       "      <td>-0.92</td>\n",
       "      <td>0.05</td>\n",
       "      <td>0.008677</td>\n",
       "      <td>0.0</td>\n",
       "      <td>4.97</td>\n",
       "      <td>0.000046</td>\n",
       "    </tr>\n",
       "    <tr>\n",
       "      <th>18</th>\n",
       "      <td>107.14</td>\n",
       "      <td>1.0</td>\n",
       "      <td>-0.95</td>\n",
       "      <td>0.05</td>\n",
       "      <td>0.007262</td>\n",
       "      <td>0.0</td>\n",
       "      <td>0.01</td>\n",
       "      <td>0.000063</td>\n",
       "    </tr>\n",
       "    <tr>\n",
       "      <th>19</th>\n",
       "      <td>130.99</td>\n",
       "      <td>1.0</td>\n",
       "      <td>-0.99</td>\n",
       "      <td>0.05</td>\n",
       "      <td>0.008361</td>\n",
       "      <td>0.0</td>\n",
       "      <td>1.18</td>\n",
       "      <td>0.000068</td>\n",
       "    </tr>\n",
       "    <tr>\n",
       "      <th>20</th>\n",
       "      <td>194.13</td>\n",
       "      <td>1.0</td>\n",
       "      <td>-0.99</td>\n",
       "      <td>0.05</td>\n",
       "      <td>0.008725</td>\n",
       "      <td>0.0</td>\n",
       "      <td>0.91</td>\n",
       "      <td>0.000041</td>\n",
       "    </tr>\n",
       "    <tr>\n",
       "      <th>21</th>\n",
       "      <td>168.25</td>\n",
       "      <td>1.0</td>\n",
       "      <td>-0.99</td>\n",
       "      <td>0.05</td>\n",
       "      <td>0.006102</td>\n",
       "      <td>0.0</td>\n",
       "      <td>0.51</td>\n",
       "      <td>0.000034</td>\n",
       "    </tr>\n",
       "    <tr>\n",
       "      <th>22</th>\n",
       "      <td>112.13</td>\n",
       "      <td>1.0</td>\n",
       "      <td>-0.99</td>\n",
       "      <td>0.05</td>\n",
       "      <td>0.009383</td>\n",
       "      <td>0.0</td>\n",
       "      <td>0.86</td>\n",
       "      <td>0.000083</td>\n",
       "    </tr>\n",
       "    <tr>\n",
       "      <th>23</th>\n",
       "      <td>197.40</td>\n",
       "      <td>1.0</td>\n",
       "      <td>-0.99</td>\n",
       "      <td>0.05</td>\n",
       "      <td>0.007670</td>\n",
       "      <td>0.0</td>\n",
       "      <td>0.81</td>\n",
       "      <td>0.000040</td>\n",
       "    </tr>\n",
       "    <tr>\n",
       "      <th>24</th>\n",
       "      <td>51.57</td>\n",
       "      <td>1.0</td>\n",
       "      <td>0.52</td>\n",
       "      <td>0.05</td>\n",
       "      <td>0.004873</td>\n",
       "      <td>0.0</td>\n",
       "      <td>1.21</td>\n",
       "      <td>0.000048</td>\n",
       "    </tr>\n",
       "    <tr>\n",
       "      <th>25</th>\n",
       "      <td>245.21</td>\n",
       "      <td>1.0</td>\n",
       "      <td>-0.99</td>\n",
       "      <td>0.05</td>\n",
       "      <td>0.011035</td>\n",
       "      <td>0.0</td>\n",
       "      <td>1.35</td>\n",
       "      <td>0.000039</td>\n",
       "    </tr>\n",
       "    <tr>\n",
       "      <th>26</th>\n",
       "      <td>379.88</td>\n",
       "      <td>1.0</td>\n",
       "      <td>-0.99</td>\n",
       "      <td>0.05</td>\n",
       "      <td>0.010609</td>\n",
       "      <td>0.0</td>\n",
       "      <td>1.43</td>\n",
       "      <td>0.000029</td>\n",
       "    </tr>\n",
       "    <tr>\n",
       "      <th>27</th>\n",
       "      <td>39.22</td>\n",
       "      <td>1.0</td>\n",
       "      <td>0.66</td>\n",
       "      <td>0.05</td>\n",
       "      <td>0.003958</td>\n",
       "      <td>0.0</td>\n",
       "      <td>1.12</td>\n",
       "      <td>0.000100</td>\n",
       "    </tr>\n",
       "    <tr>\n",
       "      <th>28</th>\n",
       "      <td>332.99</td>\n",
       "      <td>1.0</td>\n",
       "      <td>-0.99</td>\n",
       "      <td>0.05</td>\n",
       "      <td>0.008612</td>\n",
       "      <td>0.0</td>\n",
       "      <td>0.01</td>\n",
       "      <td>0.000025</td>\n",
       "    </tr>\n",
       "    <tr>\n",
       "      <th>29</th>\n",
       "      <td>185.57</td>\n",
       "      <td>1.0</td>\n",
       "      <td>-0.99</td>\n",
       "      <td>0.05</td>\n",
       "      <td>0.008197</td>\n",
       "      <td>0.0</td>\n",
       "      <td>0.92</td>\n",
       "      <td>0.000041</td>\n",
       "    </tr>\n",
       "    <tr>\n",
       "      <th>30</th>\n",
       "      <td>232.41</td>\n",
       "      <td>1.0</td>\n",
       "      <td>-0.82</td>\n",
       "      <td>0.05</td>\n",
       "      <td>0.010219</td>\n",
       "      <td>0.0</td>\n",
       "      <td>1.40</td>\n",
       "      <td>0.000039</td>\n",
       "    </tr>\n",
       "    <tr>\n",
       "      <th>31</th>\n",
       "      <td>159.72</td>\n",
       "      <td>1.0</td>\n",
       "      <td>-0.53</td>\n",
       "      <td>0.05</td>\n",
       "      <td>0.008910</td>\n",
       "      <td>0.0</td>\n",
       "      <td>0.64</td>\n",
       "      <td>0.000051</td>\n",
       "    </tr>\n",
       "    <tr>\n",
       "      <th>32</th>\n",
       "      <td>232.71</td>\n",
       "      <td>1.0</td>\n",
       "      <td>-0.99</td>\n",
       "      <td>0.05</td>\n",
       "      <td>0.007892</td>\n",
       "      <td>0.0</td>\n",
       "      <td>0.46</td>\n",
       "      <td>0.000032</td>\n",
       "    </tr>\n",
       "  </tbody>\n",
       "</table>\n",
       "</div>"
      ],
      "text/plain": [
       "       SNR    b  gamma  p_error         s   t0   tau         v\n",
       "0    40.38  1.0  -0.14     0.05  0.003008  0.0  0.71  0.000047\n",
       "1   184.99  1.0  -0.99     0.05  0.010956  0.0  0.01  0.000052\n",
       "2   184.36  1.0  -0.98     0.05  0.009439  0.0  0.01  0.000049\n",
       "3   151.52  1.0  -0.99     0.05  0.008225  0.0  0.96  0.000053\n",
       "4   183.36  1.0  -0.99     0.05  0.010870  0.0  4.68  0.000055\n",
       "5   143.55  1.0  -0.98     0.05  0.007897  0.0  0.37  0.000060\n",
       "6   171.05  1.0  -0.99     0.05  0.009588  0.0  0.01  0.000062\n",
       "7   137.64  1.0   0.63     0.05  0.007361  0.0  0.03  0.000049\n",
       "8   138.75  1.0  -0.98     0.05  0.008136  0.0  0.56  0.000057\n",
       "9   118.48  1.0  -0.99     0.05  0.008029  0.0  3.68  0.000057\n",
       "10   67.23  1.0  -0.99     0.05  0.004280  0.0  0.43  0.000053\n",
       "11  128.42  1.0  -0.99     0.05  0.007727  0.0  0.76  0.000061\n",
       "12   45.27  1.0   0.24     0.05  0.002549  0.0  0.69  0.000075\n",
       "13  154.81  1.0   0.48     0.05  0.010840  0.0  0.70  0.000042\n",
       "14  185.87  1.0  -0.99     0.05  0.007834  0.0  0.37  0.000042\n",
       "15  110.66  1.0  -0.89     0.05  0.007124  0.0  0.84  0.000064\n",
       "16   97.15  1.0  -0.99     0.05  0.006926  0.0  0.77  0.000074\n",
       "17  183.23  1.0  -0.92     0.05  0.008677  0.0  4.97  0.000046\n",
       "18  107.14  1.0  -0.95     0.05  0.007262  0.0  0.01  0.000063\n",
       "19  130.99  1.0  -0.99     0.05  0.008361  0.0  1.18  0.000068\n",
       "20  194.13  1.0  -0.99     0.05  0.008725  0.0  0.91  0.000041\n",
       "21  168.25  1.0  -0.99     0.05  0.006102  0.0  0.51  0.000034\n",
       "22  112.13  1.0  -0.99     0.05  0.009383  0.0  0.86  0.000083\n",
       "23  197.40  1.0  -0.99     0.05  0.007670  0.0  0.81  0.000040\n",
       "24   51.57  1.0   0.52     0.05  0.004873  0.0  1.21  0.000048\n",
       "25  245.21  1.0  -0.99     0.05  0.011035  0.0  1.35  0.000039\n",
       "26  379.88  1.0  -0.99     0.05  0.010609  0.0  1.43  0.000029\n",
       "27   39.22  1.0   0.66     0.05  0.003958  0.0  1.12  0.000100\n",
       "28  332.99  1.0  -0.99     0.05  0.008612  0.0  0.01  0.000025\n",
       "29  185.57  1.0  -0.99     0.05  0.008197  0.0  0.92  0.000041\n",
       "30  232.41  1.0  -0.82     0.05  0.010219  0.0  1.40  0.000039\n",
       "31  159.72  1.0  -0.53     0.05  0.008910  0.0  0.64  0.000051\n",
       "32  232.71  1.0  -0.99     0.05  0.007892  0.0  0.46  0.000032"
      ]
     },
     "execution_count": 12,
     "metadata": {},
     "output_type": "execute_result"
    }
   ],
   "source": [
    "params_participant"
   ]
  },
  {
   "cell_type": "code",
   "execution_count": 13,
   "metadata": {},
   "outputs": [
    {
     "name": "stdout",
     "output_type": "stream",
     "text": [
      "Mean gamma -0.711212121212121\n"
     ]
    }
   ],
   "source": [
    "print (\"Mean gamma \" +  str(params_participant['gamma'].mean()))"
   ]
  },
  {
   "cell_type": "code",
   "execution_count": 14,
   "metadata": {},
   "outputs": [
    {
     "data": {
      "image/png": "[encoded data removed]",
      "text/plain": [
       "<Figure size 1440x216 with 4 Axes>"
      ]
     },
     "metadata": {},
     "output_type": "display_data"
    }
   ],
   "source": [
    "hist = params_participant[['SNR','gamma','tau','v']].hist(figsize = [20,3] , layout=[1,4],bins = 20)"
   ]
  },
  {
   "cell_type": "code",
   "execution_count": null,
   "metadata": {},
   "outputs": [],
   "source": []
  },
  {
   "cell_type": "markdown",
   "metadata": {},
   "source": [
    "## [END]"
   ]
  },
  {
   "cell_type": "code",
   "execution_count": null,
   "metadata": {},
   "outputs": [],
   "source": []
  },
  {
   "cell_type": "code",
   "execution_count": null,
   "metadata": {},
   "outputs": [],
   "source": [
    "testa = glam_full.prediction"
   ]
  },
  {
   "cell_type": "code",
   "execution_count": null,
   "metadata": {},
   "outputs": [],
   "source": [
    "xlims =(0, 10)\n",
    "\n",
    "# Compute relevant variables\n",
    "df = glam.plots.add_difficulty(testa)\n",
    "\n",
    "# Compute summary statistics\n",
    "subject_means = df.groupby(['subject', 'difficulty']).rt.mean()\n",
    "means = subject_means.groupby('difficulty').mean()[xlims[0]:xlims[1]]\n",
    "sems = subject_means.groupby('difficulty').sem()[xlims[0]:xlims[1]]\n"
   ]
  },
  {
   "cell_type": "code",
   "execution_count": null,
   "metadata": {},
   "outputs": [],
   "source": [
    "subject_means[32]"
   ]
  },
  {
   "cell_type": "code",
   "execution_count": null,
   "metadata": {},
   "outputs": [],
   "source": [
    "means"
   ]
  },
  {
   "cell_type": "code",
   "execution_count": null,
   "metadata": {},
   "outputs": [],
   "source": []
  },
  {
   "cell_type": "code",
   "execution_count": null,
   "metadata": {},
   "outputs": [],
   "source": [
    "testa = glam_nobias.prediction"
   ]
  },
  {
   "cell_type": "code",
   "execution_count": null,
   "metadata": {},
   "outputs": [],
   "source": [
    "xlims =(0, 10)\n",
    "\n",
    "# Compute relevant variables\n",
    "df = glam.plots.add_difficulty(testa)\n",
    "\n",
    "# Compute summary statistics\n",
    "subject_means = df.groupby(['subject', 'difficulty']).rt.mean()\n",
    "means = subject_means.groupby('difficulty').mean()[xlims[0]:xlims[1]]\n",
    "sems = subject_means.groupby('difficulty').sem()[xlims[0]:xlims[1]]\n"
   ]
  },
  {
   "cell_type": "code",
   "execution_count": null,
   "metadata": {},
   "outputs": [],
   "source": [
    "subject_means[31]"
   ]
  },
  {
   "cell_type": "code",
   "execution_count": null,
   "metadata": {},
   "outputs": [],
   "source": [
    "means"
   ]
  },
  {
   "cell_type": "code",
   "execution_count": null,
   "metadata": {},
   "outputs": [],
   "source": []
  },
  {
   "cell_type": "markdown",
   "metadata": {},
   "source": [
    "## Just Tests"
   ]
  },
  {
   "cell_type": "code",
   "execution_count": null,
   "metadata": {},
   "outputs": [],
   "source": [
    "data\n",
    "data_difficulty = glam.plots.add_difficulty(data)"
   ]
  },
  {
   "cell_type": "code",
   "execution_count": null,
   "metadata": {},
   "outputs": [],
   "source": [
    "data_difficulty "
   ]
  },
  {
   "cell_type": "code",
   "execution_count": null,
   "metadata": {},
   "outputs": [],
   "source": []
  },
  {
   "cell_type": "code",
   "execution_count": null,
   "metadata": {},
   "outputs": [],
   "source": []
  },
  {
   "cell_type": "code",
   "execution_count": null,
   "metadata": {},
   "outputs": [],
   "source": []
  },
  {
   "cell_type": "code",
   "execution_count": null,
   "metadata": {},
   "outputs": [],
   "source": [
    "data.to_csv('test_erasable.csv', index=False)"
   ]
  },
  {
   "cell_type": "code",
   "execution_count": null,
   "metadata": {},
   "outputs": [],
   "source": [
    "glam.plots.add_difficulty(data)"
   ]
  },
  {
   "cell_type": "code",
   "execution_count": null,
   "metadata": {},
   "outputs": [],
   "source": [
    "fig, axs = plt.subplots(1, 4, figsize=(12, 3))\n",
    "\n",
    "glam.plots.plot_rt_by_difficulty(data,\n",
    "                          xlims=(0, 10), xlabel_skip=2,\n",
    "                          ax=axs[0])\n",
    "\n",
    "#plot_rt_by_difficulty(data, predictions=None, ax=None, xlims=(1.5, 8.5), xlabel_skip=2)"
   ]
  },
  {
   "cell_type": "code",
   "execution_count": null,
   "metadata": {},
   "outputs": [],
   "source": [
    "fig"
   ]
  },
  {
   "cell_type": "code",
   "execution_count": null,
   "metadata": {},
   "outputs": [],
   "source": [
    "axs"
   ]
  },
  {
   "cell_type": "code",
   "execution_count": null,
   "metadata": {},
   "outputs": [],
   "source": [
    "dataframes"
   ]
  },
  {
   "cell_type": "code",
   "execution_count": null,
   "metadata": {},
   "outputs": [],
   "source": [
    "#if predictions is None:\n",
    "xlims=(0, 10)\n",
    "df = glam.plots.add_difficulty(data)\n",
    "subject_means = df.groupby(['subject', 'difficulty']).rt.mean()\n",
    "means = subject_means.groupby('difficulty').mean()[xlims[0]:xlims[1]]\n",
    "sems = subject_means.groupby('difficulty').sem()[xlims[0]:xlims[1]]\n",
    "\n",
    "#elif isinstance(predictions, list):\n",
    "#    dataframes = [data] + predictions\n",
    "#else:\n",
    "#    dataframes = [data] + [predictions]"
   ]
  },
  {
   "cell_type": "code",
   "execution_count": null,
   "metadata": {},
   "outputs": [],
   "source": [
    "x = np.arange(len(means))\n",
    "predicted = False\n",
    "if not predicted:  # plot underlying data\n",
    "    ax.bar(x, means,\n",
    "            linewidth=1, edgecolor='k', facecolor='w',\n",
    "            width=0.5)\n",
    "    ax.vlines(x, means - sems, means + sems,\n",
    "            linewidth=1, color='k')\n"
   ]
  },
  {
   "cell_type": "code",
   "execution_count": null,
   "metadata": {},
   "outputs": [],
   "source": [
    "ax"
   ]
  },
  {
   "cell_type": "code",
   "execution_count": null,
   "metadata": {},
   "outputs": [],
   "source": [
    "for i, dataframe in enumerate(dataframes):\n",
    "\n",
    "        df = dataframe.copy()\n",
    "\n",
    "        # Compute relevant variables\n",
    "        df = add_difficulty(df)\n",
    "\n",
    "        # Compute summary statistics\n",
    "        subject_means = df.groupby(['subject', 'difficulty']).rt.mean()\n",
    "        means = subject_means.groupby('difficulty').mean()[xlims[0]:xlims[1]]\n",
    "        sems = subject_means.groupby('difficulty').sem()[xlims[0]:xlims[1]]\n",
    "\n",
    "        x = np.arange(len(means))\n",
    "\n",
    "        predicted = False if i == 0 else True\n",
    "\n",
    "        if not predicted:  # plot underlying data\n",
    "            ax.bar(x, means,\n",
    "                   linewidth=1, edgecolor='k', facecolor='w',\n",
    "                   width=0.5)\n",
    "            ax.vlines(x, means - sems, means + sems,\n",
    "                      linewidth=1, color='k')\n",
    "\n",
    "        else:  # plot predictions\n",
    "            ax.plot(x, means, '--o', markerfacecolor='none')"
   ]
  },
  {
   "cell_type": "code",
   "execution_count": null,
   "metadata": {},
   "outputs": [],
   "source": []
  }
 ],
 "metadata": {
  "kernelspec": {
   "display_name": "Python 3",
   "language": "python",
   "name": "python3"
  },
  "language_info": {
   "codemirror_mode": {
    "name": "ipython",
    "version": 3
   },
   "file_extension": ".py",
   "mimetype": "text/x-python",
   "name": "python",
   "nbconvert_exporter": "python",
   "pygments_lexer": "ipython3",
   "version": "3.5.5"
  }
 },
 "nbformat": 4,
 "nbformat_minor": 2
}
