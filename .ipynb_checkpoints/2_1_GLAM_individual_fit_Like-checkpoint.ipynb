{
 "cells": [
  {
   "cell_type": "code",
   "execution_count": 13,
   "metadata": {},
   "outputs": [],
   "source": [
    "import glam\n",
    "import pandas as pd\n",
    "import numpy as np\n",
    "import os.path\n",
    "\n",
    "import matplotlib.pyplot as plt\n",
    "from analysis_functions import make_sure_path_exists"
   ]
  },
  {
   "cell_type": "code",
   "execution_count": 14,
   "metadata": {
    "collapsed": true
   },
   "outputs": [],
   "source": [
    "make_sure_path_exists('results/estimates')\n",
    "make_sure_path_exists('results/dic')\n",
    "make_sure_path_exists('results/predictions')"
   ]
  },
  {
   "cell_type": "code",
   "execution_count": 15,
   "metadata": {
    "collapsed": true
   },
   "outputs": [],
   "source": [
    "np.random.seed(23) # from random.org"
   ]
  },
  {
   "cell_type": "markdown",
   "metadata": {},
   "source": [
    "# 2.1 GLAM Individual Fits"
   ]
  },
  {
   "cell_type": "markdown",
   "metadata": {},
   "source": [
    "## Load data"
   ]
  },
  {
   "cell_type": "code",
   "execution_count": 16,
   "metadata": {},
   "outputs": [
    {
     "data": {
      "text/html": [
       "<div>\n",
       "<style scoped>\n",
       "    .dataframe tbody tr th:only-of-type {\n",
       "        vertical-align: middle;\n",
       "    }\n",
       "\n",
       "    .dataframe tbody tr th {\n",
       "        vertical-align: top;\n",
       "    }\n",
       "\n",
       "    .dataframe thead th {\n",
       "        text-align: right;\n",
       "    }\n",
       "</style>\n",
       "<table border=\"1\" class=\"dataframe\">\n",
       "  <thead>\n",
       "    <tr style=\"text-align: right;\">\n",
       "      <th></th>\n",
       "      <th>subject</th>\n",
       "      <th>trial</th>\n",
       "      <th>choice</th>\n",
       "      <th>rt</th>\n",
       "      <th>item_value_0</th>\n",
       "      <th>item_value_1</th>\n",
       "      <th>gaze_0</th>\n",
       "      <th>gaze_1</th>\n",
       "    </tr>\n",
       "  </thead>\n",
       "  <tbody>\n",
       "    <tr>\n",
       "      <th>0</th>\n",
       "      <td>0</td>\n",
       "      <td>0</td>\n",
       "      <td>0</td>\n",
       "      <td>2009</td>\n",
       "      <td>0</td>\n",
       "      <td>5</td>\n",
       "      <td>0.568396</td>\n",
       "      <td>0.431604</td>\n",
       "    </tr>\n",
       "    <tr>\n",
       "      <th>1</th>\n",
       "      <td>0</td>\n",
       "      <td>1</td>\n",
       "      <td>0</td>\n",
       "      <td>3371</td>\n",
       "      <td>5</td>\n",
       "      <td>4</td>\n",
       "      <td>0.762332</td>\n",
       "      <td>0.237668</td>\n",
       "    </tr>\n",
       "    <tr>\n",
       "      <th>2</th>\n",
       "      <td>0</td>\n",
       "      <td>2</td>\n",
       "      <td>1</td>\n",
       "      <td>1700</td>\n",
       "      <td>0</td>\n",
       "      <td>5</td>\n",
       "      <td>0.446809</td>\n",
       "      <td>0.553191</td>\n",
       "    </tr>\n",
       "    <tr>\n",
       "      <th>3</th>\n",
       "      <td>0</td>\n",
       "      <td>3</td>\n",
       "      <td>1</td>\n",
       "      <td>7466</td>\n",
       "      <td>1</td>\n",
       "      <td>2</td>\n",
       "      <td>0.532352</td>\n",
       "      <td>0.467648</td>\n",
       "    </tr>\n",
       "    <tr>\n",
       "      <th>4</th>\n",
       "      <td>0</td>\n",
       "      <td>4</td>\n",
       "      <td>1</td>\n",
       "      <td>1889</td>\n",
       "      <td>5</td>\n",
       "      <td>5</td>\n",
       "      <td>0.529736</td>\n",
       "      <td>0.470264</td>\n",
       "    </tr>\n",
       "  </tbody>\n",
       "</table>\n",
       "</div>"
      ],
      "text/plain": [
       "   subject  trial  choice    rt  item_value_0  item_value_1    gaze_0  \\\n",
       "0        0      0       0  2009             0             5  0.568396   \n",
       "1        0      1       0  3371             5             4  0.762332   \n",
       "2        0      2       1  1700             0             5  0.446809   \n",
       "3        0      3       1  7466             1             2  0.532352   \n",
       "4        0      4       1  1889             5             5  0.529736   \n",
       "\n",
       "     gaze_1  \n",
       "0  0.431604  \n",
       "1  0.237668  \n",
       "2  0.553191  \n",
       "3  0.467648  \n",
       "4  0.470264  "
      ]
     },
     "execution_count": 16,
     "metadata": {},
     "output_type": "execute_result"
    }
   ],
   "source": [
    "# Load data\n",
    "data = pd.read_csv('data/FF2018_data/GlamDataFF2018_Like.csv')\n",
    "# Subset only necessary columns\n",
    "data = data[['subject', 'trial', 'choice', 'rt',\n",
    "         'item_value_0', 'item_value_1',\n",
    "         'gaze_0', 'gaze_1']]\n",
    "data.head()"
   ]
  },
  {
   "cell_type": "markdown",
   "metadata": {},
   "source": [
    "## Fit GLAM variants individually"
   ]
  },
  {
   "cell_type": "markdown",
   "metadata": {},
   "source": [
    "### 1. full GLAM"
   ]
  },
  {
   "cell_type": "code",
   "execution_count": 17,
   "metadata": {
    "scrolled": false
   },
   "outputs": [
    {
     "name": "stdout",
     "output_type": "stream",
     "text": [
      "Fitting full GLAM individually...\n",
      "Generating single subject models for 33 subjects...\n",
      "  Found old parameter estimates in \"results/estimates\". Skipping estimation...\n"
     ]
    }
   ],
   "source": [
    "# Fitting full GLAM\n",
    "print('Fitting full GLAM individually...')\n",
    "\n",
    "glam_full = glam.GLAM(data)\n",
    "glam_full.make_model('individual', gamma_bounds=(-1, 1), t0_val=0)\n",
    "\n",
    "if not os.path.exists('results/estimates/glam_full_individual_like.npy'):\n",
    "    glam_full.fit(method='NUTS', tune=1000)\n",
    "else:\n",
    "    print('  Found old parameter estimates in \"results/estimates\". Skipping estimation...')\n",
    "    glam_full.estimates = np.load('results/estimates/glam_full_individual_like.npy')\n",
    "    \n",
    "# Save parameter estimates\n",
    "np.save('results/estimates/glam_full_individual_like.npy', glam_full.estimates)"
   ]
  },
  {
   "cell_type": "code",
   "execution_count": 18,
   "metadata": {},
   "outputs": [],
   "source": [
    "estimates_like = pd.DataFrame(glam_full.estimates)\n",
    "estimates_like.to_csv(\"results/params_estimates/params_indiv_like.csv\")"
   ]
  },
  {
   "cell_type": "code",
   "execution_count": 19,
   "metadata": {},
   "outputs": [
    {
     "data": {
      "text/plain": [
       "[<pymc3.model.Model at 0x1c255089e8>,\n",
       " <pymc3.model.Model at 0x1c25e17978>,\n",
       " <pymc3.model.Model at 0x1c2720c748>,\n",
       " <pymc3.model.Model at 0x1c28972c88>,\n",
       " <pymc3.model.Model at 0x1c291901d0>,\n",
       " <pymc3.model.Model at 0x1c23457be0>,\n",
       " <pymc3.model.Model at 0x1c22592d30>,\n",
       " <pymc3.model.Model at 0x1c227ece48>,\n",
       " <pymc3.model.Model at 0x1c2292f198>,\n",
       " <pymc3.model.Model at 0x1c292e40f0>,\n",
       " <pymc3.model.Model at 0x1c295c3550>,\n",
       " <pymc3.model.Model at 0x1c298f3400>,\n",
       " <pymc3.model.Model at 0x1c29e3d358>,\n",
       " <pymc3.model.Model at 0x1c2a11cc18>,\n",
       " <pymc3.model.Model at 0x1c2a36e7f0>,\n",
       " <pymc3.model.Model at 0x1c2a77f518>,\n",
       " <pymc3.model.Model at 0x1c2a9cada0>,\n",
       " <pymc3.model.Model at 0x1c2acfac50>,\n",
       " <pymc3.model.Model at 0x1c296c2b00>,\n",
       " <pymc3.model.Model at 0x1c224f5160>,\n",
       " <pymc3.model.Model at 0x1c2b11d630>,\n",
       " <pymc3.model.Model at 0x1c2b496b00>,\n",
       " <pymc3.model.Model at 0x1c2b7815c0>,\n",
       " <pymc3.model.Model at 0x1c2b96deb8>,\n",
       " <pymc3.model.Model at 0x1c2bcff2e8>,\n",
       " <pymc3.model.Model at 0x1c2c010f60>,\n",
       " <pymc3.model.Model at 0x1c2c2fc6d8>,\n",
       " <pymc3.model.Model at 0x1c2c539e48>,\n",
       " <pymc3.model.Model at 0x1c2d31add8>,\n",
       " <pymc3.model.Model at 0x1c2e6b1208>,\n",
       " <pymc3.model.Model at 0x1c2e9d07f0>,\n",
       " <pymc3.model.Model at 0x1c2ec22f28>,\n",
       " <pymc3.model.Model at 0x1c2ef434e0>]"
      ]
     },
     "execution_count": 19,
     "metadata": {},
     "output_type": "execute_result"
    }
   ],
   "source": [
    "glam_full.model\n"
   ]
  },
  {
   "cell_type": "code",
   "execution_count": 20,
   "metadata": {},
   "outputs": [
    {
     "name": "stdout",
     "output_type": "stream",
     "text": [
      "Predicting individual subject data using full GLAM...\n",
      "  Found old individual full GLAM predictions in \"results/predictions\". Skipping prediction...\n"
     ]
    },
    {
     "data": {
      "text/html": [
       "<div>\n",
       "<style scoped>\n",
       "    .dataframe tbody tr th:only-of-type {\n",
       "        vertical-align: middle;\n",
       "    }\n",
       "\n",
       "    .dataframe tbody tr th {\n",
       "        vertical-align: top;\n",
       "    }\n",
       "\n",
       "    .dataframe thead th {\n",
       "        text-align: right;\n",
       "    }\n",
       "</style>\n",
       "<table border=\"1\" class=\"dataframe\">\n",
       "  <thead>\n",
       "    <tr style=\"text-align: right;\">\n",
       "      <th></th>\n",
       "      <th>choice</th>\n",
       "      <th>repeat</th>\n",
       "      <th>rt</th>\n",
       "      <th>subject</th>\n",
       "      <th>trial</th>\n",
       "      <th>item_value_0</th>\n",
       "      <th>gaze_0</th>\n",
       "      <th>item_value_1</th>\n",
       "      <th>gaze_1</th>\n",
       "    </tr>\n",
       "  </thead>\n",
       "  <tbody>\n",
       "    <tr>\n",
       "      <th>0</th>\n",
       "      <td>0.0</td>\n",
       "      <td>0.0</td>\n",
       "      <td>4310.0</td>\n",
       "      <td>0.0</td>\n",
       "      <td>0.0</td>\n",
       "      <td>0</td>\n",
       "      <td>0.568396</td>\n",
       "      <td>5</td>\n",
       "      <td>0.431604</td>\n",
       "    </tr>\n",
       "    <tr>\n",
       "      <th>1</th>\n",
       "      <td>0.0</td>\n",
       "      <td>1.0</td>\n",
       "      <td>1625.0</td>\n",
       "      <td>0.0</td>\n",
       "      <td>0.0</td>\n",
       "      <td>0</td>\n",
       "      <td>0.568396</td>\n",
       "      <td>5</td>\n",
       "      <td>0.431604</td>\n",
       "    </tr>\n",
       "    <tr>\n",
       "      <th>2</th>\n",
       "      <td>0.0</td>\n",
       "      <td>2.0</td>\n",
       "      <td>3983.0</td>\n",
       "      <td>0.0</td>\n",
       "      <td>0.0</td>\n",
       "      <td>0</td>\n",
       "      <td>0.568396</td>\n",
       "      <td>5</td>\n",
       "      <td>0.431604</td>\n",
       "    </tr>\n",
       "    <tr>\n",
       "      <th>3</th>\n",
       "      <td>1.0</td>\n",
       "      <td>3.0</td>\n",
       "      <td>3738.0</td>\n",
       "      <td>0.0</td>\n",
       "      <td>0.0</td>\n",
       "      <td>0</td>\n",
       "      <td>0.568396</td>\n",
       "      <td>5</td>\n",
       "      <td>0.431604</td>\n",
       "    </tr>\n",
       "    <tr>\n",
       "      <th>4</th>\n",
       "      <td>0.0</td>\n",
       "      <td>4.0</td>\n",
       "      <td>2593.0</td>\n",
       "      <td>0.0</td>\n",
       "      <td>0.0</td>\n",
       "      <td>0</td>\n",
       "      <td>0.568396</td>\n",
       "      <td>5</td>\n",
       "      <td>0.431604</td>\n",
       "    </tr>\n",
       "  </tbody>\n",
       "</table>\n",
       "</div>"
      ],
      "text/plain": [
       "   choice  repeat      rt  subject  trial  item_value_0    gaze_0  \\\n",
       "0     0.0     0.0  4310.0      0.0    0.0             0  0.568396   \n",
       "1     0.0     1.0  1625.0      0.0    0.0             0  0.568396   \n",
       "2     0.0     2.0  3983.0      0.0    0.0             0  0.568396   \n",
       "3     1.0     3.0  3738.0      0.0    0.0             0  0.568396   \n",
       "4     0.0     4.0  2593.0      0.0    0.0             0  0.568396   \n",
       "\n",
       "   item_value_1    gaze_1  \n",
       "0             5  0.431604  \n",
       "1             5  0.431604  \n",
       "2             5  0.431604  \n",
       "3             5  0.431604  \n",
       "4             5  0.431604  "
      ]
     },
     "execution_count": 20,
     "metadata": {},
     "output_type": "execute_result"
    }
   ],
   "source": [
    "# Predictions\n",
    "print('Predicting individual subject data using full GLAM...')\n",
    "\n",
    "if not os.path.exists('results/predictions/glam_full_individual_like.csv'):\n",
    "    glam_full.predict(n_repeats=50)\n",
    "    glam_full.prediction.to_csv('results/predictions/glam_full_individual_like.csv', index=False)\n",
    "else:\n",
    "    print('  Found old individual full GLAM predictions in \"results/predictions\". Skipping prediction...')\n",
    "    glam_full.prediction = pd.read_csv('results/predictions/glam_full_individual_like.csv')\n",
    "\n",
    "glam_full.prediction.head()"
   ]
  },
  {
   "cell_type": "markdown",
   "metadata": {},
   "source": [
    "### 2 No-bias $(\\gamma=1)$ GLAM"
   ]
  },
  {
   "cell_type": "code",
   "execution_count": null,
   "metadata": {},
   "outputs": [
    {
     "name": "stdout",
     "output_type": "stream",
     "text": [
      "Fitting no-bias GLAM individually...\n",
      "Generating single subject models for 33 subjects...\n"
     ]
    },
    {
     "name": "stderr",
     "output_type": "stream",
     "text": [
      "Auto-assigning NUTS sampler...\n",
      "Initializing NUTS using jitter+adapt_diag...\n"
     ]
    },
    {
     "name": "stdout",
     "output_type": "stream",
     "text": [
      "Fitting 33 model(s) using NUTS...\n",
      "  Fitting model 1 of 33...\n"
     ]
    },
    {
     "name": "stderr",
     "output_type": "stream",
     "text": [
      "Multiprocess sampling (4 chains in 4 jobs)\n",
      "NUTS: [tau, SNR, v]\n",
      "Sampling 4 chains: 100%|██████████| 12000/12000 [00:15<00:00, 753.77draws/s]\n",
      "Auto-assigning NUTS sampler...\n",
      "Initializing NUTS using jitter+adapt_diag...\n"
     ]
    },
    {
     "name": "stdout",
     "output_type": "stream",
     "text": [
      "  Fitting model 2 of 33...\n"
     ]
    },
    {
     "name": "stderr",
     "output_type": "stream",
     "text": [
      "Multiprocess sampling (4 chains in 4 jobs)\n",
      "NUTS: [tau, SNR, v]\n",
      "Sampling 4 chains: 100%|██████████| 12000/12000 [00:15<00:00, 778.93draws/s]\n",
      "Auto-assigning NUTS sampler...\n",
      "Initializing NUTS using jitter+adapt_diag...\n"
     ]
    },
    {
     "name": "stdout",
     "output_type": "stream",
     "text": [
      "  Fitting model 3 of 33...\n"
     ]
    },
    {
     "name": "stderr",
     "output_type": "stream",
     "text": [
      "Multiprocess sampling (4 chains in 4 jobs)\n",
      "NUTS: [tau, SNR, v]\n",
      "Sampling 4 chains: 100%|██████████| 12000/12000 [00:16<00:00, 721.58draws/s]\n",
      "The acceptance probability does not match the target. It is 0.711616831131, but should be close to 0.8. Try to increase the number of tuning steps.\n",
      "The acceptance probability does not match the target. It is 0.886907516602, but should be close to 0.8. Try to increase the number of tuning steps.\n",
      "Auto-assigning NUTS sampler...\n",
      "Initializing NUTS using jitter+adapt_diag...\n"
     ]
    },
    {
     "name": "stdout",
     "output_type": "stream",
     "text": [
      "  Fitting model 4 of 33...\n"
     ]
    },
    {
     "name": "stderr",
     "output_type": "stream",
     "text": [
      "Multiprocess sampling (4 chains in 4 jobs)\n",
      "NUTS: [tau, SNR, v]\n",
      "Sampling 4 chains: 100%|██████████| 12000/12000 [00:19<00:00, 613.29draws/s]\n",
      "The number of effective samples is smaller than 25% for some parameters.\n",
      "Auto-assigning NUTS sampler...\n",
      "Initializing NUTS using jitter+adapt_diag...\n"
     ]
    },
    {
     "name": "stdout",
     "output_type": "stream",
     "text": [
      "  Fitting model 5 of 33...\n"
     ]
    },
    {
     "name": "stderr",
     "output_type": "stream",
     "text": [
      "Multiprocess sampling (4 chains in 4 jobs)\n",
      "NUTS: [tau, SNR, v]\n",
      "Sampling 4 chains: 100%|██████████| 12000/12000 [00:29<00:00, 116.56draws/s]\n",
      "There were 42 divergences after tuning. Increase `target_accept` or reparameterize.\n",
      "There were 59 divergences after tuning. Increase `target_accept` or reparameterize.\n",
      "There were 70 divergences after tuning. Increase `target_accept` or reparameterize.\n",
      "There were 47 divergences after tuning. Increase `target_accept` or reparameterize.\n",
      "The number of effective samples is smaller than 25% for some parameters.\n",
      "Auto-assigning NUTS sampler...\n",
      "Initializing NUTS using jitter+adapt_diag...\n"
     ]
    },
    {
     "name": "stdout",
     "output_type": "stream",
     "text": [
      "  Fitting model 6 of 33...\n"
     ]
    },
    {
     "name": "stderr",
     "output_type": "stream",
     "text": [
      "Multiprocess sampling (4 chains in 4 jobs)\n",
      "NUTS: [tau, SNR, v]\n",
      "Sampling 4 chains:  93%|█████████▎| 11213/12000 [15:46<06:02,  2.17draws/s]"
     ]
    }
   ],
   "source": [
    "# Fitting no-bias GLAM\n",
    "print('Fitting no-bias GLAM individually...')\n",
    "\n",
    "glam_nobias = glam.GLAM(data)\n",
    "glam_nobias.make_model('individual', gamma_val=1, t0_val=0)\n",
    "\n",
    "if not os.path.exists('results/estimates/glam_nobias_individual_like.npy'):\n",
    "    glam_nobias.fit(method='NUTS', tune=1000)\n",
    "else:\n",
    "    print('  Found old parameter estimates in \"results/estimates\". Skipping estimation...')\n",
    "    glam_nobias.estimates = np.load('results/estimates/glam_nobias_individual_like.npy')\n",
    "    \n",
    "# Save parameter estimates\n",
    "np.save('results/estimates/glam_nobias_individual_like.npy', glam_nobias.estimates)"
   ]
  },
  {
   "cell_type": "code",
   "execution_count": null,
   "metadata": {},
   "outputs": [],
   "source": [
    "# Predictions\n",
    "print('Predicting individual subject data using no-bias GLAM...')\n",
    "\n",
    "if not os.path.exists('results/predictions/glam_nobias_individual_like.csv'):\n",
    "    glam_nobias.predict(n_repeats=50)\n",
    "    glam_nobias.prediction.to_csv('results/predictions/glam_nobias_individual_like.csv', index=False)\n",
    "else:\n",
    "    print('  Found old individual full GLAM predictions in \"results/predictions\". Skipping prediction...')\n",
    "    glam_nobias.prediction = pd.read_csv('results/predictions/glam_nobias_individual_like.csv')\n",
    "\n",
    "glam_nobias.prediction.head()"
   ]
  },
  {
   "cell_type": "markdown",
   "metadata": {},
   "source": [
    "## 2. Plot fit"
   ]
  },
  {
   "cell_type": "code",
   "execution_count": null,
   "metadata": {},
   "outputs": [],
   "source": [
    "print('Close Figure to continue...')\n",
    "glam.plot_fit(data, [glam_full.prediction]);\n",
    "plt.show()"
   ]
  },
  {
   "cell_type": "code",
   "execution_count": null,
   "metadata": {},
   "outputs": [],
   "source": []
  }
 ],
 "metadata": {
  "kernelspec": {
   "display_name": "Python 3",
   "language": "python",
   "name": "python3"
  },
  "language_info": {
   "codemirror_mode": {
    "name": "ipython",
    "version": 3
   },
   "file_extension": ".py",
   "mimetype": "text/x-python",
   "name": "python",
   "nbconvert_exporter": "python",
   "pygments_lexer": "ipython3",
   "version": "3.5.5"
  }
 },
 "nbformat": 4,
 "nbformat_minor": 2
}
