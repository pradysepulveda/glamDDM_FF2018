{
 "cells": [
  {
   "cell_type": "code",
   "execution_count": 16,
   "metadata": {},
   "outputs": [],
   "source": [
    "import glam\n",
    "import pandas as pd\n",
    "import numpy as np\n",
    "import os.path\n",
    "\n",
    "import matplotlib.pyplot as plt"
   ]
  },
  {
   "cell_type": "code",
   "execution_count": 17,
   "metadata": {},
   "outputs": [],
   "source": [
    "np.random.seed(23) # from random.org"
   ]
  },
  {
   "cell_type": "code",
   "execution_count": 18,
   "metadata": {},
   "outputs": [],
   "source": [
    "sufix = '_Like_FixBin5'"
   ]
  },
  {
   "cell_type": "code",
   "execution_count": 19,
   "metadata": {},
   "outputs": [],
   "source": [
    "test_data = pd.read_csv(str('data/FF2018_data/GlamDataFF2018_preprocessed_test'+sufix+'.csv'))\n",
    "train_data = pd.read_csv(str('data/FF2018_data/GlamDataFF2018_preprocessed_train'+sufix+'.csv'))"
   ]
  },
  {
   "cell_type": "code",
   "execution_count": 20,
   "metadata": {},
   "outputs": [
    {
     "name": "stdout",
     "output_type": "stream",
     "text": [
      "Generating hierarchical model for 33 subjects...\n"
     ]
    }
   ],
   "source": [
    "glam_full = glam.GLAM(train_data)\n",
    "glam_full.make_model('hierarchical', gamma_bounds=(-1, 1), t0_val=0)\n",
    "glam_full.estimates = np.load(str('results/estimates/glam_FF2018_full_hierarchical_cv'+sufix+'.npy'))   \n"
   ]
  },
  {
   "cell_type": "code",
   "execution_count": 21,
   "metadata": {},
   "outputs": [
    {
     "name": "stdout",
     "output_type": "stream",
     "text": [
      "Replaced attached data (1980 trials) with new data (1980 trials)...\n"
     ]
    }
   ],
   "source": [
    "\n",
    "glam_full.exchange_data(test_data)\n"
   ]
  },
  {
   "cell_type": "code",
   "execution_count": 24,
   "metadata": {},
   "outputs": [
    {
     "data": {
      "text/plain": [
       "array({'tau_mu': 1.77, 'v': array([4.5e-05, 6.2e-05, 5.6e-05, 4.1e-05, 6.6e-05, 6.0e-05, 6.7e-05,\n",
       "       4.4e-05, 5.4e-05, 4.5e-05, 4.5e-05, 5.0e-05, 4.5e-05, 4.4e-05,\n",
       "       4.3e-05, 4.6e-05, 5.0e-05, 5.3e-05, 5.5e-05, 6.9e-05, 4.4e-05,\n",
       "       3.7e-05, 6.7e-05, 4.2e-05, 3.2e-05, 4.9e-05, 5.0e-05, 5.6e-05,\n",
       "       3.5e-05, 4.5e-05, 7.1e-05, 5.7e-05, 4.2e-05]), 'b': 1.0, 'SNR_sd': 26.33, 'SNR_mu': 173.33, 'gamma_mu': -0.49, 'gamma': array([-0.52, -0.03,  0.34, -0.66, -0.71, -0.36, -0.64, -0.41, -0.97,\n",
       "       -0.5 , -0.38, -0.51, -0.55, -0.24,  0.03, -0.53, -0.57, -0.41,\n",
       "       -0.87, -0.86, -0.68, -0.42, -0.64, -0.63, -0.15, -0.59, -0.97,\n",
       "       -0.18, -0.92, -0.93, -0.87, -0.97, -0.81]), 'tau_sd': 1.01, 'v_sd': 1.1e-05, 'gamma_sd': 0.32, 'v_mu': 5.1e-05, 't0': array([0., 0., 0., 0., 0., 0., 0., 0., 0., 0., 0., 0., 0., 0., 0., 0., 0.,\n",
       "       0., 0., 0., 0., 0., 0., 0., 0., 0., 0., 0., 0., 0., 0., 0., 0.]), 's': array([0.007405, 0.010183, 0.008641, 0.007556, 0.007086, 0.007743,\n",
       "       0.010272, 0.008278, 0.008532, 0.008618, 0.008029, 0.006991,\n",
       "       0.00721 , 0.00797 , 0.008025, 0.007495, 0.007757, 0.006686,\n",
       "       0.007924, 0.006648, 0.007401, 0.006788, 0.009587, 0.007595,\n",
       "       0.007388, 0.008392, 0.008345, 0.009412, 0.006504, 0.00824 ,\n",
       "       0.01013 , 0.008738, 0.008591]), 'p_error': 0.05, 'tau': array([1.62, 1.4 , 2.28, 2.02, 3.81, 0.31, 0.69, 1.31, 0.7 , 2.1 , 0.7 ,\n",
       "       1.32, 2.12, 0.82, 1.64, 2.86, 2.87, 2.22, 1.05, 2.76, 0.65, 0.28,\n",
       "       1.55, 1.89, 2.15, 1.46, 2.27, 2.12, 0.96, 2.76, 2.43, 0.3 , 0.37]), 'SNR': array([171.89, 169.91, 156.71, 176.83, 101.66, 119.05, 167.22, 163.15,\n",
       "       177.02, 173.64, 153.31, 161.05, 186.47, 191.42, 166.68, 150.67,\n",
       "       153.62, 126.61, 131.3 ,  95.74, 199.62, 193.32, 141.12, 189.59,\n",
       "       229.09, 179.64, 142.81, 160.01, 200.84, 167.77, 131.64, 169.54,\n",
       "       194.38])}, dtype=object)"
      ]
     },
     "execution_count": 24,
     "metadata": {},
     "output_type": "execute_result"
    }
   ],
   "source": [
    "glam_full.estimates"
   ]
  },
  {
   "cell_type": "code",
   "execution_count": 22,
   "metadata": {},
   "outputs": [
    {
     "ename": "AttributeError",
     "evalue": "'numpy.ndarray' object has no attribute 'get'",
     "output_type": "error",
     "traceback": [
      "\u001b[0;31m---------------------------------------------------------------------------\u001b[0m",
      "\u001b[0;31mAttributeError\u001b[0m                            Traceback (most recent call last)",
      "\u001b[0;32m<ipython-input-22-1d643c5ee199>\u001b[0m in \u001b[0;36m<module>\u001b[0;34m()\u001b[0m\n\u001b[0;32m----> 1\u001b[0;31m \u001b[0mglam_full\u001b[0m\u001b[0;34m.\u001b[0m\u001b[0mpredict\u001b[0m\u001b[0;34m(\u001b[0m\u001b[0mn_repeats\u001b[0m\u001b[0;34m=\u001b[0m\u001b[0;36m50\u001b[0m\u001b[0;34m)\u001b[0m\u001b[0;34m\u001b[0m\u001b[0m\n\u001b[0m",
      "\u001b[0;32m~/Documents/gitDocs/glamDDM_FF2018/glam/models.py\u001b[0m in \u001b[0;36mpredict\u001b[0;34m(self, n_repeats, boundary, error_weight)\u001b[0m\n\u001b[1;32m     52\u001b[0m             \u001b[0;32melif\u001b[0m \u001b[0mself\u001b[0m\u001b[0;34m.\u001b[0m\u001b[0mtype\u001b[0m \u001b[0;32mis\u001b[0m \u001b[0;34m'hierarchical'\u001b[0m\u001b[0;34m:\u001b[0m\u001b[0;34m\u001b[0m\u001b[0m\n\u001b[1;32m     53\u001b[0m                 parameters = [self.estimates.get(parameter)[s]\n\u001b[0;32m---> 54\u001b[0;31m                               for parameter in ['v', 'gamma', 's', 'tau', 't0']]\n\u001b[0m\u001b[1;32m     55\u001b[0m             \u001b[0;32melse\u001b[0m\u001b[0;34m:\u001b[0m\u001b[0;34m\u001b[0m\u001b[0m\n\u001b[1;32m     56\u001b[0m                 \u001b[0;32mraise\u001b[0m \u001b[0mValueError\u001b[0m\u001b[0;34m(\u001b[0m\u001b[0;34m'Use .fit method first to obtain parameter estimates.'\u001b[0m\u001b[0;34m)\u001b[0m\u001b[0;34m\u001b[0m\u001b[0m\n",
      "\u001b[0;32m~/Documents/gitDocs/glamDDM_FF2018/glam/models.py\u001b[0m in \u001b[0;36m<listcomp>\u001b[0;34m(.0)\u001b[0m\n\u001b[1;32m     52\u001b[0m             \u001b[0;32melif\u001b[0m \u001b[0mself\u001b[0m\u001b[0;34m.\u001b[0m\u001b[0mtype\u001b[0m \u001b[0;32mis\u001b[0m \u001b[0;34m'hierarchical'\u001b[0m\u001b[0;34m:\u001b[0m\u001b[0;34m\u001b[0m\u001b[0m\n\u001b[1;32m     53\u001b[0m                 parameters = [self.estimates.get(parameter)[s]\n\u001b[0;32m---> 54\u001b[0;31m                               for parameter in ['v', 'gamma', 's', 'tau', 't0']]\n\u001b[0m\u001b[1;32m     55\u001b[0m             \u001b[0;32melse\u001b[0m\u001b[0;34m:\u001b[0m\u001b[0;34m\u001b[0m\u001b[0m\n\u001b[1;32m     56\u001b[0m                 \u001b[0;32mraise\u001b[0m \u001b[0mValueError\u001b[0m\u001b[0;34m(\u001b[0m\u001b[0;34m'Use .fit method first to obtain parameter estimates.'\u001b[0m\u001b[0;34m)\u001b[0m\u001b[0;34m\u001b[0m\u001b[0m\n",
      "\u001b[0;31mAttributeError\u001b[0m: 'numpy.ndarray' object has no attribute 'get'"
     ]
    }
   ],
   "source": [
    "glam_full.predict(n_repeats=50)\n",
    "glam.full.estimates"
   ]
  },
  {
   "cell_type": "code",
   "execution_count": 28,
   "metadata": {},
   "outputs": [
    {
     "ename": "AttributeError",
     "evalue": "'numpy.ndarray' object has no attribute 'get'",
     "output_type": "error",
     "traceback": [
      "\u001b[0;31m---------------------------------------------------------------------------\u001b[0m",
      "\u001b[0;31mAttributeError\u001b[0m                            Traceback (most recent call last)",
      "\u001b[0;32m<ipython-input-28-386ae039b862>\u001b[0m in \u001b[0;36m<module>\u001b[0;34m()\u001b[0m\n\u001b[0;32m----> 1\u001b[0;31m \u001b[0mglam_full\u001b[0m\u001b[0;34m.\u001b[0m\u001b[0mestimates\u001b[0m\u001b[0;34m.\u001b[0m\u001b[0mget\u001b[0m\u001b[0;34m(\u001b[0m\u001b[0;34m'v'\u001b[0m\u001b[0;34m)\u001b[0m\u001b[0;34m\u001b[0m\u001b[0m\n\u001b[0m",
      "\u001b[0;31mAttributeError\u001b[0m: 'numpy.ndarray' object has no attribute 'get'"
     ]
    }
   ],
   "source": [
    "glam_full.estimates.get('v')"
   ]
  },
  {
   "cell_type": "code",
   "execution_count": null,
   "metadata": {},
   "outputs": [],
   "source": []
  },
  {
   "cell_type": "code",
   "execution_count": null,
   "metadata": {},
   "outputs": [],
   "source": [
    "glam_full.prediction = pd.read_csv(str('results/predictions/glam_FF2018_full_hierarchical_cv'+sufix+'.csv'))\n",
    "\n",
    "test_data.to_csv(str('data/FF2018_data/GlamDataFF2018_preprocessed_test'+sufix+'.csv'))\n",
    "train_data.to_csv(str('data/FF2018_data/GlamDataFF2018_preprocessed_train'+sufix+'.csv'))"
   ]
  },
  {
   "cell_type": "code",
   "execution_count": null,
   "metadata": {},
   "outputs": [],
   "source": []
  }
 ],
 "metadata": {
  "kernelspec": {
   "display_name": "Python 3",
   "language": "python",
   "name": "python3"
  },
  "language_info": {
   "codemirror_mode": {
    "name": "ipython",
    "version": 3
   },
   "file_extension": ".py",
   "mimetype": "text/x-python",
   "name": "python",
   "nbconvert_exporter": "python",
   "pygments_lexer": "ipython3",
   "version": "3.5.4"
  }
 },
 "nbformat": 4,
 "nbformat_minor": 2
}
