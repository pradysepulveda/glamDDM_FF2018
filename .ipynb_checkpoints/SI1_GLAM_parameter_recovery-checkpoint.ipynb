{
 "cells": [
  {
   "cell_type": "code",
   "execution_count": 1,
   "metadata": {},
   "outputs": [
    {
     "name": "stderr",
     "output_type": "stream",
     "text": [
      "/Users/felixmolter/anaconda/lib/python3.5/site-packages/statsmodels/compat/pandas.py:56: FutureWarning: The pandas.core.datetools module is deprecated and will be removed in a future version. Please use the pandas.tseries module instead.\n",
      "  from pandas.core import datetools\n"
     ]
    }
   ],
   "source": [
    "import glam\n",
    "import pandas as pd\n",
    "import numpy as np\n",
    "import os.path\n",
    "import statsmodels.api as sm\n",
    "from statsmodels.stats.outliers_influence import summary_table\n",
    "from analysis_functions import sci_notation\n",
    "from seaborn import despine\n",
    "\n",
    "import matplotlib.pyplot as plt"
   ]
  },
  {
   "cell_type": "code",
   "execution_count": 2,
   "metadata": {
    "collapsed": true
   },
   "outputs": [],
   "source": [
    "np.random.seed(14) # from random.org"
   ]
  },
  {
   "cell_type": "markdown",
   "metadata": {},
   "source": [
    "# SI 1 GLAM parameter recovery"
   ]
  },
  {
   "cell_type": "markdown",
   "metadata": {},
   "source": [
    "## Load training data set"
   ]
  },
  {
   "cell_type": "code",
   "execution_count": 3,
   "metadata": {},
   "outputs": [
    {
     "data": {
      "text/html": [
       "<div>\n",
       "<style>\n",
       "    .dataframe thead tr:only-child th {\n",
       "        text-align: right;\n",
       "    }\n",
       "\n",
       "    .dataframe thead th {\n",
       "        text-align: left;\n",
       "    }\n",
       "\n",
       "    .dataframe tbody tr th {\n",
       "        vertical-align: top;\n",
       "    }\n",
       "</style>\n",
       "<table border=\"1\" class=\"dataframe\">\n",
       "  <thead>\n",
       "    <tr style=\"text-align: right;\">\n",
       "      <th></th>\n",
       "      <th>subject</th>\n",
       "      <th>trial</th>\n",
       "      <th>choice</th>\n",
       "      <th>rt</th>\n",
       "      <th>item_value_0</th>\n",
       "      <th>item_value_1</th>\n",
       "      <th>item_value_2</th>\n",
       "      <th>gaze_0</th>\n",
       "      <th>gaze_1</th>\n",
       "      <th>gaze_2</th>\n",
       "    </tr>\n",
       "  </thead>\n",
       "  <tbody>\n",
       "    <tr>\n",
       "      <th>0</th>\n",
       "      <td>0</td>\n",
       "      <td>0</td>\n",
       "      <td>1</td>\n",
       "      <td>1782</td>\n",
       "      <td>1</td>\n",
       "      <td>7</td>\n",
       "      <td>3</td>\n",
       "      <td>0.096864</td>\n",
       "      <td>0.791638</td>\n",
       "      <td>0.111498</td>\n",
       "    </tr>\n",
       "    <tr>\n",
       "      <th>1</th>\n",
       "      <td>0</td>\n",
       "      <td>2</td>\n",
       "      <td>2</td>\n",
       "      <td>1171</td>\n",
       "      <td>3</td>\n",
       "      <td>1</td>\n",
       "      <td>2</td>\n",
       "      <td>0.534224</td>\n",
       "      <td>0.000000</td>\n",
       "      <td>0.465776</td>\n",
       "    </tr>\n",
       "    <tr>\n",
       "      <th>2</th>\n",
       "      <td>0</td>\n",
       "      <td>4</td>\n",
       "      <td>0</td>\n",
       "      <td>1476</td>\n",
       "      <td>6</td>\n",
       "      <td>1</td>\n",
       "      <td>3</td>\n",
       "      <td>0.340448</td>\n",
       "      <td>0.488794</td>\n",
       "      <td>0.170758</td>\n",
       "    </tr>\n",
       "    <tr>\n",
       "      <th>3</th>\n",
       "      <td>0</td>\n",
       "      <td>6</td>\n",
       "      <td>2</td>\n",
       "      <td>1482</td>\n",
       "      <td>3</td>\n",
       "      <td>1</td>\n",
       "      <td>7</td>\n",
       "      <td>0.178636</td>\n",
       "      <td>0.482944</td>\n",
       "      <td>0.338420</td>\n",
       "    </tr>\n",
       "    <tr>\n",
       "      <th>4</th>\n",
       "      <td>0</td>\n",
       "      <td>8</td>\n",
       "      <td>2</td>\n",
       "      <td>1393</td>\n",
       "      <td>1</td>\n",
       "      <td>2</td>\n",
       "      <td>7</td>\n",
       "      <td>0.213859</td>\n",
       "      <td>0.215054</td>\n",
       "      <td>0.571087</td>\n",
       "    </tr>\n",
       "  </tbody>\n",
       "</table>\n",
       "</div>"
      ],
      "text/plain": [
       "   subject  trial  choice    rt  item_value_0  item_value_1  item_value_2  \\\n",
       "0        0      0       1  1782             1             7             3   \n",
       "1        0      2       2  1171             3             1             2   \n",
       "2        0      4       0  1476             6             1             3   \n",
       "3        0      6       2  1482             3             1             7   \n",
       "4        0      8       2  1393             1             2             7   \n",
       "\n",
       "     gaze_0    gaze_1    gaze_2  \n",
       "0  0.096864  0.791638  0.111498  \n",
       "1  0.534224  0.000000  0.465776  \n",
       "2  0.340448  0.488794  0.170758  \n",
       "3  0.178636  0.482944  0.338420  \n",
       "4  0.213859  0.215054  0.571087  "
      ]
     },
     "execution_count": 3,
     "metadata": {},
     "output_type": "execute_result"
    }
   ],
   "source": [
    "# Load data\n",
    "train_data = pd.read_csv('data/krajbich_2011_pnas/data_pnas2011_preprocessed_train.csv')\n",
    "train_data = train_data[['subject', 'trial', 'choice', 'rt',\n",
    "             'item_value_0', 'item_value_1', 'item_value_2',\n",
    "             'gaze_0', 'gaze_1', 'gaze_2']]\n",
    "train_data.head()"
   ]
  },
  {
   "cell_type": "markdown",
   "metadata": {},
   "source": [
    "## Parameter recovery"
   ]
  },
  {
   "cell_type": "markdown",
   "metadata": {},
   "source": [
    "### 1. Simulate data from hierarchically estimated parameters"
   ]
  },
  {
   "cell_type": "code",
   "execution_count": 4,
   "metadata": {},
   "outputs": [
    {
     "name": "stdout",
     "output_type": "stream",
     "text": [
      "  Simulating data set with hierarchically estimated parameters...\n",
      "Generating hierarchical model for 30 subjects...\n"
     ]
    },
    {
     "data": {
      "text/html": [
       "<div>\n",
       "<style>\n",
       "    .dataframe thead tr:only-child th {\n",
       "        text-align: right;\n",
       "    }\n",
       "\n",
       "    .dataframe thead th {\n",
       "        text-align: left;\n",
       "    }\n",
       "\n",
       "    .dataframe tbody tr th {\n",
       "        vertical-align: top;\n",
       "    }\n",
       "</style>\n",
       "<table border=\"1\" class=\"dataframe\">\n",
       "  <thead>\n",
       "    <tr style=\"text-align: right;\">\n",
       "      <th></th>\n",
       "      <th>choice</th>\n",
       "      <th>repeat</th>\n",
       "      <th>rt</th>\n",
       "      <th>subject</th>\n",
       "      <th>trial</th>\n",
       "      <th>item_value_0</th>\n",
       "      <th>gaze_0</th>\n",
       "      <th>item_value_1</th>\n",
       "      <th>gaze_1</th>\n",
       "      <th>item_value_2</th>\n",
       "      <th>gaze_2</th>\n",
       "    </tr>\n",
       "  </thead>\n",
       "  <tbody>\n",
       "    <tr>\n",
       "      <th>0</th>\n",
       "      <td>1.0</td>\n",
       "      <td>0.0</td>\n",
       "      <td>920.0</td>\n",
       "      <td>0.0</td>\n",
       "      <td>0.0</td>\n",
       "      <td>1</td>\n",
       "      <td>0.096864</td>\n",
       "      <td>7</td>\n",
       "      <td>0.791638</td>\n",
       "      <td>3</td>\n",
       "      <td>0.111498</td>\n",
       "    </tr>\n",
       "    <tr>\n",
       "      <th>1</th>\n",
       "      <td>0.0</td>\n",
       "      <td>0.0</td>\n",
       "      <td>1269.0</td>\n",
       "      <td>0.0</td>\n",
       "      <td>1.0</td>\n",
       "      <td>3</td>\n",
       "      <td>0.534224</td>\n",
       "      <td>1</td>\n",
       "      <td>0.000000</td>\n",
       "      <td>2</td>\n",
       "      <td>0.465776</td>\n",
       "    </tr>\n",
       "    <tr>\n",
       "      <th>2</th>\n",
       "      <td>0.0</td>\n",
       "      <td>0.0</td>\n",
       "      <td>1852.0</td>\n",
       "      <td>0.0</td>\n",
       "      <td>2.0</td>\n",
       "      <td>6</td>\n",
       "      <td>0.340448</td>\n",
       "      <td>1</td>\n",
       "      <td>0.488794</td>\n",
       "      <td>3</td>\n",
       "      <td>0.170758</td>\n",
       "    </tr>\n",
       "    <tr>\n",
       "      <th>3</th>\n",
       "      <td>2.0</td>\n",
       "      <td>0.0</td>\n",
       "      <td>838.0</td>\n",
       "      <td>0.0</td>\n",
       "      <td>3.0</td>\n",
       "      <td>3</td>\n",
       "      <td>0.178636</td>\n",
       "      <td>1</td>\n",
       "      <td>0.482944</td>\n",
       "      <td>7</td>\n",
       "      <td>0.338420</td>\n",
       "    </tr>\n",
       "    <tr>\n",
       "      <th>4</th>\n",
       "      <td>2.0</td>\n",
       "      <td>0.0</td>\n",
       "      <td>1214.0</td>\n",
       "      <td>0.0</td>\n",
       "      <td>4.0</td>\n",
       "      <td>1</td>\n",
       "      <td>0.213859</td>\n",
       "      <td>2</td>\n",
       "      <td>0.215054</td>\n",
       "      <td>7</td>\n",
       "      <td>0.571087</td>\n",
       "    </tr>\n",
       "  </tbody>\n",
       "</table>\n",
       "</div>"
      ],
      "text/plain": [
       "   choice  repeat      rt  subject  trial  item_value_0    gaze_0  \\\n",
       "0     1.0     0.0   920.0      0.0    0.0             1  0.096864   \n",
       "1     0.0     0.0  1269.0      0.0    1.0             3  0.534224   \n",
       "2     0.0     0.0  1852.0      0.0    2.0             6  0.340448   \n",
       "3     2.0     0.0   838.0      0.0    3.0             3  0.178636   \n",
       "4     2.0     0.0  1214.0      0.0    4.0             1  0.213859   \n",
       "\n",
       "   item_value_1    gaze_1  item_value_2    gaze_2  \n",
       "0             7  0.791638             3  0.111498  \n",
       "1             1  0.000000             2  0.465776  \n",
       "2             1  0.488794             3  0.170758  \n",
       "3             1  0.482944             7  0.338420  \n",
       "4             2  0.215054             7  0.571087  "
      ]
     },
     "execution_count": 4,
     "metadata": {},
     "output_type": "execute_result"
    }
   ],
   "source": [
    "print('  Simulating data set with hierarchically estimated parameters...')\n",
    "\n",
    "# Model setup\n",
    "glam_full = glam.GLAM(train_data)\n",
    "glam_full.make_model('hierarchical', gamma_bounds=(-1, 1), t0_val=0)\n",
    "\n",
    "# Load parameter estimates\n",
    "glam_full.estimates = np.load('results/estimates/glam_full_hierarchical_cv.npy')[()]\n",
    "\n",
    "# Generate model predictions\n",
    "glam_full.predict(n_repeats=1)\n",
    "glam_full.prediction.head()"
   ]
  },
  {
   "cell_type": "markdown",
   "metadata": {},
   "source": [
    "### 2. Recover parameters (estimation)"
   ]
  },
  {
   "cell_type": "code",
   "execution_count": 5,
   "metadata": {},
   "outputs": [
    {
     "name": "stdout",
     "output_type": "stream",
     "text": [
      "  Hierarchically estimating parameters from simulated data...\n",
      "Generating hierarchical model for 30 subjects...\n",
      "Fitting 1 model(s) using ADVI...\n",
      "  Fitting model 1 of 1...\n"
     ]
    },
    {
     "name": "stderr",
     "output_type": "stream",
     "text": [
      "Average Loss = 12,619: 100%|██████████| 200000/200000 [19:05<00:00, 174.57it/s]\n",
      "Finished [100%]: Average Loss = 12,619\n"
     ]
    },
    {
     "name": "stdout",
     "output_type": "stream",
     "text": [
      "/!\\ Automatically setting parameter precision...\n"
     ]
    }
   ],
   "source": [
    "print('  Hierarchically estimating parameters from simulated data...')\n",
    "\n",
    "# Model setup\n",
    "recovery_model = glam.GLAM(glam_full.prediction)\n",
    "recovery_model.make_model('hierarchical', gamma_bounds=(-1, 1), t0_val=0)\n",
    "\n",
    "# Fit model\n",
    "recovery_model.fit(method='ADVI', n_advi=200000)"
   ]
  },
  {
   "cell_type": "code",
   "execution_count": 6,
   "metadata": {
    "collapsed": true
   },
   "outputs": [],
   "source": [
    "generating = glam_full.estimates\n",
    "recovered = recovery_model.estimates"
   ]
  },
  {
   "cell_type": "markdown",
   "metadata": {},
   "source": [
    "# Figure SI 1"
   ]
  },
  {
   "cell_type": "code",
   "execution_count": 7,
   "metadata": {
    "collapsed": true
   },
   "outputs": [],
   "source": [
    "def plot_correlation(x, y,\n",
    "                     xlabel='',\n",
    "                     ylabel='',\n",
    "                     title='',\n",
    "                     ci=0.95,\n",
    "                     xticks=None,\n",
    "                     yticks=None,\n",
    "                     xticklabels=None,\n",
    "                     yticklabels=None,\n",
    "                     xlim=None,\n",
    "                     ylim=None,\n",
    "                     annotation_pos=(0.1, 0.1),\n",
    "                     annotation_halign='left',\n",
    "                     annotation_valign='bottom',\n",
    "                     fontsize_title=16,\n",
    "                     fontsize_axeslabel=16,\n",
    "                     fontsize_ticklabels=12,\n",
    "                     fontsize_annotation=12,\n",
    "                     plot_diagonal=False,\n",
    "                     ax=None):\n",
    "\n",
    "    # Defaults\n",
    "    if ax is None:\n",
    "        fig, ax = plt.subplots()\n",
    "\n",
    "    # Scatter\n",
    "    ax.scatter(x, y, color='black', alpha=0.5)\n",
    "\n",
    "    # LM fit\n",
    "    X = sm.add_constant(x)\n",
    "    lm = sm.OLS(y, X).fit()\n",
    "    intercept, slope = lm.params\n",
    "    table, data, columns = summary_table(lm, alpha=1.-ci)\n",
    "    predicted, mean_ci_lower, mean_ci_upper = data[:, np.array([2, 4, 5])].T\n",
    "\n",
    "    xs = np.linspace(*ax.get_xlim(), 100)\n",
    "    ax.plot(xs, intercept + slope * xs,\n",
    "            color='r')\n",
    "    sort_idx = np.argsort(x)\n",
    "    ax.fill_between(x[sort_idx], mean_ci_lower[sort_idx], mean_ci_upper[sort_idx],\n",
    "                    color='red', alpha=0.1)\n",
    "    \n",
    "    # Annotation\n",
    "    tval = lm.tvalues[-1]\n",
    "    pval = lm.pvalues[-1]\n",
    "    r = np.sign(tval) * np.sqrt(lm.rsquared)\n",
    "    ax.text(*annotation_pos,\n",
    "            (r'$r = {:.2f}$, '.format(r)) +\n",
    "             r'$P =${}'.format(sci_notation(pval, exact=True, decimal_digits=2)),\n",
    "            verticalalignment=annotation_valign,\n",
    "            horizontalalignment=annotation_halign,\n",
    "            transform=ax.transAxes,\n",
    "            fontsize=fontsize_annotation,\n",
    "            bbox=dict(facecolor='white', alpha=0.75))\n",
    "\n",
    "    # Axes, ticks, ...\n",
    "    if xticks is not None:\n",
    "        ax.set_xticks(xticks)\n",
    "    if yticks is not None:\n",
    "        ax.set_yticks(yticks)\n",
    "        \n",
    "    if xticklabels is not None:\n",
    "        ax.set_xticklabels(xticklabels, fontsize=fontsize_ticklabels)\n",
    "    if yticklabels is not None:\n",
    "        ax.set_yticklabels(yticklabels, fontsize=fontsize_ticklabels)\n",
    "\n",
    "    if xlim is not None:\n",
    "        ax.set_xlim(xlim)\n",
    "    if ylim is not None:\n",
    "        ax.set_ylim(ylim)\n",
    "\n",
    "    # Diagonal\n",
    "    if plot_diagonal:\n",
    "        ax.plot([0, 1], [0, 1], transform=ax.transAxes,\n",
    "                color='black', alpha=0.5, zorder=-10, lw=1)\n",
    "\n",
    "    # Labels\n",
    "    ax.set_xlabel(xlabel, fontsize=fontsize_axeslabel)\n",
    "    ax.set_ylabel(ylabel, fontsize=fontsize_axeslabel)\n",
    "    ax.set_title(title, fontsize=fontsize_title)\n",
    "    despine()\n",
    "\n",
    "    return ax"
   ]
  },
  {
   "cell_type": "code",
   "execution_count": 8,
   "metadata": {
    "collapsed": true
   },
   "outputs": [],
   "source": [
    "def blank_second(x, offset=0):\n",
    "    out = []\n",
    "    for i, xx in enumerate(x):\n",
    "        if (i + offset) % 2 == 0:\n",
    "            out.append(xx)\n",
    "        else:\n",
    "            out.append('')\n",
    "    return out"
   ]
  },
  {
   "cell_type": "code",
   "execution_count": 9,
   "metadata": {
    "collapsed": true
   },
   "outputs": [],
   "source": [
    "def figure_si1(generating, recovered,\n",
    "               parameters=['v', 'gamma', 's', 'tau'],\n",
    "               parameter_labels=dict(v='v',\n",
    "                                     s=r'$\\sigma$',\n",
    "                                     gamma=r'$\\gamma$',\n",
    "                                     tau=r'$\\tau$'),\n",
    "               parameter_ticks=dict(v=np.arange(0, 0.00021, 0.00005),\n",
    "                                    s=np.arange(0.004, 0.0151, 0.002),\n",
    "                                    gamma=np.arange(-1, 1.1, 0.25),\n",
    "                                    tau=np.arange(0.0, 1.6, 0.5)),\n",
    "               parameter_ticklabels=dict(v=blank_second(np.arange(0, 0.00021, 0.00005)),\n",
    "                                         s=blank_second(np.arange(0.004, 0.0151, 0.002), offset=1),\n",
    "                                         gamma=blank_second(np.arange(-1, 1.1, 0.25)),\n",
    "                                         tau=np.arange(0, 1.6, 0.5)),\n",
    "               figsize=(16, 3.5)):\n",
    "\n",
    "    n_parameters = len(parameters)\n",
    "\n",
    "    fig, axs = plt.subplots(1, n_parameters, figsize=figsize)\n",
    "\n",
    "    for i, p in enumerate(parameters):\n",
    "\n",
    "        plot_correlation(generating[p], recovered[p],\n",
    "                         xlabel='Generating',\n",
    "                         ylabel='Recovered',\n",
    "                         title=parameter_labels[p],\n",
    "                         ci=0.95,\n",
    "                         xticks=parameter_ticks[p],\n",
    "                         yticks=parameter_ticks[p],\n",
    "                         xticklabels=parameter_ticklabels[p],\n",
    "                         yticklabels=parameter_ticklabels[p],\n",
    "                         xlim=(parameter_ticks[p][0], parameter_ticks[p][-1]),\n",
    "                         ylim=(parameter_ticks[p][0], parameter_ticks[p][-1]),\n",
    "                         annotation_pos=(0.05, 0.95),\n",
    "                         annotation_halign='left',\n",
    "                         annotation_valign='top',\n",
    "                         fontsize_title=16,\n",
    "                         fontsize_axeslabel=16,\n",
    "                         fontsize_ticklabels=12,\n",
    "                         fontsize_annotation=11,\n",
    "                         plot_diagonal=True,\n",
    "                         ax=axs[i])\n",
    "\n",
    "    # index axes\n",
    "    for label, ax in zip(list('ABCDE'), axs.ravel()):\n",
    "        ax.text(-0.1, 1.15, label, transform=ax.transAxes,\n",
    "                fontsize=16, fontweight='bold', va='top')\n",
    "        \n",
    "    fig.tight_layout()\n",
    "    despine()\n",
    "\n",
    "    return fig, axs"
   ]
  },
  {
   "cell_type": "code",
   "execution_count": 10,
   "metadata": {},
   "outputs": [
    {
     "name": "stdout",
     "output_type": "stream",
     "text": [
      "Close figure to continue...\n"
     ]
    },
    {
     "data": {
      "image/png": "[encoded data removed]",
      "text/plain": [
       "<matplotlib.figure.Figure at 0x11d1dd208>"
      ]
     },
     "metadata": {},
     "output_type": "display_data"
    }
   ],
   "source": [
    "print('Close figure to continue...')\n",
    "figure_si1(generating, recovered, parameters=['v', 'gamma', 's', 'tau'])\n",
    "plt.savefig('results/figures/figure_si1_parameter_recovery.png', dpi=330, bbox_inches='tight')\n",
    "plt.show()"
   ]
  }
 ],
 "metadata": {
  "kernelspec": {
   "display_name": "Python [default]",
   "language": "python",
   "name": "python3"
  },
  "language_info": {
   "codemirror_mode": {
    "name": "ipython",
    "version": 3
   },
   "file_extension": ".py",
   "mimetype": "text/x-python",
   "name": "python",
   "nbconvert_exporter": "python",
   "pygments_lexer": "ipython3",
   "version": "3.5.4"
  }
 },
 "nbformat": 4,
 "nbformat_minor": 2
}
