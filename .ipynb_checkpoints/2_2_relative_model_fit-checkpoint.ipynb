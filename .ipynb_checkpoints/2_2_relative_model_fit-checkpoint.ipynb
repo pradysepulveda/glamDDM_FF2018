{
 "cells": [
  {
   "cell_type": "code",
   "execution_count": 1,
   "metadata": {
    "collapsed": false
   },
   "outputs": [],
   "source": [
    "import numpy as np\n",
    "import pandas as pd\n",
    "\n",
    "# from seaborn import despine\n",
    "import matplotlib.pyplot as plt\n",
    "plt.rc(\"axes.spines\", top=False, right=False)"
   ]
  },
  {
   "cell_type": "code",
   "execution_count": 2,
   "metadata": {
    "collapsed": true
   },
   "outputs": [],
   "source": [
    "np.random.seed(76) # from random.org"
   ]
  },
  {
   "cell_type": "markdown",
   "metadata": {},
   "source": [
    "# 2.2 Relative model fit (individual level model comparison)"
   ]
  },
  {
   "cell_type": "markdown",
   "metadata": {},
   "source": [
    "## Load DICs"
   ]
  },
  {
   "cell_type": "code",
   "execution_count": 3,
   "metadata": {
    "collapsed": true
   },
   "outputs": [],
   "source": [
    "# extract dics for each model\n",
    "dics_full = np.load('results/dic/glam_full.npy')\n",
    "dics_nobias = np.load('results/dic/glam_nobias.npy')\n",
    "subjects = np.arange(dics_full.shape[0])"
   ]
  },
  {
   "cell_type": "code",
   "execution_count": 4,
   "metadata": {
    "collapsed": false
   },
   "outputs": [
    {
     "data": {
      "text/plain": [
       "26"
      ]
     },
     "execution_count": 4,
     "metadata": {},
     "output_type": "execute_result"
    }
   ],
   "source": [
    "full_better = np.sum((dics_full - dics_nobias) < 0)\n",
    "full_better"
   ]
  },
  {
   "cell_type": "code",
   "execution_count": 5,
   "metadata": {
    "collapsed": false
   },
   "outputs": [
    {
     "data": {
      "text/plain": [
       "0.8666666666666667"
      ]
     },
     "execution_count": 5,
     "metadata": {},
     "output_type": "execute_result"
    }
   ],
   "source": [
    "full_better / len(dics_full)"
   ]
  },
  {
   "cell_type": "code",
   "execution_count": 6,
   "metadata": {
    "collapsed": false
   },
   "outputs": [
    {
     "data": {
      "text/plain": [
       "-34.215761266398083"
      ]
     },
     "execution_count": 6,
     "metadata": {},
     "output_type": "execute_result"
    }
   ],
   "source": [
    "mean_delta_dic = np.mean(dics_full - dics_nobias)\n",
    "mean_delta_dic"
   ]
  },
  {
   "cell_type": "code",
   "execution_count": 7,
   "metadata": {
    "collapsed": false
   },
   "outputs": [
    {
     "data": {
      "text/plain": [
       "6.84476400150304"
      ]
     },
     "execution_count": 7,
     "metadata": {},
     "output_type": "execute_result"
    }
   ],
   "source": [
    "sem_delta_dic = np.std(dics_full - dics_nobias) / np.sqrt(len(dics_full))\n",
    "sem_delta_dic"
   ]
  },
  {
   "cell_type": "markdown",
   "metadata": {},
   "source": [
    "# Plot DIC differences between full and no-gaze bias GLAM variant"
   ]
  },
  {
   "cell_type": "code",
   "execution_count": 8,
   "metadata": {
    "collapsed": true
   },
   "outputs": [],
   "source": [
    "def figure_4(dics_full, dics_nobias):\n",
    "    fig = plt.figure(figsize=(10, 3))\n",
    "\n",
    "    # compute DIC differences\n",
    "    dic_diff = dics_full - dics_nobias\n",
    "    sorting_idx = np.argsort(dic_diff)\n",
    "\n",
    "    # plot number of subjects best described by each model\n",
    "    ax1 = plt.subplot2grid((1, 3), (0, 0))\n",
    "    count_full = np.sum(dic_diff<0)\n",
    "    count_nobias = np.sum(dic_diff>0)\n",
    "    ax1.bar(0,\n",
    "            count_full,\n",
    "            color='black')\n",
    "    ax1.bar(1,\n",
    "            count_nobias,\n",
    "            color='white',\n",
    "            edgecolor='black')\n",
    "    ax1.set_ylim(0, 30)\n",
    "    ax1.set_ylabel('# Participants', fontsize=15)\n",
    "    ax1.set_xticks(np.array([0,1]))\n",
    "    ax1.set_xticklabels(['full', r'$\\gamma=1$'], fontsize=15)\n",
    "#     ax1.tick_params(axis='x', labelsize=12)\n",
    "    ax1.tick_params(axis='y', labelsize=12)\n",
    "    \n",
    "\n",
    "    # plot individual DIC differences\n",
    "    ax2 = plt.subplot2grid((1, 3), (0, 1), colspan=2)\n",
    "\n",
    "    # subjects best described by full model\n",
    "    full_winning_idx= np.where(dic_diff[sorting_idx] < 0)\n",
    "    ax2.bar(np.arange(dic_diff.size)[full_winning_idx],\n",
    "            dic_diff[sorting_idx][full_winning_idx],\n",
    "            color='black', label='gaze bias')\n",
    "\n",
    "    # subjects best described by no-bias GLAM variant\n",
    "    nobias_winning_idx= np.where(dic_diff[sorting_idx] > 0)\n",
    "    ax2.bar(np.arange(dic_diff.size)[nobias_winning_idx],\n",
    "            dic_diff[sorting_idx][nobias_winning_idx],\n",
    "            color='white', edgecolor='black', label='no gaze bias '+r'$(\\gamma=1)$')\n",
    "    ax2.legend(frameon=False, fontsize=15)\n",
    "    ax2.set_ylabel('DIC(gaze bias) - \\nDIC(no gaze bias)', fontsize=15)\n",
    "    ax2.set_xticks(np.array([]))\n",
    "    ax2.set_xlabel('Participant', fontsize=15)\n",
    "    ax2.tick_params(axis='x', labelsize=12)\n",
    "    ax2.tick_params(axis='y', labelsize=12)\n",
    "    \n",
    "    # index axes\n",
    "    for label, ax in zip(list('AB'), [ax1, ax2]):\n",
    "        ax.text(-0.15, 1.15, label, transform=ax.transAxes,\n",
    "                fontsize=20, fontweight='bold', va='top')\n",
    "\n",
    "#     despine()\n",
    "    fig.tight_layout()\n",
    "    \n",
    "    return fig #, np.array([ax1, ax2])"
   ]
  },
  {
   "cell_type": "code",
   "execution_count": null,
   "metadata": {
    "collapsed": false
   },
   "outputs": [
    {
     "name": "stdout",
     "output_type": "stream",
     "text": [
      "Close Figure to continue...\n"
     ]
    }
   ],
   "source": [
    "print('Close Figure to continue...')\n",
    "fig = figure_4(dics_full, dics_nobias)\n",
    "fig.savefig('results/figures/figure_4_relative_model_comparison.png', dpi=600, bbox_inches='tight')\n",
    "plt.show()"
   ]
  }
 ],
 "metadata": {
  "anaconda-cloud": {},
  "kernelspec": {
   "display_name": "Python [Root]",
   "language": "python",
   "name": "Python [Root]"
  },
  "language_info": {
   "codemirror_mode": {
    "name": "ipython",
    "version": 3
   },
   "file_extension": ".py",
   "mimetype": "text/x-python",
   "name": "python",
   "nbconvert_exporter": "python",
   "pygments_lexer": "ipython3",
   "version": "3.5.2"
  }
 },
 "nbformat": 4,
 "nbformat_minor": 2
}
