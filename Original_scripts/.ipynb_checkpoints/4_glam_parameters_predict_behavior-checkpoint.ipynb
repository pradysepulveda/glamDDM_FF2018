{
 "cells": [
  {
   "cell_type": "code",
   "execution_count": 1,
   "metadata": {},
   "outputs": [
    {
     "name": "stderr",
     "output_type": "stream",
     "text": [
      "/Users/felixmolter/anaconda/lib/python3.5/site-packages/statsmodels/compat/pandas.py:56: FutureWarning: The pandas.core.datetools module is deprecated and will be removed in a future version. Please use the pandas.tseries module instead.\n",
      "  from pandas.core import datetools\n"
     ]
    }
   ],
   "source": [
    "import numpy as np\n",
    "import pandas as pd\n",
    "import statsmodels.api as sm\n",
    "from statsmodels.stats.outliers_influence import summary_table\n",
    "\n",
    "# from seaborn import despine\n",
    "import matplotlib.pyplot as plt\n",
    "plt.rc(\"axes.spines\", top=False, right=False)\n",
    "\n",
    "from analysis_functions import sci_notation, compute_mean_rt, compute_p_choose_best, compute_gaze_influence, run_linear_model, write_summary"
   ]
  },
  {
   "cell_type": "code",
   "execution_count": 2,
   "metadata": {
    "collapsed": true
   },
   "outputs": [],
   "source": [
    "np.random.seed(9) # from random.org"
   ]
  },
  {
   "cell_type": "markdown",
   "metadata": {
    "collapsed": true
   },
   "source": [
    "# 4. GLAM parameters predict behavior\n",
    "\n",
    "### Load plot function"
   ]
  },
  {
   "cell_type": "code",
   "execution_count": 3,
   "metadata": {
    "collapsed": true
   },
   "outputs": [],
   "source": [
    "def plot_correlation(x, y,\n",
    "                     xlabel='',\n",
    "                     ylabel='',\n",
    "                     title='',\n",
    "                     ci=0.95,\n",
    "                     xticks=None,\n",
    "                     yticks=None,\n",
    "                     xticklabels=None,\n",
    "                     yticklabels=None,\n",
    "                     xlim=None,\n",
    "                     ylim=None,\n",
    "                     annotation_pos=(0.1, 0.1),\n",
    "                     annotation_halign='left',\n",
    "                     fontsize_title=15,\n",
    "                     fontsize_axeslabel=15,\n",
    "                     fontsize_ticklabels=12,\n",
    "                     fontsize_annotation=8,\n",
    "                     plot_diagonal=False,\n",
    "                     ax=None):\n",
    "\n",
    "    # Defaults\n",
    "    if ax is None:\n",
    "        fig, ax = plt.subplots()\n",
    "\n",
    "    # Scatter\n",
    "    ax.scatter(x, y, color='black', alpha=0.5)\n",
    "\n",
    "    # LM fit\n",
    "    X = sm.add_constant(x)\n",
    "    lm = sm.OLS(y, X).fit()\n",
    "    intercept, slope = lm.params\n",
    "    table, data, columns = summary_table(lm, alpha=1.-ci)\n",
    "    predicted, mean_ci_lower, mean_ci_upper = data[:, np.array([2, 4, 5])].T\n",
    "\n",
    "    xs = np.linspace(*ax.get_xlim(), 100)\n",
    "    ax.plot(xs, intercept + slope * xs,\n",
    "            color='r')\n",
    "    sort_idx = np.argsort(x)\n",
    "    ax.fill_between(x[sort_idx], mean_ci_lower[sort_idx], mean_ci_upper[sort_idx],\n",
    "                    color='red', alpha=0.1)\n",
    "    \n",
    "    # Annotation\n",
    "    tval = lm.tvalues[-1]\n",
    "    pval = lm.pvalues[-1]\n",
    "    r = np.sign(tval) * np.sqrt(lm.rsquared)\n",
    "    ax.text(*annotation_pos,\n",
    "            (r'$r = {:.2f}$, '.format(r)) +\n",
    "             r'$P <${}'.format(sci_notation(pval, exact=False, decimal_digits=2)),\n",
    "            verticalalignment='bottom',\n",
    "            horizontalalignment=annotation_halign,\n",
    "            transform=ax.transAxes,\n",
    "            fontsize=fontsize_annotation)\n",
    "\n",
    "    # Axes, ticks, ...\n",
    "    if xticks is not None:\n",
    "        ax.set_xticks(xticks)\n",
    "    if yticks is not None:\n",
    "        ax.set_yticks(yticks)\n",
    "        \n",
    "    if xticklabels is not None:\n",
    "        ax.set_xticklabels(xticklabels, fontsize=fontsize_ticklabels)\n",
    "    if yticklabels is not None:\n",
    "        ax.set_yticklabels(yticklabels, fontsize=fontsize_ticklabels)\n",
    "\n",
    "    if xlim is not None:\n",
    "        ax.set_xlim(xlim)\n",
    "    if ylim is not None:\n",
    "        ax.set_ylim(ylim)\n",
    "\n",
    "    # Diagonal\n",
    "    if plot_diagonal:\n",
    "        ax.plot([0, 1], [0, 1], transform=ax.transAxes,\n",
    "                color='black', alpha=0.5, zorder=-10, lw=1)\n",
    "\n",
    "    # Labels\n",
    "    ax.set_xlabel(xlabel, fontsize=fontsize_axeslabel + 2)\n",
    "    ax.set_ylabel(ylabel, fontsize=fontsize_axeslabel)\n",
    "    ax.set_title(title, fontsize=fontsize_title)\n",
    "#     despine()\n",
    "\n",
    "    return ax"
   ]
  },
  {
   "cell_type": "markdown",
   "metadata": {},
   "source": [
    "## Load parameter estimates (hierarchical, from training data) and test data set"
   ]
  },
  {
   "cell_type": "code",
   "execution_count": 4,
   "metadata": {
    "collapsed": true
   },
   "outputs": [],
   "source": [
    "# load best fitting GDDM parameters\n",
    "parameters = np.load('results/estimates/glam_full_hierarchical_cv.npy')[()]\n",
    "\n",
    "# and test data\n",
    "test_data = pd.read_csv('data/krajbich_2011_pnas/data_pnas2011_preprocessed_test.csv')"
   ]
  },
  {
   "cell_type": "code",
   "execution_count": 5,
   "metadata": {
    "collapsed": true
   },
   "outputs": [],
   "source": [
    "mean_rt = compute_mean_rt(test_data)\n",
    "p_choose_best = compute_p_choose_best(test_data)\n",
    "gaze_influence = compute_gaze_influence(test_data)"
   ]
  },
  {
   "cell_type": "markdown",
   "metadata": {},
   "source": [
    "## Linear Models: Parameter estimates and behavioral indices in test data"
   ]
  },
  {
   "cell_type": "markdown",
   "metadata": {},
   "source": [
    "### 1. log $v$ and log RT"
   ]
  },
  {
   "cell_type": "code",
   "execution_count": 6,
   "metadata": {},
   "outputs": [
    {
     "name": "stdout",
     "output_type": "stream",
     "text": [
      "Running linear models predicting behavioral indices from full GLAM parameter estimates...\n",
      "  Mean RT ~ Log(v)\n",
      "                            OLS Regression Results                            \n",
      "==============================================================================\n",
      "Dep. Variable:                      y   R-squared:                       0.927\n",
      "Model:                            OLS   Adj. R-squared:                  0.925\n",
      "Method:                 Least Squares   F-statistic:                     356.2\n",
      "Date:                Mon, 04 Dec 2017   Prob (F-statistic):           1.85e-17\n",
      "Time:                        07:25:51   Log-Likelihood:                 21.480\n",
      "No. Observations:                  30   AIC:                            -38.96\n",
      "Df Residuals:                      28   BIC:                            -36.16\n",
      "Df Model:                           1                                         \n",
      "Covariance Type:            nonrobust                                         \n",
      "==============================================================================\n",
      "                 coef    std err          t      P>|t|      [0.025      0.975]\n",
      "------------------------------------------------------------------------------\n",
      "const         -0.9048      0.456     -1.984      0.057      -1.839       0.029\n",
      "x1            -0.8869      0.047    -18.873      0.000      -0.983      -0.791\n",
      "==============================================================================\n",
      "Omnibus:                        4.575   Durbin-Watson:                   1.983\n",
      "Prob(Omnibus):                  0.102   Jarque-Bera (JB):                3.418\n",
      "Skew:                           0.820   Prob(JB):                        0.181\n",
      "Kurtosis:                       3.210   Cond. No.                         200.\n",
      "==============================================================================\n",
      "\n",
      "Warnings:\n",
      "[1] Standard Errors assume that the covariance matrix of the errors is correctly specified.\n",
      "Slope = -0.89\n",
      "t(28) = -18.87\n",
      "P = 0.0000000000\n"
     ]
    }
   ],
   "source": [
    "print('Running linear models predicting behavioral indices from full GLAM parameter estimates...')\n",
    "print('  Mean RT ~ Log(v)')\n",
    "_ = run_linear_model(np.log(parameters['v']),\n",
    "                     np.log(mean_rt))\n",
    "write_summary(_, 'results/linear_models/4_parambh_v_rt.csv')"
   ]
  },
  {
   "cell_type": "markdown",
   "metadata": {},
   "source": [
    "### 2.1 $\\gamma$ and P(choose best)"
   ]
  },
  {
   "cell_type": "code",
   "execution_count": 7,
   "metadata": {},
   "outputs": [
    {
     "name": "stdout",
     "output_type": "stream",
     "text": [
      "  P(choose best) ~ gamma\n",
      "                            OLS Regression Results                            \n",
      "==============================================================================\n",
      "Dep. Variable:                      y   R-squared:                       0.469\n",
      "Model:                            OLS   Adj. R-squared:                  0.450\n",
      "Method:                 Least Squares   F-statistic:                     24.76\n",
      "Date:                Mon, 04 Dec 2017   Prob (F-statistic):           2.96e-05\n",
      "Time:                        07:25:51   Log-Likelihood:                 35.841\n",
      "No. Observations:                  30   AIC:                            -67.68\n",
      "Df Residuals:                      28   BIC:                            -64.88\n",
      "Df Model:                           1                                         \n",
      "Covariance Type:            nonrobust                                         \n",
      "==============================================================================\n",
      "                 coef    std err          t      P>|t|      [0.025      0.975]\n",
      "------------------------------------------------------------------------------\n",
      "const          0.7122      0.015     47.703      0.000       0.682       0.743\n",
      "x1             0.1824      0.037      4.976      0.000       0.107       0.257\n",
      "==============================================================================\n",
      "Omnibus:                        2.733   Durbin-Watson:                   2.196\n",
      "Prob(Omnibus):                  0.255   Jarque-Bera (JB):                1.473\n",
      "Skew:                          -0.476   Prob(JB):                        0.479\n",
      "Kurtosis:                       3.521   Cond. No.                         2.72\n",
      "==============================================================================\n",
      "\n",
      "Warnings:\n",
      "[1] Standard Errors assume that the covariance matrix of the errors is correctly specified.\n",
      "Slope = 0.18\n",
      "t(28) = 4.98\n",
      "P = 0.0000296246\n"
     ]
    }
   ],
   "source": [
    "print('  P(choose best) ~ gamma')\n",
    "_ = run_linear_model(parameters['gamma'],\n",
    "                 p_choose_best)\n",
    "write_summary(_, 'results/linear_models/4_parambh_gamma_pchoosebest.csv')"
   ]
  },
  {
   "cell_type": "markdown",
   "metadata": {},
   "source": [
    "### 2.2 $\\sigma$ and P(choose best)"
   ]
  },
  {
   "cell_type": "code",
   "execution_count": 8,
   "metadata": {},
   "outputs": [
    {
     "name": "stdout",
     "output_type": "stream",
     "text": [
      "  P(choose best) ~ sigma\n",
      "                            OLS Regression Results                            \n",
      "==============================================================================\n",
      "Dep. Variable:                      y   R-squared:                       0.001\n",
      "Model:                            OLS   Adj. R-squared:                 -0.034\n",
      "Method:                 Least Squares   F-statistic:                   0.03729\n",
      "Date:                Mon, 04 Dec 2017   Prob (F-statistic):              0.848\n",
      "Time:                        07:25:51   Log-Likelihood:                 26.358\n",
      "No. Observations:                  30   AIC:                            -48.72\n",
      "Df Residuals:                      28   BIC:                            -45.91\n",
      "Df Model:                           1                                         \n",
      "Covariance Type:            nonrobust                                         \n",
      "==============================================================================\n",
      "                 coef    std err          t      P>|t|      [0.025      0.975]\n",
      "------------------------------------------------------------------------------\n",
      "const          0.7513      0.061     12.223      0.000       0.625       0.877\n",
      "x1            -1.5927      8.248     -0.193      0.848     -18.488      15.303\n",
      "==============================================================================\n",
      "Omnibus:                        0.117   Durbin-Watson:                   2.191\n",
      "Prob(Omnibus):                  0.943   Jarque-Bera (JB):                0.203\n",
      "Skew:                           0.129   Prob(JB):                        0.903\n",
      "Kurtosis:                       2.691   Cond. No.                         434.\n",
      "==============================================================================\n",
      "\n",
      "Warnings:\n",
      "[1] Standard Errors assume that the covariance matrix of the errors is correctly specified.\n",
      "Slope = -1.59\n",
      "t(28) = -0.19\n",
      "P = 0.8482772641\n"
     ]
    }
   ],
   "source": [
    "print('  P(choose best) ~ sigma')\n",
    "_ = run_linear_model(parameters['s'],\n",
    "                 p_choose_best)\n",
    "write_summary(_, 'results/linear_models/4_parambh_sigma_pchoosebest.csv')"
   ]
  },
  {
   "cell_type": "markdown",
   "metadata": {},
   "source": [
    "### 3. $\\gamma$ and Gaze influence on P(choose left)"
   ]
  },
  {
   "cell_type": "code",
   "execution_count": 9,
   "metadata": {},
   "outputs": [
    {
     "name": "stdout",
     "output_type": "stream",
     "text": [
      "  Gaze influence ~ gamma\n",
      "                            OLS Regression Results                            \n",
      "==============================================================================\n",
      "Dep. Variable:                      y   R-squared:                       0.536\n",
      "Model:                            OLS   Adj. R-squared:                  0.519\n",
      "Method:                 Least Squares   F-statistic:                     32.32\n",
      "Date:                Mon, 04 Dec 2017   Prob (F-statistic):           4.29e-06\n",
      "Time:                        07:25:51   Log-Likelihood:                 23.631\n",
      "No. Observations:                  30   AIC:                            -43.26\n",
      "Df Residuals:                      28   BIC:                            -40.46\n",
      "Df Model:                           1                                         \n",
      "Covariance Type:            nonrobust                                         \n",
      "==============================================================================\n",
      "                 coef    std err          t      P>|t|      [0.025      0.975]\n",
      "------------------------------------------------------------------------------\n",
      "const          0.2881      0.022     12.845      0.000       0.242       0.334\n",
      "x1            -0.3130      0.055     -5.685      0.000      -0.426      -0.200\n",
      "==============================================================================\n",
      "Omnibus:                        1.996   Durbin-Watson:                   2.198\n",
      "Prob(Omnibus):                  0.369   Jarque-Bera (JB):                1.771\n",
      "Skew:                           0.557   Prob(JB):                        0.413\n",
      "Kurtosis:                       2.584   Cond. No.                         2.72\n",
      "==============================================================================\n",
      "\n",
      "Warnings:\n",
      "[1] Standard Errors assume that the covariance matrix of the errors is correctly specified.\n",
      "Slope = -0.31\n",
      "t(28) = -5.68\n",
      "P = 0.0000042867\n"
     ]
    }
   ],
   "source": [
    "print('  Gaze influence ~ gamma')\n",
    "_ = run_linear_model(parameters['gamma'],\n",
    "                 gaze_influence)\n",
    "write_summary(_, 'results/linear_models/4_parambh_gamma_gazeinfluence.csv')"
   ]
  },
  {
   "cell_type": "markdown",
   "metadata": {},
   "source": [
    "# Figure 6"
   ]
  },
  {
   "cell_type": "code",
   "execution_count": 10,
   "metadata": {
    "collapsed": true
   },
   "outputs": [],
   "source": [
    "def figure_6(parameters, mean_rt, p_choose_best, gaze_influence,\n",
    "             figsize=(10, 3)):\n",
    "\n",
    "    fig, axs = plt.subplots(1, 3, figsize=figsize)\n",
    "\n",
    "    # multialternative, bottom row\n",
    "    plot_correlation(np.log(parameters['v']), np.log(mean_rt),\n",
    "                     xlim=(-11.2, -7.8), ylim=(6.3, 9.5),\n",
    "                     xlabel=r'Log $\\hat{v}$',\n",
    "                     ylabel='Log mean RT (ms)',\n",
    "                     xticks=np.arange(-11, -7, 0.5),\n",
    "                     xticklabels=[-11, '', -10, '', -9, '', -8],\n",
    "                     yticks=np.arange(6.5, 10, 0.5),\n",
    "                     yticklabels=[6, '', 7, '', 8, '', 9],\n",
    "                     fontsize_axeslabel=15,\n",
    "                     fontsize_annotation=8,\n",
    "                     annotation_pos=(0.1, 0.925),\n",
    "                     ax=axs[0])\n",
    "\n",
    "    plot_correlation(parameters['gamma'], p_choose_best,\n",
    "                     ylim=(0.35, 1.05), xlim=(-1.1, 1.1),\n",
    "                     annotation_pos=(0.1, .925),\n",
    "                     ylabel='P(choose best)',\n",
    "                     xlabel=r'$\\hat{\\gamma}$',\n",
    "                     xticks=np.arange(-1, 1.1, 0.25),\n",
    "                     xticklabels=[-1, '', -0.5, '', 0, '', 0.5, '', 1.0],\n",
    "                     yticks=np.arange(0.4, 1.1, 0.1),\n",
    "                     yticklabels=[0.4, '', 0.6, '', 0.8, '', 1.0],\n",
    "                     fontsize_axeslabel=15,\n",
    "                     fontsize_annotation=8,\n",
    "                     ax=axs[1])\n",
    "\n",
    "    plot_correlation(parameters['gamma'], gaze_influence,\n",
    "                     ylim=(-0.275, .625), xlim=(-1.1, 1.1),\n",
    "                     ylabel='Gaze influence on\\nP(choose left)',\n",
    "                     xlabel=r'$\\hat{\\gamma}$',\n",
    "                     xticks=np.arange(-1, 1.1, 0.25),\n",
    "                     xticklabels=[-1, '', -0.5, '', 0, '', 0.5, '', 1.0],\n",
    "                     yticks=np.arange(-0.2, 0.8, 0.2),\n",
    "                     yticklabels=np.arange(-0.2, 0.8, 0.2),\n",
    "                     fontsize_axeslabel=15,\n",
    "                     fontsize_annotation=8,\n",
    "                     annotation_pos=(0.1, 0.925),\n",
    "                     ax=axs[2])\n",
    "\n",
    "\n",
    "    # index axes\n",
    "    for label, ax in zip(list('ABC'), axs.ravel()):\n",
    "        ax.text(-0.1, 1.2, label, transform=ax.transAxes,\n",
    "                fontsize=20, fontweight='bold', va='top')\n",
    "\n",
    "    fig.tight_layout()\n",
    "    \n",
    "    return None"
   ]
  },
  {
   "cell_type": "code",
   "execution_count": 11,
   "metadata": {},
   "outputs": [
    {
     "name": "stdout",
     "output_type": "stream",
     "text": [
      "Close Figure to continue...\n"
     ]
    },
    {
     "data": {
      "image/png": "[encoded data removed]",
      "text/plain": [
       "<matplotlib.figure.Figure at 0x11ccf9550>"
      ]
     },
     "metadata": {},
     "output_type": "display_data"
    }
   ],
   "source": [
    "print('Close Figure to continue...')\n",
    "figure_6(parameters, mean_rt, p_choose_best, gaze_influence,\n",
    "         figsize=(10, 3))\n",
    "\n",
    "plt.savefig('results/figures/figure_6_glam_parameters_predict_behavior.png', dpi=330, bbox_inches='tight')\n",
    "plt.show()"
   ]
  }
 ],
 "metadata": {
  "kernelspec": {
   "display_name": "Python [default]",
   "language": "python",
   "name": "python3"
  },
  "language_info": {
   "codemirror_mode": {
    "name": "ipython",
    "version": 3
   },
   "file_extension": ".py",
   "mimetype": "text/x-python",
   "name": "python",
   "nbconvert_exporter": "python",
   "pygments_lexer": "ipython3",
   "version": "3.5.4"
  }
 },
 "nbformat": 4,
 "nbformat_minor": 2
}
