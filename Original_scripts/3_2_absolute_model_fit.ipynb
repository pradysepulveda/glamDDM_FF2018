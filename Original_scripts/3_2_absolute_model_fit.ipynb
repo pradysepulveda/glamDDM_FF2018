{
 "cells": [
  {
   "cell_type": "code",
   "execution_count": 1,
   "metadata": {},
   "outputs": [
    {
     "name": "stderr",
     "output_type": "stream",
     "text": [
      "/Users/felixmolter/anaconda/lib/python3.5/site-packages/statsmodels/compat/pandas.py:56: FutureWarning: The pandas.core.datetools module is deprecated and will be removed in a future version. Please use the pandas.tseries module instead.\n",
      "  from pandas.core import datetools\n"
     ]
    }
   ],
   "source": [
    "import numpy as np\n",
    "import pandas as pd\n",
    "import statsmodels.api as sm\n",
    "from statsmodels.stats.outliers_influence import summary_table\n",
    "\n",
    "# from seaborn import despine\n",
    "import matplotlib.pyplot as plt\n",
    "plt.rc(\"axes.spines\", top=False, right=False)\n",
    "\n",
    "from analysis_functions import compute_gaze_influence, sci_notation, run_linear_model, compute_mean_rt, compute_p_choose_best, write_summary, make_sure_path_exists"
   ]
  },
  {
   "cell_type": "code",
   "execution_count": 2,
   "metadata": {
    "collapsed": true
   },
   "outputs": [],
   "source": [
    "make_sure_path_exists('results/linear_models')"
   ]
  },
  {
   "cell_type": "code",
   "execution_count": 3,
   "metadata": {
    "collapsed": true
   },
   "outputs": [],
   "source": [
    "np.random.seed(52) # from random.org"
   ]
  },
  {
   "cell_type": "markdown",
   "metadata": {},
   "source": [
    "# 3.2. Absolute model fit (out of sample prediction)"
   ]
  },
  {
   "cell_type": "code",
   "execution_count": 4,
   "metadata": {},
   "outputs": [
    {
     "name": "stdout",
     "output_type": "stream",
     "text": [
      "Assessing absolute model fit...\n"
     ]
    }
   ],
   "source": [
    "print('Assessing absolute model fit...')"
   ]
  },
  {
   "cell_type": "markdown",
   "metadata": {},
   "source": [
    "### Load plot function"
   ]
  },
  {
   "cell_type": "code",
   "execution_count": 5,
   "metadata": {
    "collapsed": true
   },
   "outputs": [],
   "source": [
    "def plot_correlation(x, y,\n",
    "                     model_names=None,\n",
    "                     xlabel='',\n",
    "                     ylabel='',\n",
    "                     title='',\n",
    "                     ci=0.95,\n",
    "                     xticks=None,\n",
    "                     yticks=None,\n",
    "                     xticklabels=None,\n",
    "                     yticklabels=None,\n",
    "                     xlim=None,\n",
    "                     ylim=None,\n",
    "                     annotation_pos=(0.1, 0.1),\n",
    "                     annotation_halign='left',\n",
    "                     fontsize_title=15,\n",
    "                     fontsize_axeslabel=15,\n",
    "                     fontsize_ticklabels=12,\n",
    "                     fontsize_annotation=12,\n",
    "                     plot_diagonal=False,\n",
    "                     ax=None):\n",
    "\n",
    "    # Defaults\n",
    "    if ax is None:\n",
    "        fig, ax = plt.subplots()\n",
    "    if not isinstance(y, list):\n",
    "        y = [y]\n",
    "    if model_names is None:\n",
    "        model_names = ['Model {}'.format(i)\n",
    "                       for i in range(len(y))]\n",
    "    \n",
    "    for i, yi in enumerate(y):\n",
    "        # Scatter\n",
    "        ax.scatter(x, yi, color='C{}'.format(i), alpha=0.5)\n",
    "\n",
    "        # LM fit\n",
    "        X = sm.add_constant(x)\n",
    "        lm = sm.OLS(yi, X).fit()\n",
    "        intercept, slope = lm.params\n",
    "        table, data, columns = summary_table(lm, alpha=1.-ci)\n",
    "        predicted, mean_ci_lower, mean_ci_upper = data[:, np.array([2, 4, 5])].T\n",
    "\n",
    "         # Annotation\n",
    "        tval = lm.tvalues[-1]\n",
    "        pval = lm.pvalues[-1]\n",
    "        if pval < 0.01:\n",
    "            pstring = ' < ' + sci_notation(pval, decimal_digits=2)\n",
    "        else:\n",
    "            pstring = ' = {:.2f}'.format(pval)\n",
    "        r = np.sign(tval) * np.sqrt(lm.rsquared)\n",
    "        label = ((r'$r = {:.2f}$, '.format(r)) +\n",
    "                  r'$P${}'.format(pstring))\n",
    "        xs = np.linspace(*ax.get_xlim(), 100)\n",
    "        ax.plot(xs, intercept + slope * xs,\n",
    "                color='C{}'.format(i), label=label)\n",
    "        sort_idx = np.argsort(x)\n",
    "        ax.fill_between(x[sort_idx], mean_ci_lower[sort_idx], mean_ci_upper[sort_idx],\n",
    "                        color='C{}'.format(i), alpha=0.1)\n",
    "\n",
    "    ax.legend(loc='best', fontsize=fontsize_annotation, frameon=False)\n",
    "\n",
    "    # Axes, ticks, ...\n",
    "    if xticks is not None:\n",
    "        ax.set_xticks(xticks)\n",
    "    if yticks is not None:\n",
    "        ax.set_yticks(yticks)\n",
    "        \n",
    "    if xticklabels is not None:\n",
    "        ax.set_xticklabels(xticklabels, fontsize=fontsize_ticklabels)\n",
    "    if yticklabels is not None:\n",
    "        ax.set_yticklabels(yticklabels, fontsize=fontsize_ticklabels)\n",
    "\n",
    "    if xlim is not None:\n",
    "        ax.set_xlim(xlim)\n",
    "    if ylim is not None:\n",
    "        ax.set_ylim(ylim)\n",
    "\n",
    "    # Diagonal\n",
    "    if plot_diagonal:\n",
    "        ax.plot([0, 1], [0, 1], transform=ax.transAxes,\n",
    "                color='black', alpha=.5, zorder=-10, lw=2)\n",
    "\n",
    "    # Labels\n",
    "    ax.set_xlabel(xlabel, fontsize=fontsize_axeslabel)\n",
    "    ax.set_ylabel(ylabel, fontsize=fontsize_axeslabel)\n",
    "    ax.set_title(title, fontsize=fontsize_title)\n",
    "#     despine()\n",
    "\n",
    "    return ax"
   ]
  },
  {
   "cell_type": "markdown",
   "metadata": {},
   "source": [
    "## Load *observed* data (test set) GLAM out of sample *predictions*"
   ]
  },
  {
   "cell_type": "code",
   "execution_count": 6,
   "metadata": {
    "collapsed": true
   },
   "outputs": [],
   "source": [
    "test_data = pd.read_csv('data/krajbich_2011_pnas/data_pnas2011_preprocessed_test.csv')\n",
    "\n",
    "glam_full = pd.read_csv('results/predictions/glam_full_hierarchical_cv.csv')\n",
    "glam_nobias = pd.read_csv('results/predictions/glam_nobias_hierarchical_cv.csv')"
   ]
  },
  {
   "cell_type": "markdown",
   "metadata": {},
   "source": [
    "# Compute behavioral indices for observed data and predictions"
   ]
  },
  {
   "cell_type": "code",
   "execution_count": 7,
   "metadata": {
    "collapsed": true
   },
   "outputs": [],
   "source": [
    "mean_rt = pd.DataFrame(dict(observed=compute_mean_rt(test_data),\n",
    "                            glam_full=compute_mean_rt(glam_full),\n",
    "                            glam_nobias=compute_mean_rt(glam_nobias)))\n",
    "\n",
    "p_choose_best = pd.DataFrame(dict(observed=compute_p_choose_best(test_data),\n",
    "                            glam_full=compute_p_choose_best(glam_full),\n",
    "                            glam_nobias=compute_p_choose_best(glam_nobias)))\n",
    "\n",
    "gaze_influence = pd.DataFrame(dict(observed=compute_gaze_influence(test_data),\n",
    "                                   glam_full=compute_gaze_influence(glam_full),\n",
    "                                   glam_nobias=compute_gaze_influence(glam_nobias)))"
   ]
  },
  {
   "cell_type": "markdown",
   "metadata": {},
   "source": [
    "## Linear models: Are out of sample data predicted by GLAM variants?\n",
    "\n",
    "### 1. Full GLAM\n",
    "\n",
    "#### 1.1 Mean RT"
   ]
  },
  {
   "cell_type": "code",
   "execution_count": 8,
   "metadata": {},
   "outputs": [
    {
     "name": "stdout",
     "output_type": "stream",
     "text": [
      "  1. Full GLAM...\n",
      "  1.1 Mean RT\n",
      "                            OLS Regression Results                            \n",
      "==============================================================================\n",
      "Dep. Variable:               observed   R-squared:                       0.961\n",
      "Model:                            OLS   Adj. R-squared:                  0.959\n",
      "Method:                 Least Squares   F-statistic:                     684.7\n",
      "Date:                Mon, 04 Dec 2017   Prob (F-statistic):           3.18e-21\n",
      "Time:                        07:25:48   Log-Likelihood:                -208.26\n",
      "No. Observations:                  30   AIC:                             420.5\n",
      "Df Residuals:                      28   BIC:                             423.3\n",
      "Df Model:                           1                                         \n",
      "Covariance Type:            nonrobust                                         \n",
      "==============================================================================\n",
      "                 coef    std err          t      P>|t|      [0.025      0.975]\n",
      "------------------------------------------------------------------------------\n",
      "const        -67.0183    106.441     -0.630      0.534    -285.053     151.016\n",
      "glam_full      1.0576      0.040     26.166      0.000       0.975       1.140\n",
      "==============================================================================\n",
      "Omnibus:                        7.711   Durbin-Watson:                   1.795\n",
      "Prob(Omnibus):                  0.021   Jarque-Bera (JB):                6.664\n",
      "Skew:                           0.747   Prob(JB):                       0.0357\n",
      "Kurtosis:                       4.760   Cond. No.                     5.92e+03\n",
      "==============================================================================\n",
      "\n",
      "Warnings:\n",
      "[1] Standard Errors assume that the covariance matrix of the errors is correctly specified.\n",
      "[2] The condition number is large, 5.92e+03. This might indicate that there are\n",
      "strong multicollinearity or other numerical problems.\n",
      "Slope = 1.06\n",
      "t(28) = 26.17\n",
      "P = 0.0000000000\n"
     ]
    }
   ],
   "source": [
    "print('  1. Full GLAM...')\n",
    "print('  1.1 Mean RT')\n",
    "_ = run_linear_model(mean_rt['glam_full'],\n",
    "                     mean_rt['observed'])\n",
    "write_summary(_, 'results/linear_models/3_absfit_fullglam_rt.csv')"
   ]
  },
  {
   "cell_type": "markdown",
   "metadata": {},
   "source": [
    "#### 1.2 P(choose best)"
   ]
  },
  {
   "cell_type": "code",
   "execution_count": 9,
   "metadata": {},
   "outputs": [
    {
     "name": "stdout",
     "output_type": "stream",
     "text": [
      "  1.2 P(choose best)\n",
      "                            OLS Regression Results                            \n",
      "==============================================================================\n",
      "Dep. Variable:               observed   R-squared:                       0.724\n",
      "Model:                            OLS   Adj. R-squared:                  0.714\n",
      "Method:                 Least Squares   F-statistic:                     73.37\n",
      "Date:                Mon, 04 Dec 2017   Prob (F-statistic):           2.61e-09\n",
      "Time:                        07:25:48   Log-Likelihood:                 45.636\n",
      "No. Observations:                  30   AIC:                            -87.27\n",
      "Df Residuals:                      28   BIC:                            -84.47\n",
      "Df Model:                           1                                         \n",
      "Covariance Type:            nonrobust                                         \n",
      "==============================================================================\n",
      "                 coef    std err          t      P>|t|      [0.025      0.975]\n",
      "------------------------------------------------------------------------------\n",
      "const          0.2030      0.063      3.197      0.003       0.073       0.333\n",
      "glam_full      0.7503      0.088      8.565      0.000       0.571       0.930\n",
      "==============================================================================\n",
      "Omnibus:                        0.043   Durbin-Watson:                   2.433\n",
      "Prob(Omnibus):                  0.979   Jarque-Bera (JB):                0.252\n",
      "Skew:                          -0.019   Prob(JB):                        0.882\n",
      "Kurtosis:                       2.552   Cond. No.                         13.3\n",
      "==============================================================================\n",
      "\n",
      "Warnings:\n",
      "[1] Standard Errors assume that the covariance matrix of the errors is correctly specified.\n",
      "Slope = 0.75\n",
      "t(28) = 8.57\n",
      "P = 0.0000000026\n"
     ]
    }
   ],
   "source": [
    "print('  1.2 P(choose best)')\n",
    "_ = run_linear_model(p_choose_best['glam_full'],\n",
    "                     p_choose_best['observed'])\n",
    "write_summary(_, 'results/linear_models/3_absfit_fullglam_pchoosebest.csv')"
   ]
  },
  {
   "cell_type": "markdown",
   "metadata": {},
   "source": [
    "#### 1.3 Gaze influence on P(choose left)"
   ]
  },
  {
   "cell_type": "code",
   "execution_count": 10,
   "metadata": {},
   "outputs": [
    {
     "name": "stdout",
     "output_type": "stream",
     "text": [
      "  1.3 Gaze Influence\n",
      "                            OLS Regression Results                            \n",
      "==============================================================================\n",
      "Dep. Variable:               observed   R-squared:                       0.615\n",
      "Model:                            OLS   Adj. R-squared:                  0.602\n",
      "Method:                 Least Squares   F-statistic:                     44.81\n",
      "Date:                Mon, 04 Dec 2017   Prob (F-statistic):           2.89e-07\n",
      "Time:                        07:25:48   Log-Likelihood:                 26.454\n",
      "No. Observations:                  30   AIC:                            -48.91\n",
      "Df Residuals:                      28   BIC:                            -46.11\n",
      "Df Model:                           1                                         \n",
      "Covariance Type:            nonrobust                                         \n",
      "==============================================================================\n",
      "                 coef    std err          t      P>|t|      [0.025      0.975]\n",
      "------------------------------------------------------------------------------\n",
      "const          0.0432      0.035      1.233      0.228      -0.029       0.115\n",
      "glam_full      0.9804      0.146      6.694      0.000       0.680       1.280\n",
      "==============================================================================\n",
      "Omnibus:                        0.907   Durbin-Watson:                   2.050\n",
      "Prob(Omnibus):                  0.635   Jarque-Bera (JB):                0.579\n",
      "Skew:                           0.337   Prob(JB):                        0.749\n",
      "Kurtosis:                       2.910   Cond. No.                         8.05\n",
      "==============================================================================\n",
      "\n",
      "Warnings:\n",
      "[1] Standard Errors assume that the covariance matrix of the errors is correctly specified.\n",
      "Slope = 0.98\n",
      "t(28) = 6.69\n",
      "P = 0.0000002888\n"
     ]
    }
   ],
   "source": [
    "print('  1.3 Gaze Influence')\n",
    "_ = run_linear_model(gaze_influence['glam_full'],\n",
    "                     gaze_influence['observed'])\n",
    "write_summary(_, 'results/linear_models/3_absfit_fullglam_gazeinfluence.csv')"
   ]
  },
  {
   "cell_type": "markdown",
   "metadata": {},
   "source": [
    "### 2. No-Bias GLAM\n",
    "\n",
    "#### 2.1 Mean RT"
   ]
  },
  {
   "cell_type": "code",
   "execution_count": 11,
   "metadata": {},
   "outputs": [
    {
     "name": "stdout",
     "output_type": "stream",
     "text": [
      "  2. No-Bias GLAM\n",
      "  2.1 Mean RT\n",
      "                            OLS Regression Results                            \n",
      "==============================================================================\n",
      "Dep. Variable:               observed   R-squared:                       0.963\n",
      "Model:                            OLS   Adj. R-squared:                  0.962\n",
      "Method:                 Least Squares   F-statistic:                     733.0\n",
      "Date:                Mon, 04 Dec 2017   Prob (F-statistic):           1.27e-21\n",
      "Time:                        07:25:48   Log-Likelihood:                -207.27\n",
      "No. Observations:                  30   AIC:                             418.5\n",
      "Df Residuals:                      28   BIC:                             421.3\n",
      "Df Model:                           1                                         \n",
      "Covariance Type:            nonrobust                                         \n",
      "===============================================================================\n",
      "                  coef    std err          t      P>|t|      [0.025      0.975]\n",
      "-------------------------------------------------------------------------------\n",
      "const          22.0537     99.961      0.221      0.827    -182.706     226.814\n",
      "glam_nobias     1.0151      0.037     27.074      0.000       0.938       1.092\n",
      "==============================================================================\n",
      "Omnibus:                       16.177   Durbin-Watson:                   1.750\n",
      "Prob(Omnibus):                  0.000   Jarque-Bera (JB):               19.520\n",
      "Skew:                           1.386   Prob(JB):                     5.77e-05\n",
      "Kurtosis:                       5.816   Cond. No.                     5.82e+03\n",
      "==============================================================================\n",
      "\n",
      "Warnings:\n",
      "[1] Standard Errors assume that the covariance matrix of the errors is correctly specified.\n",
      "[2] The condition number is large, 5.82e+03. This might indicate that there are\n",
      "strong multicollinearity or other numerical problems.\n",
      "Slope = 1.02\n",
      "t(28) = 27.07\n",
      "P = 0.0000000000\n"
     ]
    }
   ],
   "source": [
    "print('  2. No-Bias GLAM')\n",
    "print('  2.1 Mean RT')\n",
    "_ = run_linear_model(mean_rt['glam_nobias'],\n",
    "                     mean_rt['observed'])\n",
    "write_summary(_, 'results/linear_models/3_absfit_nobias_rt.csv')"
   ]
  },
  {
   "cell_type": "markdown",
   "metadata": {},
   "source": [
    "#### 2.2 P(choose best)"
   ]
  },
  {
   "cell_type": "code",
   "execution_count": 12,
   "metadata": {},
   "outputs": [
    {
     "name": "stdout",
     "output_type": "stream",
     "text": [
      "  2.2 P(choose best)\n",
      "                            OLS Regression Results                            \n",
      "==============================================================================\n",
      "Dep. Variable:               observed   R-squared:                       0.603\n",
      "Model:                            OLS   Adj. R-squared:                  0.589\n",
      "Method:                 Least Squares   F-statistic:                     42.61\n",
      "Date:                Mon, 04 Dec 2017   Prob (F-statistic):           4.48e-07\n",
      "Time:                        07:25:48   Log-Likelihood:                 40.213\n",
      "No. Observations:                  30   AIC:                            -76.43\n",
      "Df Residuals:                      28   BIC:                            -73.62\n",
      "Df Model:                           1                                         \n",
      "Covariance Type:            nonrobust                                         \n",
      "===============================================================================\n",
      "                  coef    std err          t      P>|t|      [0.025      0.975]\n",
      "-------------------------------------------------------------------------------\n",
      "const           0.1928      0.085      2.278      0.031       0.019       0.366\n",
      "glam_nobias     0.7495      0.115      6.528      0.000       0.514       0.985\n",
      "==============================================================================\n",
      "Omnibus:                        2.776   Durbin-Watson:                   2.631\n",
      "Prob(Omnibus):                  0.250   Jarque-Bera (JB):                2.288\n",
      "Skew:                           0.667   Prob(JB):                        0.319\n",
      "Kurtosis:                       2.772   Cond. No.                         14.7\n",
      "==============================================================================\n",
      "\n",
      "Warnings:\n",
      "[1] Standard Errors assume that the covariance matrix of the errors is correctly specified.\n",
      "Slope = 0.75\n",
      "t(28) = 6.53\n",
      "P = 0.0000004477\n"
     ]
    }
   ],
   "source": [
    "print('  2.2 P(choose best)')\n",
    "_ = run_linear_model(p_choose_best['glam_nobias'],\n",
    "                     p_choose_best['observed'])\n",
    "write_summary(_, 'results/linear_models/3_absfit_nobias_pchoosebest.csv')"
   ]
  },
  {
   "cell_type": "markdown",
   "metadata": {},
   "source": [
    "#### 2.3 Gaze influence on P(choose left)"
   ]
  },
  {
   "cell_type": "code",
   "execution_count": 13,
   "metadata": {},
   "outputs": [
    {
     "name": "stdout",
     "output_type": "stream",
     "text": [
      "  2.3 Gaze influence\n",
      "                            OLS Regression Results                            \n",
      "==============================================================================\n",
      "Dep. Variable:               observed   R-squared:                       0.077\n",
      "Model:                            OLS   Adj. R-squared:                  0.044\n",
      "Method:                 Least Squares   F-statistic:                     2.339\n",
      "Date:                Mon, 04 Dec 2017   Prob (F-statistic):              0.137\n",
      "Time:                        07:25:48   Log-Likelihood:                 13.323\n",
      "No. Observations:                  30   AIC:                            -22.65\n",
      "Df Residuals:                      28   BIC:                            -19.84\n",
      "Df Model:                           1                                         \n",
      "Covariance Type:            nonrobust                                         \n",
      "===============================================================================\n",
      "                  coef    std err          t      P>|t|      [0.025      0.975]\n",
      "-------------------------------------------------------------------------------\n",
      "const           0.2466      0.030      8.329      0.000       0.186       0.307\n",
      "glam_nobias    -2.9711      1.943     -1.529      0.137      -6.951       1.009\n",
      "==============================================================================\n",
      "Omnibus:                        0.755   Durbin-Watson:                   2.207\n",
      "Prob(Omnibus):                  0.685   Jarque-Bera (JB):                0.738\n",
      "Skew:                           0.110   Prob(JB):                        0.692\n",
      "Kurtosis:                       2.264   Cond. No.                         66.2\n",
      "==============================================================================\n",
      "\n",
      "Warnings:\n",
      "[1] Standard Errors assume that the covariance matrix of the errors is correctly specified.\n",
      "Slope = -2.97\n",
      "t(28) = -1.53\n",
      "P = 0.1374284602\n"
     ]
    }
   ],
   "source": [
    "print('  2.3 Gaze influence')\n",
    "_ = run_linear_model(gaze_influence['glam_nobias'],\n",
    "                     gaze_influence['observed'])\n",
    "write_summary(_, 'results/linear_models/3_absfit_nobias_gazeinfluence.csv')"
   ]
  },
  {
   "cell_type": "markdown",
   "metadata": {},
   "source": [
    "# Figure 5"
   ]
  },
  {
   "cell_type": "code",
   "execution_count": 14,
   "metadata": {
    "collapsed": true
   },
   "outputs": [],
   "source": [
    "def figure_5(mean_rt, p_choose_best, gaze_influence, figsize=(10, 3.5)):\n",
    "\n",
    "    fig, axs = plt.subplots(1, 3, figsize=figsize)\n",
    "\n",
    "    plot_correlation(mean_rt['observed'].values,\n",
    "                     [mean_rt['glam_full'].values, mean_rt['glam_nobias'].values],\n",
    "                     model_names=['Full', r'$\\theta = 1$'],\n",
    "                     xlabel='Observed',\n",
    "                     ylabel='Predicted',\n",
    "                     title='Mean RT (ms)',\n",
    "                     xlim=[0, 6500],\n",
    "                     ylim=[0, 6500],\n",
    "                     xticks=np.arange(0, 7000, 1000),\n",
    "                     yticks=np.arange(0, 7000, 1000),\n",
    "                     xticklabels=['0', '', '2000', '', '4000', '', '6000'],\n",
    "                     yticklabels=['0', '', '2000', '', '4000', '', '6000'],\n",
    "                     fontsize_axeslabel=15,\n",
    "                     fontsize_ticklabels=12,\n",
    "                     fontsize_title=15,\n",
    "                     fontsize_annotation=8,\n",
    "                     ax=axs[0], plot_diagonal=True)\n",
    "\n",
    "    plot_correlation(p_choose_best['observed'].values,\n",
    "                     [p_choose_best['glam_full'].values, p_choose_best['glam_nobias'].values],\n",
    "                     model_names=['Full', r'$\\theta = 1$'],\n",
    "                     xlabel='Observed',\n",
    "                     ylabel='Predicted',\n",
    "                     title='P(choose best)',\n",
    "                     xlim=[0.45, 1.05],\n",
    "                     ylim=[0.45, 1.05],\n",
    "                     xticks=np.arange(0.4, 1.1, 0.1),\n",
    "                     yticks=np.arange(0.4, 1.1, 0.1),\n",
    "                     xticklabels=['0.4', '0.5', '0.6', '0.7', '0.8', '0.9', '1.0'],\n",
    "                     yticklabels=['0.4', '0.5', '0.6', '0.7', '0.8', '0.9', '1.0'],\n",
    "                     fontsize_axeslabel=15,\n",
    "                     fontsize_ticklabels=12,\n",
    "                     fontsize_title=15,\n",
    "                     fontsize_annotation=8,\n",
    "                     ax=axs[1], plot_diagonal=True)\n",
    "\n",
    "    plot_correlation(gaze_influence['observed'].values,\n",
    "                     [gaze_influence['glam_full'].values, gaze_influence['glam_nobias'].values],\n",
    "                     model_names=['Full', r'$\\theta = 1$'],\n",
    "                     xlabel='Observed',\n",
    "                     ylabel='Predicted',\n",
    "                     title='Gaze influence\\non P(choose left)',\n",
    "                     xticks=np.arange(-0.1, 0.7, 0.1),\n",
    "                     yticks=np.arange(-0.1, 0.7, 0.1),\n",
    "                     xticklabels=['-0.1', '0', '0.1', '0.2', '0.3', '0.4', '0.5', '0.6'],\n",
    "                     yticklabels=['-0.1', '0', '0.1', '0.2', '0.3', '0.4', '0.5', '0.6'],\n",
    "                     xlim=[-0.125, 0.625],\n",
    "                     ylim=[-0.125, 0.625],\n",
    "                     fontsize_axeslabel=15,\n",
    "                     fontsize_ticklabels=12,\n",
    "                     fontsize_title=15,\n",
    "                     fontsize_annotation=8,\n",
    "                     ax=axs[2], plot_diagonal=True)\n",
    "\n",
    "    # index axes\n",
    "    for label, ax in zip(list('ABC'), axs.ravel()):\n",
    "        ax.text(-0.1, 1.15, label, transform=ax.transAxes,\n",
    "                fontsize=20, fontweight='bold', va='top')\n",
    "\n",
    "    fig.tight_layout()\n",
    "\n",
    "    return None"
   ]
  },
  {
   "cell_type": "code",
   "execution_count": 15,
   "metadata": {},
   "outputs": [
    {
     "name": "stdout",
     "output_type": "stream",
     "text": [
      "Close Figure to continue...\n"
     ]
    },
    {
     "data": {
      "image/png": "[encoded data removed]",
      "text/plain": [
       "<matplotlib.figure.Figure at 0x10cc27f60>"
      ]
     },
     "metadata": {},
     "output_type": "display_data"
    }
   ],
   "source": [
    "print('Close Figure to continue...')\n",
    "figure_5(mean_rt, p_choose_best, gaze_influence)\n",
    "plt.savefig('results/figures/figure_5_absolute_model_fit.png', dpi=330, bbox_inches='tight')\n",
    "plt.show()"
   ]
  }
 ],
 "metadata": {
  "kernelspec": {
   "display_name": "Python [default]",
   "language": "python",
   "name": "python3"
  },
  "language_info": {
   "codemirror_mode": {
    "name": "ipython",
    "version": 3
   },
   "file_extension": ".py",
   "mimetype": "text/x-python",
   "name": "python",
   "nbconvert_exporter": "python",
   "pygments_lexer": "ipython3",
   "version": "3.5.4"
  }
 },
 "nbformat": 4,
 "nbformat_minor": 2
}
