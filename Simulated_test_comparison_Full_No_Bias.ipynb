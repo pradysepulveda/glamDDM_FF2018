{
 "cells": [
  {
   "cell_type": "code",
   "execution_count": 5,
   "metadata": {},
   "outputs": [],
   "source": [
    "import numpy as np\n",
    "import pandas as pd\n",
    "import statsmodels.api as sm\n",
    "from statsmodels.stats.outliers_influence import summary_table\n",
    "\n",
    "# from seaborn import despine\n",
    "import matplotlib.pyplot as plt\n",
    "plt.rc(\"axes.spines\", top=False, right=False)\n",
    "\n",
    "from analysis_functions import compute_gaze_influence, sci_notation, run_linear_model, compute_mean_rt, compute_p_choose_best, write_summary, make_sure_path_exists"
   ]
  },
  {
   "cell_type": "code",
   "execution_count": 6,
   "metadata": {
    "collapsed": true
   },
   "outputs": [],
   "source": [
    "make_sure_path_exists('results/linear_models')"
   ]
  },
  {
   "cell_type": "code",
   "execution_count": 7,
   "metadata": {
    "collapsed": true
   },
   "outputs": [],
   "source": [
    "np.random.seed(52) # from random.org"
   ]
  },
  {
   "cell_type": "markdown",
   "metadata": {},
   "source": [
    "# Absolute model fit (out of sample prediction)\n",
    "# Full Model vs No Bias Model\n",
    "## Like and dislike condition"
   ]
  },
  {
   "cell_type": "code",
   "execution_count": 8,
   "metadata": {},
   "outputs": [
    {
     "name": "stdout",
     "output_type": "stream",
     "text": [
      "Assessing absolute model fit...\n"
     ]
    }
   ],
   "source": [
    "print('Assessing absolute model fit...')"
   ]
  },
  {
   "cell_type": "markdown",
   "metadata": {},
   "source": [
    "### Load plot function"
   ]
  },
  {
   "cell_type": "code",
   "execution_count": 9,
   "metadata": {
    "collapsed": true
   },
   "outputs": [],
   "source": [
    "def plot_correlation(x, y,\n",
    "                     model_names=None,\n",
    "                     xlabel='',\n",
    "                     ylabel='',\n",
    "                     title='',\n",
    "                     ci=0.95,\n",
    "                     xticks=None,\n",
    "                     yticks=None,\n",
    "                     xticklabels=None,\n",
    "                     yticklabels=None,\n",
    "                     xlim=None,\n",
    "                     ylim=None,\n",
    "                     annotation_pos=(0.1, 0.1),\n",
    "                     annotation_halign='left',\n",
    "                     fontsize_title=15,\n",
    "                     fontsize_axeslabel=15,\n",
    "                     fontsize_ticklabels=12,\n",
    "                     fontsize_annotation=12,\n",
    "                     plot_diagonal=False,\n",
    "                     ax=None):\n",
    "\n",
    "    # Defaults\n",
    "    if ax is None:\n",
    "        fig, ax = plt.subplots()\n",
    "    if not isinstance(y, list):\n",
    "        y = [y]\n",
    "    if model_names is None:\n",
    "        model_names = ['Model {}'.format(i)\n",
    "                       for i in range(len(y))]\n",
    "    \n",
    "    for i, yi in enumerate(y):\n",
    "        # Scatter\n",
    "        ax.scatter(x, yi, color='C{}'.format(i), alpha=0.5)\n",
    "\n",
    "        # LM fit\n",
    "        X = sm.add_constant(x)\n",
    "        lm = sm.OLS(yi, X).fit()\n",
    "        intercept, slope = lm.params\n",
    "        table, data, columns = summary_table(lm, alpha=1.-ci)\n",
    "        predicted, mean_ci_lower, mean_ci_upper = data[:, np.array([2, 4, 5])].T\n",
    "\n",
    "         # Annotation\n",
    "        tval = lm.tvalues[-1]\n",
    "        pval = lm.pvalues[-1]\n",
    "        if pval < 0.01:\n",
    "            pstring = ' < ' + sci_notation(pval, decimal_digits=2)\n",
    "        else:\n",
    "            pstring = ' = {:.2f}'.format(pval)\n",
    "        r = np.sign(tval) * np.sqrt(lm.rsquared)\n",
    "        label = ((r'$r = {:.2f}$, '.format(r)) +\n",
    "                  r'$P${}'.format(pstring))\n",
    "        xs = np.linspace(*ax.get_xlim(), 100)\n",
    "        ax.plot(xs, intercept + slope * xs,\n",
    "                color='C{}'.format(i), label=label)\n",
    "        sort_idx = np.argsort(x)\n",
    "        ax.fill_between(x[sort_idx], mean_ci_lower[sort_idx], mean_ci_upper[sort_idx],\n",
    "                        color='C{}'.format(i), alpha=0.1)\n",
    "\n",
    "    ax.legend(loc='best', fontsize=fontsize_annotation, frameon=False)\n",
    "\n",
    "    # Axes, ticks, ...\n",
    "    if xticks is not None:\n",
    "        ax.set_xticks(xticks)\n",
    "    if yticks is not None:\n",
    "        ax.set_yticks(yticks)\n",
    "        \n",
    "    if xticklabels is not None:\n",
    "        ax.set_xticklabels(xticklabels, fontsize=fontsize_ticklabels)\n",
    "    if yticklabels is not None:\n",
    "        ax.set_yticklabels(yticklabels, fontsize=fontsize_ticklabels)\n",
    "\n",
    "    if xlim is not None:\n",
    "        ax.set_xlim(xlim)\n",
    "    if ylim is not None:\n",
    "        ax.set_ylim(ylim)\n",
    "\n",
    "    # Diagonal\n",
    "    if plot_diagonal:\n",
    "        ax.plot([0, 1], [0, 1], transform=ax.transAxes,\n",
    "                color='black', alpha=.5, zorder=-10, lw=2)\n",
    "\n",
    "    # Labels\n",
    "    ax.set_xlabel(xlabel, fontsize=fontsize_axeslabel)\n",
    "    ax.set_ylabel(ylabel, fontsize=fontsize_axeslabel)\n",
    "    ax.set_title(title, fontsize=fontsize_title)\n",
    "#     despine()\n",
    "\n",
    "    return ax"
   ]
  },
  {
   "cell_type": "markdown",
   "metadata": {},
   "source": [
    "# LIKE CONDITION"
   ]
  },
  {
   "cell_type": "markdown",
   "metadata": {},
   "source": [
    "## Load *observed* data (test set) GLAM out of sample *predictions*"
   ]
  },
  {
   "cell_type": "code",
   "execution_count": 10,
   "metadata": {
    "collapsed": true
   },
   "outputs": [],
   "source": [
    "#Like\n",
    "test_data = pd.read_csv('data/FF2018_data/GlamDataFF2018_preprocessed_test_Like_FixBin5_NUTS.csv')\n",
    "#Dislike\n",
    "#test_data = pd.read_csv('data/FF2018_data/GlamDataFF2018_preprocessed_test_Dislike_FixBin5_InvInputDislike_NUTS.csv')\n",
    "\n",
    "#Like\n",
    "glam_full = pd.read_csv('results/predictions/glam_FF2018_full_hierarchical_cv_Like_FixBin5_NUTS.csv')\n",
    "glam_nobias = pd.read_csv('results/predictions/glam_FF2018_nobias_hierarchical_cv_Like_FixBin5_NUTS.csv')\n",
    "\n",
    "#Dislike\n",
    "#glam_full = pd.read_csv('results/predictions/glam_FF2018_full_hierarchical_cv_Dislike_FixBin5_InvInputDislike_NUTS.csv')\n",
    "#glam_nobias = pd.read_csv('results/predictions/glam_FF2018_nobias_hierarchical_cv_Dislike_FixBin5_InvInputDislike_NUTS.csv')"
   ]
  },
  {
   "cell_type": "markdown",
   "metadata": {},
   "source": [
    "# Compute behavioral indices for observed data and predictions"
   ]
  },
  {
   "cell_type": "code",
   "execution_count": 11,
   "metadata": {
    "collapsed": true
   },
   "outputs": [],
   "source": [
    "mean_rt = pd.DataFrame(dict(observed=compute_mean_rt(test_data),\n",
    "                            glam_full=compute_mean_rt(glam_full),\n",
    "                            glam_nobias=compute_mean_rt(glam_nobias)))\n",
    "\n",
    "p_choose_best = pd.DataFrame(dict(observed=compute_p_choose_best(test_data),\n",
    "                            glam_full=compute_p_choose_best(glam_full),\n",
    "                            glam_nobias=compute_p_choose_best(glam_nobias)))\n",
    "\n",
    "gaze_influence = pd.DataFrame(dict(observed=compute_gaze_influence(test_data),\n",
    "                                   glam_full=compute_gaze_influence(glam_full),\n",
    "                                   glam_nobias=compute_gaze_influence(glam_nobias)))"
   ]
  },
  {
   "cell_type": "markdown",
   "metadata": {},
   "source": [
    "## Linear models: Are out of sample data predicted by GLAM variants?\n",
    "\n",
    "### 1. Full GLAM\n",
    "\n",
    "#### 1.1 Mean RT"
   ]
  },
  {
   "cell_type": "code",
   "execution_count": 12,
   "metadata": {},
   "outputs": [
    {
     "name": "stdout",
     "output_type": "stream",
     "text": [
      "  1. Full GLAM...\n",
      "  1.1 Mean RT\n",
      "                            OLS Regression Results                            \n",
      "==============================================================================\n",
      "Dep. Variable:               observed   R-squared:                       0.912\n",
      "Model:                            OLS   Adj. R-squared:                  0.909\n",
      "Method:                 Least Squares   F-statistic:                     320.6\n",
      "Date:                Tue, 27 Nov 2018   Prob (F-statistic):           6.66e-18\n",
      "Time:                        20:50:35   Log-Likelihood:                -227.72\n",
      "No. Observations:                  33   AIC:                             459.4\n",
      "Df Residuals:                      31   BIC:                             462.4\n",
      "Df Model:                           1                                         \n",
      "Covariance Type:            nonrobust                                         \n",
      "==============================================================================\n",
      "                 coef    std err          t      P>|t|      [0.025      0.975]\n",
      "------------------------------------------------------------------------------\n",
      "const       -676.7005    198.539     -3.408      0.002   -1081.623    -271.778\n",
      "glam_full      1.2986      0.073     17.906      0.000       1.151       1.447\n",
      "==============================================================================\n",
      "Omnibus:                        0.245   Durbin-Watson:                   2.892\n",
      "Prob(Omnibus):                  0.885   Jarque-Bera (JB):                0.011\n",
      "Skew:                          -0.045   Prob(JB):                        0.994\n",
      "Kurtosis:                       2.990   Cond. No.                     1.26e+04\n",
      "==============================================================================\n",
      "\n",
      "Warnings:\n",
      "[1] Standard Errors assume that the covariance matrix of the errors is correctly specified.\n",
      "[2] The condition number is large, 1.26e+04. This might indicate that there are\n",
      "strong multicollinearity or other numerical problems.\n",
      "Slope = 1.30\n",
      "t(31) = 17.91\n",
      "P = 0.0000000000\n"
     ]
    }
   ],
   "source": [
    "print('  1. Full GLAM...')\n",
    "print('  1.1 Mean RT')\n",
    "_ = run_linear_model(mean_rt['glam_full'],\n",
    "                     mean_rt['observed'])\n",
    "write_summary(_, 'results/linear_models/like/3_absfit_fullglam_rt.csv')"
   ]
  },
  {
   "cell_type": "markdown",
   "metadata": {},
   "source": [
    "#### 1.2 P(choose best)"
   ]
  },
  {
   "cell_type": "code",
   "execution_count": 13,
   "metadata": {},
   "outputs": [
    {
     "name": "stdout",
     "output_type": "stream",
     "text": [
      "  1.2 P(choose best)\n",
      "                            OLS Regression Results                            \n",
      "==============================================================================\n",
      "Dep. Variable:               observed   R-squared:                       0.626\n",
      "Model:                            OLS   Adj. R-squared:                  0.614\n",
      "Method:                 Least Squares   F-statistic:                     51.94\n",
      "Date:                Tue, 27 Nov 2018   Prob (F-statistic):           4.19e-08\n",
      "Time:                        20:50:35   Log-Likelihood:                 41.279\n",
      "No. Observations:                  33   AIC:                            -78.56\n",
      "Df Residuals:                      31   BIC:                            -75.56\n",
      "Df Model:                           1                                         \n",
      "Covariance Type:            nonrobust                                         \n",
      "==============================================================================\n",
      "                 coef    std err          t      P>|t|      [0.025      0.975]\n",
      "------------------------------------------------------------------------------\n",
      "const          0.0442      0.090      0.493      0.625      -0.139       0.227\n",
      "glam_full      0.9550      0.133      7.207      0.000       0.685       1.225\n",
      "==============================================================================\n",
      "Omnibus:                        5.391   Durbin-Watson:                   2.151\n",
      "Prob(Omnibus):                  0.068   Jarque-Bera (JB):                4.182\n",
      "Skew:                           0.530   Prob(JB):                        0.124\n",
      "Kurtosis:                       4.385   Cond. No.                         15.5\n",
      "==============================================================================\n",
      "\n",
      "Warnings:\n",
      "[1] Standard Errors assume that the covariance matrix of the errors is correctly specified.\n",
      "Slope = 0.95\n",
      "t(31) = 7.21\n",
      "P = 0.0000000419\n"
     ]
    }
   ],
   "source": [
    "print('  1.2 P(choose best)')\n",
    "_ = run_linear_model(p_choose_best['glam_full'],\n",
    "                     p_choose_best['observed'])\n",
    "write_summary(_, 'results/linear_models/like/3_absfit_fullglam_pchoosebest.csv')"
   ]
  },
  {
   "cell_type": "markdown",
   "metadata": {},
   "source": [
    "#### 1.3 Gaze influence on P(choose left)"
   ]
  },
  {
   "cell_type": "code",
   "execution_count": 14,
   "metadata": {},
   "outputs": [
    {
     "name": "stdout",
     "output_type": "stream",
     "text": [
      "  1.3 Gaze Influence\n",
      "                            OLS Regression Results                            \n",
      "==============================================================================\n",
      "Dep. Variable:               observed   R-squared:                       0.598\n",
      "Model:                            OLS   Adj. R-squared:                  0.585\n",
      "Method:                 Least Squares   F-statistic:                     46.07\n",
      "Date:                Tue, 27 Nov 2018   Prob (F-statistic):           1.34e-07\n",
      "Time:                        20:50:35   Log-Likelihood:                 20.904\n",
      "No. Observations:                  33   AIC:                            -37.81\n",
      "Df Residuals:                      31   BIC:                            -34.82\n",
      "Df Model:                           1                                         \n",
      "Covariance Type:            nonrobust                                         \n",
      "==============================================================================\n",
      "                 coef    std err          t      P>|t|      [0.025      0.975]\n",
      "------------------------------------------------------------------------------\n",
      "const          0.0464      0.059      0.786      0.438      -0.074       0.167\n",
      "glam_full      0.9216      0.136      6.787      0.000       0.645       1.199\n",
      "==============================================================================\n",
      "Omnibus:                        0.446   Durbin-Watson:                   1.895\n",
      "Prob(Omnibus):                  0.800   Jarque-Bera (JB):                0.314\n",
      "Skew:                          -0.226   Prob(JB):                        0.855\n",
      "Kurtosis:                       2.848   Cond. No.                         6.85\n",
      "==============================================================================\n",
      "\n",
      "Warnings:\n",
      "[1] Standard Errors assume that the covariance matrix of the errors is correctly specified.\n",
      "Slope = 0.92\n",
      "t(31) = 6.79\n",
      "P = 0.0000001336\n"
     ]
    }
   ],
   "source": [
    "print('  1.3 Gaze Influence')\n",
    "_ = run_linear_model(gaze_influence['glam_full'],\n",
    "                     gaze_influence['observed'])\n",
    "write_summary(_, 'results/linear_models/like/3_absfit_fullglam_gazeinfluence.csv')"
   ]
  },
  {
   "cell_type": "markdown",
   "metadata": {},
   "source": [
    "### 2. No-Bias GLAM\n",
    "\n",
    "#### 2.1 Mean RT"
   ]
  },
  {
   "cell_type": "code",
   "execution_count": 15,
   "metadata": {},
   "outputs": [
    {
     "name": "stdout",
     "output_type": "stream",
     "text": [
      "  2. No-Bias GLAM\n",
      "  2.1 Mean RT\n",
      "                            OLS Regression Results                            \n",
      "==============================================================================\n",
      "Dep. Variable:               observed   R-squared:                       0.458\n",
      "Model:                            OLS   Adj. R-squared:                  0.441\n",
      "Method:                 Least Squares   F-statistic:                     26.24\n",
      "Date:                Tue, 27 Nov 2018   Prob (F-statistic):           1.51e-05\n",
      "Time:                        20:50:35   Log-Likelihood:                -257.67\n",
      "No. Observations:                  33   AIC:                             519.3\n",
      "Df Residuals:                      31   BIC:                             522.3\n",
      "Df Model:                           1                                         \n",
      "Covariance Type:            nonrobust                                         \n",
      "===============================================================================\n",
      "                  coef    std err          t      P>|t|      [0.025      0.975]\n",
      "-------------------------------------------------------------------------------\n",
      "const         885.0309    387.565      2.284      0.029      94.588    1675.474\n",
      "glam_nobias     0.6871      0.134      5.123      0.000       0.414       0.961\n",
      "==============================================================================\n",
      "Omnibus:                        8.319   Durbin-Watson:                   1.623\n",
      "Prob(Omnibus):                  0.016   Jarque-Bera (JB):                7.602\n",
      "Skew:                          -0.779   Prob(JB):                       0.0223\n",
      "Kurtosis:                       4.761   Cond. No.                     1.05e+04\n",
      "==============================================================================\n",
      "\n",
      "Warnings:\n",
      "[1] Standard Errors assume that the covariance matrix of the errors is correctly specified.\n",
      "[2] The condition number is large, 1.05e+04. This might indicate that there are\n",
      "strong multicollinearity or other numerical problems.\n",
      "Slope = 0.69\n",
      "t(31) = 5.12\n",
      "P = 0.0000151111\n"
     ]
    }
   ],
   "source": [
    "print('  2. No-Bias GLAM')\n",
    "print('  2.1 Mean RT')\n",
    "_ = run_linear_model(mean_rt['glam_nobias'],\n",
    "                     mean_rt['observed'])\n",
    "write_summary(_, 'results/linear_models/like/3_absfit_nobias_rt.csv')"
   ]
  },
  {
   "cell_type": "markdown",
   "metadata": {},
   "source": [
    "#### 2.2 P(choose best)"
   ]
  },
  {
   "cell_type": "code",
   "execution_count": 16,
   "metadata": {},
   "outputs": [
    {
     "name": "stdout",
     "output_type": "stream",
     "text": [
      "  2.2 P(choose best)\n",
      "                            OLS Regression Results                            \n",
      "==============================================================================\n",
      "Dep. Variable:               observed   R-squared:                       0.548\n",
      "Model:                            OLS   Adj. R-squared:                  0.533\n",
      "Method:                 Least Squares   F-statistic:                     37.52\n",
      "Date:                Tue, 27 Nov 2018   Prob (F-statistic):           8.60e-07\n",
      "Time:                        20:50:35   Log-Likelihood:                 38.126\n",
      "No. Observations:                  33   AIC:                            -72.25\n",
      "Df Residuals:                      31   BIC:                            -69.26\n",
      "Df Model:                           1                                         \n",
      "Covariance Type:            nonrobust                                         \n",
      "===============================================================================\n",
      "                  coef    std err          t      P>|t|      [0.025      0.975]\n",
      "-------------------------------------------------------------------------------\n",
      "const           0.1594      0.087      1.839      0.076      -0.017       0.336\n",
      "glam_nobias     0.7561      0.123      6.125      0.000       0.504       1.008\n",
      "==============================================================================\n",
      "Omnibus:                        2.941   Durbin-Watson:                   1.873\n",
      "Prob(Omnibus):                  0.230   Jarque-Bera (JB):                1.865\n",
      "Skew:                          -0.562   Prob(JB):                        0.394\n",
      "Kurtosis:                       3.308   Cond. No.                         13.4\n",
      "==============================================================================\n",
      "\n",
      "Warnings:\n",
      "[1] Standard Errors assume that the covariance matrix of the errors is correctly specified.\n",
      "Slope = 0.76\n",
      "t(31) = 6.13\n",
      "P = 0.0000008598\n"
     ]
    }
   ],
   "source": [
    "print('  2.2 P(choose best)')\n",
    "_ = run_linear_model(p_choose_best['glam_nobias'],\n",
    "                     p_choose_best['observed'])\n",
    "write_summary(_, 'results/linear_models/like/3_absfit_nobias_pchoosebest.csv')"
   ]
  },
  {
   "cell_type": "markdown",
   "metadata": {},
   "source": [
    "#### 2.3 Gaze influence on P(choose left)"
   ]
  },
  {
   "cell_type": "code",
   "execution_count": 17,
   "metadata": {},
   "outputs": [
    {
     "name": "stdout",
     "output_type": "stream",
     "text": [
      "  2.3 Gaze influence\n",
      "                            OLS Regression Results                            \n",
      "==============================================================================\n",
      "Dep. Variable:               observed   R-squared:                       0.009\n",
      "Model:                            OLS   Adj. R-squared:                 -0.023\n",
      "Method:                 Least Squares   F-statistic:                    0.2689\n",
      "Date:                Tue, 27 Nov 2018   Prob (F-statistic):              0.608\n",
      "Time:                        20:50:35   Log-Likelihood:                 6.0205\n",
      "No. Observations:                  33   AIC:                            -8.041\n",
      "Df Residuals:                      31   BIC:                            -5.048\n",
      "Df Model:                           1                                         \n",
      "Covariance Type:            nonrobust                                         \n",
      "===============================================================================\n",
      "                  coef    std err          t      P>|t|      [0.025      0.975]\n",
      "-------------------------------------------------------------------------------\n",
      "const           0.4173      0.037     11.421      0.000       0.343       0.492\n",
      "glam_nobias    -0.9980      1.925     -0.519      0.608      -4.924       2.927\n",
      "==============================================================================\n",
      "Omnibus:                        1.537   Durbin-Watson:                   1.546\n",
      "Prob(Omnibus):                  0.464   Jarque-Bera (JB):                0.855\n",
      "Skew:                          -0.388   Prob(JB):                        0.652\n",
      "Kurtosis:                       3.141   Cond. No.                         53.2\n",
      "==============================================================================\n",
      "\n",
      "Warnings:\n",
      "[1] Standard Errors assume that the covariance matrix of the errors is correctly specified.\n",
      "Slope = -1.00\n",
      "t(31) = -0.52\n",
      "P = 0.6077632716\n"
     ]
    }
   ],
   "source": [
    "print('  2.3 Gaze influence')\n",
    "_ = run_linear_model(gaze_influence['glam_nobias'],\n",
    "                     gaze_influence['observed'])\n",
    "write_summary(_, 'results/linear_models/like/3_absfit_nobias_gazeinfluence.csv')"
   ]
  },
  {
   "cell_type": "markdown",
   "metadata": {},
   "source": [
    "# Figure 5"
   ]
  },
  {
   "cell_type": "code",
   "execution_count": 18,
   "metadata": {
    "collapsed": true
   },
   "outputs": [],
   "source": [
    "def figure_5(mean_rt, p_choose_best, gaze_influence, figsize=(10, 3.5)):\n",
    "\n",
    "    fig, axs = plt.subplots(1, 3, figsize=figsize)\n",
    "\n",
    "    plot_correlation(mean_rt['observed'].values,\n",
    "                     [mean_rt['glam_full'].values, mean_rt['glam_nobias'].values],\n",
    "                     model_names=['Full', r'$\\theta = 1$'],\n",
    "                     xlabel='Observed',\n",
    "                     ylabel='Predicted',\n",
    "                     title='Mean RT (ms)',\n",
    "                     xlim=[0, 6500],\n",
    "                     ylim=[0, 6500],\n",
    "                     xticks=np.arange(0, 7000, 1000),\n",
    "                     yticks=np.arange(0, 7000, 1000),\n",
    "                     xticklabels=['0', '', '2000', '', '4000', '', '6000'],\n",
    "                     yticklabels=['0', '', '2000', '', '4000', '', '6000'],\n",
    "                     fontsize_axeslabel=15,\n",
    "                     fontsize_ticklabels=12,\n",
    "                     fontsize_title=15,\n",
    "                     fontsize_annotation=8,\n",
    "                     ax=axs[0], plot_diagonal=True)\n",
    "\n",
    "    plot_correlation(p_choose_best['observed'].values,\n",
    "                     [p_choose_best['glam_full'].values, p_choose_best['glam_nobias'].values],\n",
    "                     model_names=['Full', r'$\\theta = 1$'],\n",
    "                     xlabel='Observed',\n",
    "                     ylabel='Predicted',\n",
    "                     title='P(choose best)',\n",
    "                     xlim=[0.45, 1.05],\n",
    "                     ylim=[0.45, 1.05],\n",
    "                     xticks=np.arange(0.4, 1.1, 0.1),\n",
    "                     yticks=np.arange(0.4, 1.1, 0.1),\n",
    "                     xticklabels=['0.4', '0.5', '0.6', '0.7', '0.8', '0.9', '1.0'],\n",
    "                     yticklabels=['0.4', '0.5', '0.6', '0.7', '0.8', '0.9', '1.0'],\n",
    "                     fontsize_axeslabel=15,\n",
    "                     fontsize_ticklabels=12,\n",
    "                     fontsize_title=15,\n",
    "                     fontsize_annotation=8,\n",
    "                     ax=axs[1], plot_diagonal=True)\n",
    "\n",
    "    plot_correlation(gaze_influence['observed'].values,\n",
    "                     [gaze_influence['glam_full'].values, gaze_influence['glam_nobias'].values],\n",
    "                     model_names=['Full', r'$\\theta = 1$'],\n",
    "                     xlabel='Observed',\n",
    "                     ylabel='Predicted',\n",
    "                     title='Gaze influence\\non P(choose left)',\n",
    "                     xticks=np.arange(-0.1, 0.7, 0.1),\n",
    "                     yticks=np.arange(-0.1, 0.7, 0.1),\n",
    "                     xticklabels=['-0.1', '0', '0.1', '0.2', '0.3', '0.4', '0.5', '0.6'],\n",
    "                     yticklabels=['-0.1', '0', '0.1', '0.2', '0.3', '0.4', '0.5', '0.6'],\n",
    "                     xlim=[-0.125, 0.625],\n",
    "                     ylim=[-0.125, 0.625],\n",
    "                     fontsize_axeslabel=15,\n",
    "                     fontsize_ticklabels=12,\n",
    "                     fontsize_title=15,\n",
    "                     fontsize_annotation=8,\n",
    "                     ax=axs[2], plot_diagonal=True)\n",
    "\n",
    "    # index axes\n",
    "    for label, ax in zip(list('ABC'), axs.ravel()):\n",
    "        ax.text(-0.1, 1.15, label, transform=ax.transAxes,\n",
    "                fontsize=20, fontweight='bold', va='top')\n",
    "\n",
    "    fig.tight_layout()\n",
    "\n",
    "    return None"
   ]
  },
  {
   "cell_type": "code",
   "execution_count": 19,
   "metadata": {},
   "outputs": [
    {
     "name": "stdout",
     "output_type": "stream",
     "text": [
      "Close Figure to continue...\n"
     ]
    },
    {
     "data": {
      "image/png": "[encoded data removed]",
      "text/plain": [
       "<matplotlib.figure.Figure at 0x10c714be0>"
      ]
     },
     "metadata": {},
     "output_type": "display_data"
    }
   ],
   "source": [
    "print('Close Figure to continue...')\n",
    "figure_5(mean_rt, p_choose_best, gaze_influence)\n",
    "plt.savefig('SavedFigures/Like_model_fit_simulations.png', dpi=330, bbox_inches='tight')\n",
    "plt.show()"
   ]
  },
  {
   "cell_type": "markdown",
   "metadata": {},
   "source": [
    "Model predictions are simulated from hierarchically estimated parameter estimates. Blue color indicates predictions from the full GLAM, whereas orange indicates predictions from a restricted GLAM variant with no gaze bias (gamma = 1).\n"
   ]
  },
  {
   "cell_type": "markdown",
   "metadata": {},
   "source": [
    "# DISLIKE CONDITION"
   ]
  },
  {
   "cell_type": "markdown",
   "metadata": {},
   "source": [
    "## Load *observed* data (test set) GLAM out of sample *predictions*"
   ]
  },
  {
   "cell_type": "code",
   "execution_count": 20,
   "metadata": {
    "collapsed": true
   },
   "outputs": [],
   "source": [
    "#Like\n",
    "#test_data = pd.read_csv('data/FF2018_data/GlamDataFF2018_preprocessed_test_Like_FixBin5_NUTS.csv')\n",
    "#Dislike\n",
    "test_data = pd.read_csv('data/FF2018_data/GlamDataFF2018_preprocessed_test_Dislike_FixBin5_InvInputDislike_NUTS.csv')\n",
    "\n",
    "#Like\n",
    "#glam_full = pd.read_csv('results/predictions/glam_FF2018_full_hierarchical_cv_Like_FixBin5_NUTS.csv')\n",
    "#glam_nobias = pd.read_csv('results/predictions/glam_FF2018_nobias_hierarchical_cv_Like_FixBin5_NUTS.csv')\n",
    "\n",
    "#Dislike\n",
    "glam_full = pd.read_csv('results/predictions/glam_FF2018_full_hierarchical_cv_Dislike_FixBin5_InvInputDislike_NUTS.csv')\n",
    "glam_nobias = pd.read_csv('results/predictions/glam_FF2018_nobias_hierarchical_cv_Dislike_FixBin5_InvInputDislike_NUTS.csv')"
   ]
  },
  {
   "cell_type": "markdown",
   "metadata": {},
   "source": [
    "# Compute behavioral indices for observed data and predictions"
   ]
  },
  {
   "cell_type": "code",
   "execution_count": 21,
   "metadata": {
    "collapsed": true
   },
   "outputs": [
    {
     "name": "stderr",
     "output_type": "stream",
     "text": [
      "/Users/pradyumna/anaconda/lib/python3.5/site-packages/statsmodels/base/model.py:508: ConvergenceWarning: Maximum Likelihood optimization failed to converge. Check mle_retvals\n",
      "  \"Check mle_retvals\", ConvergenceWarning)\n"
     ]
    }
   ],
   "source": [
    "mean_rt = pd.DataFrame(dict(observed=compute_mean_rt(test_data),\n",
    "                            glam_full=compute_mean_rt(glam_full),\n",
    "                            glam_nobias=compute_mean_rt(glam_nobias)))\n",
    "\n",
    "p_choose_best = pd.DataFrame(dict(observed=compute_p_choose_best(test_data),\n",
    "                            glam_full=compute_p_choose_best(glam_full),\n",
    "                            glam_nobias=compute_p_choose_best(glam_nobias)))\n",
    "\n",
    "gaze_influence = pd.DataFrame(dict(observed=compute_gaze_influence(test_data),\n",
    "                                   glam_full=compute_gaze_influence(glam_full),\n",
    "                                   glam_nobias=compute_gaze_influence(glam_nobias)))"
   ]
  },
  {
   "cell_type": "markdown",
   "metadata": {},
   "source": [
    "## Linear models: Are out of sample data predicted by GLAM variants?\n",
    "\n",
    "### 1. Full GLAM\n",
    "\n",
    "#### 1.1 Mean RT"
   ]
  },
  {
   "cell_type": "code",
   "execution_count": 22,
   "metadata": {},
   "outputs": [
    {
     "name": "stdout",
     "output_type": "stream",
     "text": [
      "  1. Full GLAM...\n",
      "  1.1 Mean RT\n",
      "                            OLS Regression Results                            \n",
      "==============================================================================\n",
      "Dep. Variable:               observed   R-squared:                       0.812\n",
      "Model:                            OLS   Adj. R-squared:                  0.806\n",
      "Method:                 Least Squares   F-statistic:                     134.0\n",
      "Date:                Tue, 27 Nov 2018   Prob (F-statistic):           8.68e-13\n",
      "Time:                        20:50:40   Log-Likelihood:                -235.25\n",
      "No. Observations:                  33   AIC:                             474.5\n",
      "Df Residuals:                      31   BIC:                             477.5\n",
      "Df Model:                           1                                         \n",
      "Covariance Type:            nonrobust                                         \n",
      "==============================================================================\n",
      "                 coef    std err          t      P>|t|      [0.025      0.975]\n",
      "------------------------------------------------------------------------------\n",
      "const         -2.8923    276.310     -0.010      0.992    -566.430     560.645\n",
      "glam_full      1.0676      0.092     11.578      0.000       0.880       1.256\n",
      "==============================================================================\n",
      "Omnibus:                        2.354   Durbin-Watson:                   1.232\n",
      "Prob(Omnibus):                  0.308   Jarque-Bera (JB):                1.775\n",
      "Skew:                           0.567   Prob(JB):                        0.412\n",
      "Kurtosis:                       2.938   Cond. No.                     1.53e+04\n",
      "==============================================================================\n",
      "\n",
      "Warnings:\n",
      "[1] Standard Errors assume that the covariance matrix of the errors is correctly specified.\n",
      "[2] The condition number is large, 1.53e+04. This might indicate that there are\n",
      "strong multicollinearity or other numerical problems.\n",
      "Slope = 1.07\n",
      "t(31) = 11.58\n",
      "P = 0.0000000000\n"
     ]
    }
   ],
   "source": [
    "print('  1. Full GLAM...')\n",
    "print('  1.1 Mean RT')\n",
    "_ = run_linear_model(mean_rt['glam_full'],\n",
    "                     mean_rt['observed'])\n",
    "write_summary(_, 'results/linear_models/dislike/3_absfit_fullglam_rt.csv')"
   ]
  },
  {
   "cell_type": "markdown",
   "metadata": {},
   "source": [
    "#### 1.2 P(choose best)"
   ]
  },
  {
   "cell_type": "code",
   "execution_count": 23,
   "metadata": {},
   "outputs": [
    {
     "name": "stdout",
     "output_type": "stream",
     "text": [
      "  1.2 P(choose best)\n",
      "                            OLS Regression Results                            \n",
      "==============================================================================\n",
      "Dep. Variable:               observed   R-squared:                       0.800\n",
      "Model:                            OLS   Adj. R-squared:                  0.793\n",
      "Method:                 Least Squares   F-statistic:                     123.7\n",
      "Date:                Tue, 27 Nov 2018   Prob (F-statistic):           2.38e-12\n",
      "Time:                        20:50:40   Log-Likelihood:                 50.724\n",
      "No. Observations:                  33   AIC:                            -97.45\n",
      "Df Residuals:                      31   BIC:                            -94.45\n",
      "Df Model:                           1                                         \n",
      "Covariance Type:            nonrobust                                         \n",
      "==============================================================================\n",
      "                 coef    std err          t      P>|t|      [0.025      0.975]\n",
      "------------------------------------------------------------------------------\n",
      "const         -0.0423      0.064     -0.657      0.516      -0.174       0.089\n",
      "glam_full      1.0756      0.097     11.123      0.000       0.878       1.273\n",
      "==============================================================================\n",
      "Omnibus:                        1.781   Durbin-Watson:                   1.351\n",
      "Prob(Omnibus):                  0.410   Jarque-Bera (JB):                1.028\n",
      "Skew:                           0.424   Prob(JB):                        0.598\n",
      "Kurtosis:                       3.165   Cond. No.                         14.9\n",
      "==============================================================================\n",
      "\n",
      "Warnings:\n",
      "[1] Standard Errors assume that the covariance matrix of the errors is correctly specified.\n",
      "Slope = 1.08\n",
      "t(31) = 11.12\n",
      "P = 0.0000000000\n"
     ]
    }
   ],
   "source": [
    "print('  1.2 P(choose best)')\n",
    "_ = run_linear_model(p_choose_best['glam_full'],\n",
    "                     p_choose_best['observed'])\n",
    "write_summary(_, 'results/linear_models/dislike/3_absfit_fullglam_pchoosebest.csv')"
   ]
  },
  {
   "cell_type": "markdown",
   "metadata": {},
   "source": [
    "#### 1.3 Gaze influence on P(choose left)"
   ]
  },
  {
   "cell_type": "code",
   "execution_count": 24,
   "metadata": {},
   "outputs": [
    {
     "name": "stdout",
     "output_type": "stream",
     "text": [
      "  1.3 Gaze Influence\n",
      "                            OLS Regression Results                            \n",
      "==============================================================================\n",
      "Dep. Variable:               observed   R-squared:                       0.523\n",
      "Model:                            OLS   Adj. R-squared:                  0.508\n",
      "Method:                 Least Squares   F-statistic:                     34.00\n",
      "Date:                Tue, 27 Nov 2018   Prob (F-statistic):           1.99e-06\n",
      "Time:                        20:50:40   Log-Likelihood:                 17.725\n",
      "No. Observations:                  33   AIC:                            -31.45\n",
      "Df Residuals:                      31   BIC:                            -28.46\n",
      "Df Model:                           1                                         \n",
      "Covariance Type:            nonrobust                                         \n",
      "==============================================================================\n",
      "                 coef    std err          t      P>|t|      [0.025      0.975]\n",
      "------------------------------------------------------------------------------\n",
      "const         -0.0088      0.072     -0.121      0.904      -0.156       0.139\n",
      "glam_full      0.9963      0.171      5.831      0.000       0.648       1.345\n",
      "==============================================================================\n",
      "Omnibus:                        9.342   Durbin-Watson:                   2.089\n",
      "Prob(Omnibus):                  0.009   Jarque-Bera (JB):                9.520\n",
      "Skew:                          -0.801   Prob(JB):                      0.00857\n",
      "Kurtosis:                       5.088   Cond. No.                         7.80\n",
      "==============================================================================\n",
      "\n",
      "Warnings:\n",
      "[1] Standard Errors assume that the covariance matrix of the errors is correctly specified.\n",
      "Slope = 1.00\n",
      "t(31) = 5.83\n",
      "P = 0.0000019855\n"
     ]
    }
   ],
   "source": [
    "print('  1.3 Gaze Influence')\n",
    "_ = run_linear_model(gaze_influence['glam_full'],\n",
    "                     gaze_influence['observed'])\n",
    "write_summary(_, 'results/linear_models/dislike/3_absfit_fullglam_gazeinfluence.csv')"
   ]
  },
  {
   "cell_type": "markdown",
   "metadata": {},
   "source": [
    "### 2. No-Bias GLAM\n",
    "\n",
    "#### 2.1 Mean RT"
   ]
  },
  {
   "cell_type": "code",
   "execution_count": 25,
   "metadata": {},
   "outputs": [
    {
     "name": "stdout",
     "output_type": "stream",
     "text": [
      "  2. No-Bias GLAM\n",
      "  2.1 Mean RT\n",
      "                            OLS Regression Results                            \n",
      "==============================================================================\n",
      "Dep. Variable:               observed   R-squared:                       0.845\n",
      "Model:                            OLS   Adj. R-squared:                  0.840\n",
      "Method:                 Least Squares   F-statistic:                     169.0\n",
      "Date:                Tue, 27 Nov 2018   Prob (F-statistic):           4.34e-14\n",
      "Time:                        20:50:40   Log-Likelihood:                -232.08\n",
      "No. Observations:                  33   AIC:                             468.2\n",
      "Df Residuals:                      31   BIC:                             471.2\n",
      "Df Model:                           1                                         \n",
      "Covariance Type:            nonrobust                                         \n",
      "===============================================================================\n",
      "                  coef    std err          t      P>|t|      [0.025      0.975]\n",
      "-------------------------------------------------------------------------------\n",
      "const        -279.8201    267.189     -1.047      0.303    -824.757     265.116\n",
      "glam_nobias     1.1552      0.089     12.999      0.000       0.974       1.336\n",
      "==============================================================================\n",
      "Omnibus:                        1.692   Durbin-Watson:                   1.274\n",
      "Prob(Omnibus):                  0.429   Jarque-Bera (JB):                1.445\n",
      "Skew:                           0.493   Prob(JB):                        0.486\n",
      "Kurtosis:                       2.723   Cond. No.                     1.63e+04\n",
      "==============================================================================\n",
      "\n",
      "Warnings:\n",
      "[1] Standard Errors assume that the covariance matrix of the errors is correctly specified.\n",
      "[2] The condition number is large, 1.63e+04. This might indicate that there are\n",
      "strong multicollinearity or other numerical problems.\n",
      "Slope = 1.16\n",
      "t(31) = 13.00\n",
      "P = 0.0000000000\n"
     ]
    }
   ],
   "source": [
    "print('  2. No-Bias GLAM')\n",
    "print('  2.1 Mean RT')\n",
    "_ = run_linear_model(mean_rt['glam_nobias'],\n",
    "                     mean_rt['observed'])\n",
    "write_summary(_, 'results/linear_models/dislike/3_absfit_nobias_rt.csv')"
   ]
  },
  {
   "cell_type": "markdown",
   "metadata": {},
   "source": [
    "#### 2.2 P(choose best)"
   ]
  },
  {
   "cell_type": "code",
   "execution_count": 26,
   "metadata": {},
   "outputs": [
    {
     "name": "stdout",
     "output_type": "stream",
     "text": [
      "  2.2 P(choose best)\n",
      "                            OLS Regression Results                            \n",
      "==============================================================================\n",
      "Dep. Variable:               observed   R-squared:                       0.562\n",
      "Model:                            OLS   Adj. R-squared:                  0.548\n",
      "Method:                 Least Squares   F-statistic:                     39.80\n",
      "Date:                Tue, 27 Nov 2018   Prob (F-statistic):           5.11e-07\n",
      "Time:                        20:50:40   Log-Likelihood:                 37.823\n",
      "No. Observations:                  33   AIC:                            -71.65\n",
      "Df Residuals:                      31   BIC:                            -68.65\n",
      "Df Model:                           1                                         \n",
      "Covariance Type:            nonrobust                                         \n",
      "===============================================================================\n",
      "                  coef    std err          t      P>|t|      [0.025      0.975]\n",
      "-------------------------------------------------------------------------------\n",
      "const          -0.0143      0.109     -0.132      0.896      -0.236       0.207\n",
      "glam_nobias     1.0316      0.164      6.309      0.000       0.698       1.365\n",
      "==============================================================================\n",
      "Omnibus:                        0.287   Durbin-Watson:                   1.400\n",
      "Prob(Omnibus):                  0.866   Jarque-Bera (JB):                0.067\n",
      "Skew:                           0.109   Prob(JB):                        0.967\n",
      "Kurtosis:                       2.966   Cond. No.                         17.0\n",
      "==============================================================================\n",
      "\n",
      "Warnings:\n",
      "[1] Standard Errors assume that the covariance matrix of the errors is correctly specified.\n",
      "Slope = 1.03\n",
      "t(31) = 6.31\n",
      "P = 0.0000005114\n"
     ]
    }
   ],
   "source": [
    "print('  2.2 P(choose best)')\n",
    "_ = run_linear_model(p_choose_best['glam_nobias'],\n",
    "                     p_choose_best['observed'])\n",
    "write_summary(_, 'results/linear_models/dislike/3_absfit_nobias_pchoosebest.csv')"
   ]
  },
  {
   "cell_type": "markdown",
   "metadata": {},
   "source": [
    "#### 2.3 Gaze influence on P(choose left)"
   ]
  },
  {
   "cell_type": "code",
   "execution_count": 27,
   "metadata": {},
   "outputs": [
    {
     "name": "stdout",
     "output_type": "stream",
     "text": [
      "  2.3 Gaze influence\n",
      "                            OLS Regression Results                            \n",
      "==============================================================================\n",
      "Dep. Variable:               observed   R-squared:                       0.094\n",
      "Model:                            OLS   Adj. R-squared:                  0.065\n",
      "Method:                 Least Squares   F-statistic:                     3.209\n",
      "Date:                Tue, 27 Nov 2018   Prob (F-statistic):             0.0830\n",
      "Time:                        20:50:41   Log-Likelihood:                 7.1332\n",
      "No. Observations:                  33   AIC:                            -10.27\n",
      "Df Residuals:                      31   BIC:                            -7.273\n",
      "Df Model:                           1                                         \n",
      "Covariance Type:            nonrobust                                         \n",
      "===============================================================================\n",
      "                  coef    std err          t      P>|t|      [0.025      0.975]\n",
      "-------------------------------------------------------------------------------\n",
      "const           0.3795      0.035     10.792      0.000       0.308       0.451\n",
      "glam_nobias    -2.8945      1.616     -1.791      0.083      -6.190       0.401\n",
      "==============================================================================\n",
      "Omnibus:                        0.661   Durbin-Watson:                   1.715\n",
      "Prob(Omnibus):                  0.719   Jarque-Bera (JB):                0.601\n",
      "Skew:                          -0.302   Prob(JB):                        0.740\n",
      "Kurtosis:                       2.729   Cond. No.                         46.1\n",
      "==============================================================================\n",
      "\n",
      "Warnings:\n",
      "[1] Standard Errors assume that the covariance matrix of the errors is correctly specified.\n",
      "Slope = -2.89\n",
      "t(31) = -1.79\n",
      "P = 0.0829892060\n"
     ]
    }
   ],
   "source": [
    "print('  2.3 Gaze influence')\n",
    "_ = run_linear_model(gaze_influence['glam_nobias'],\n",
    "                     gaze_influence['observed'])\n",
    "write_summary(_, 'results/linear_models/dislike/3_absfit_nobias_gazeinfluence.csv')"
   ]
  },
  {
   "cell_type": "markdown",
   "metadata": {},
   "source": [
    "# Figure 5"
   ]
  },
  {
   "cell_type": "code",
   "execution_count": 28,
   "metadata": {},
   "outputs": [
    {
     "name": "stdout",
     "output_type": "stream",
     "text": [
      "Close Figure to continue...\n"
     ]
    },
    {
     "data": {
      "image/png": "[encoded data removed]",
      "text/plain": [
       "<matplotlib.figure.Figure at 0x10d25ff98>"
      ]
     },
     "metadata": {},
     "output_type": "display_data"
    }
   ],
   "source": [
    "print('Close Figure to continue...')\n",
    "figure_5(mean_rt, p_choose_best, gaze_influence)\n",
    "plt.savefig('SavedFigures/Dislike_model_fit_simulations.png', dpi=330, bbox_inches='tight')\n",
    "plt.show()"
   ]
  },
  {
   "cell_type": "markdown",
   "metadata": {},
   "source": [
    "Model predictions are simulated from hierarchically estimated parameter estimates. Blue color indicates predictions from the full GLAM, whereas orange indicates predictions from a restricted GLAM variant with no gaze bias (gamma = 1).\n"
   ]
  },
  {
   "cell_type": "code",
   "execution_count": null,
   "metadata": {},
   "outputs": [],
   "source": []
  }
 ],
 "metadata": {
  "kernelspec": {
   "display_name": "Python 3",
   "language": "python",
   "name": "python3"
  },
  "language_info": {
   "codemirror_mode": {
    "name": "ipython",
    "version": 3
   },
   "file_extension": ".py",
   "mimetype": "text/x-python",
   "name": "python",
   "nbconvert_exporter": "python",
   "pygments_lexer": "ipython3",
   "version": "3.5.4"
  }
 },
 "nbformat": 4,
 "nbformat_minor": 2
}
