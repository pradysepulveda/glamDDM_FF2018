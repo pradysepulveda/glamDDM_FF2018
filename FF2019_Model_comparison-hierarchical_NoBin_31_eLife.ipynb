{
 "cells": [
  {
   "cell_type": "markdown",
   "metadata": {},
   "source": [
    "# Bar plots for model comparison (31 subjects), eLife reanalysis\n",
    "## hierarchical models"
   ]
  },
  {
   "cell_type": "code",
   "execution_count": 1,
   "metadata": {},
   "outputs": [
    {
     "name": "stderr",
     "output_type": "stream",
     "text": [
      "/Users/pradyumna/anaconda3/lib/python3.7/site-packages/dask/config.py:168: YAMLLoadWarning: calling yaml.load() without Loader=... is deprecated, as the default Loader is unsafe. Please read https://msg.pyyaml.org/load for full details.\n",
      "  data = yaml.load(f.read()) or {}\n",
      "/Users/pradyumna/anaconda3/lib/python3.7/site-packages/distributed/config.py:20: YAMLLoadWarning: calling yaml.load() without Loader=... is deprecated, as the default Loader is unsafe. Please read https://msg.pyyaml.org/load for full details.\n",
      "  defaults = yaml.load(f)\n"
     ]
    },
    {
     "name": "stdout",
     "output_type": "stream",
     "text": [
      "Populating the interactive namespace from numpy and matplotlib\n"
     ]
    },
    {
     "name": "stderr",
     "output_type": "stream",
     "text": [
      "/Users/pradyumna/anaconda3/lib/python3.7/site-packages/IPython/core/magics/pylab.py:160: UserWarning: pylab import has clobbered these variables: ['copy', 'pylab']\n",
      "`%matplotlib` prevents importing * from pylab and numpy\n",
      "  \"\\n`%matplotlib` prevents importing * from pylab and numpy\"\n"
     ]
    }
   ],
   "source": [
    "import glam\n",
    "import pandas as pd\n",
    "import numpy as np\n",
    "import os.path\n",
    "import numpy\n",
    "import statistics \n",
    "\n",
    "import numpy as np\n",
    "import pandas as pd\n",
    "from pandas.core.frame import DataFrame as DF\n",
    "import seaborn as sns\n",
    "sns.set(color_codes=True)\n",
    "#np.random.seed(sum(map(ord, \"distributions\")))\n",
    "from sklearn import linear_model  # packages for the logistic regression function to plot the logistic regression \n",
    "from sklearn.linear_model import LogisticRegression # packages for the logistic regression function to plot the logistic regression \n",
    "import scipy\n",
    "from scipy import stats, integrate\n",
    "from scipy.stats import mode\n",
    "from scipy.stats.stats import pearsonr # Pearson's correlation\n",
    "from copy import copy as copy\n",
    "import operator as operator\n",
    "import pylab\n",
    "\n",
    "# Plotting tools\n",
    "%matplotlib inline\n",
    "import matplotlib.pyplot as plt\n",
    "import matplotlib.gridspec as gridspec\n",
    "import matplotlib.patches as mpatches\n",
    "from matplotlib.ticker import FuncFormatter\n",
    "from mpl_toolkits.mplot3d import Axes3D\n",
    "from matplotlib import cm\n",
    "%pylab inline\n",
    "figsize(5, 5)\n",
    "\n",
    "import glob\n",
    "import os"
   ]
  },
  {
   "cell_type": "code",
   "execution_count": 2,
   "metadata": {},
   "outputs": [],
   "source": [
    "def ttestsPlot(data1, data2,c1 ='#4F6A9A',c2 = '#AC5255',lab1 = \"Like\", lab2 = \"Dislike\",title = ''):\n",
    "\n",
    "    # t-TEST\n",
    "    diff = mean(data1) - mean(data2)\n",
    "    [s, p] = stats.ttest_rel(data1,data2)\n",
    "    print (\"data1 = \"+ str(mean(data1))+ \"; data2 = \"+ str(mean(data2))+\"; [data1 - data2] =  \" + str(diff) +\"; t =  \" + str(round(s,2)) + \" ; p-value =\" + str(p) )\n",
    "    \n",
    "        \n",
    "    # PLOT LIKE AND DISLIKE VARIABILITY\n",
    "        \n",
    "    # Set seaborn style for the plot\n",
    "    fig = plt.figure(figsize=[6,10])\n",
    "    sns.set(style='white',font_scale=1.5)\n",
    "    jittr = np.random.uniform(low=-0.3,high=0.3,size=len(data1))    \n",
    "    plt.scatter([1]*len(data1)+jittr, data1, c= c1, alpha=0.7,label=lab1,hatch='//')\n",
    "    plt.scatter([2]*len(data2)+jittr, data2, c= c2, alpha=0.7,label=lab2)\n",
    "    \n",
    "    ## add lines between slope points in like and dislike for each participant\n",
    "    count = 0\n",
    "    for i in range(len(data1)):\n",
    "        plt.plot( [1 + jittr[i],2 + jittr[i]], [ data1[i] , data2[i]],'--', lw=1.0, color = 'black', alpha = 0.2)\n",
    "        if data1[i] < data2[i]:\n",
    "            print (\"Participants with InvFull > Full: \" + str(i) + '. Difference : ' + str(data1[i] - data2[i]))\n",
    "            count+=1\n",
    "    print (\"Total number of participants with lower WAIC for \" + lab1+ ' : ' + str(count))\n",
    "        \n",
    "    #legend(loc = 'best')\n",
    "    plt.xticks([1, 2,], [lab1, lab2],fontsize=18)\n",
    "    plt.ylabel(title, fontsize=18)\n",
    "    sns.despine()"
   ]
  },
  {
   "cell_type": "markdown",
   "metadata": {},
   "source": [
    "# Define the values of  WAIC for the models\n"
   ]
  },
  {
   "cell_type": "code",
   "execution_count": 3,
   "metadata": {},
   "outputs": [],
   "source": [
    "D_Inv_Full1 = np.load(str('results/waic/glam_FF2018_full_hierarchical_Dislike_NoBin_NUTS_Inv_31_eLife.npy'))\n",
    "D_Full1 = np.load(str('results/waic/glam_FF2018_full_hierarchical_Dislike_NoBin_NUTS_31_eLife.npy'))\n",
    "\n",
    "L_Full1 = np.load(str('results/waic/glam_FF2018_full_hierarchical_Like_NoBin_NUTS_31_eLife.npy'))\n"
   ]
  },
  {
   "cell_type": "code",
   "execution_count": 4,
   "metadata": {},
   "outputs": [
    {
     "ename": "IndexError",
     "evalue": "invalid index to scalar variable.",
     "output_type": "error",
     "traceback": [
      "\u001b[0;31m---------------------------------------------------------------------------\u001b[0m",
      "\u001b[0;31mIndexError\u001b[0m                                Traceback (most recent call last)",
      "\u001b[0;32m<ipython-input-4-b11c8bf4e995>\u001b[0m in \u001b[0;36m<module>\u001b[0;34m\u001b[0m\n\u001b[0;32m----> 1\u001b[0;31m \u001b[0mD_Inv_Full1\u001b[0m\u001b[0;34m[\u001b[0m\u001b[0;36m1\u001b[0m\u001b[0;34m]\u001b[0m\u001b[0;34m[\u001b[0m\u001b[0;36m0\u001b[0m\u001b[0;34m]\u001b[0m\u001b[0;34m\u001b[0m\u001b[0;34m\u001b[0m\u001b[0m\n\u001b[0m",
      "\u001b[0;31mIndexError\u001b[0m: invalid index to scalar variable."
     ]
    }
   ],
   "source": [
    "D_Inv_Full1[1][0]"
   ]
  },
  {
   "cell_type": "code",
   "execution_count": 5,
   "metadata": {},
   "outputs": [],
   "source": [
    "# extract waic values\n",
    "D_Inv_Full = []\n",
    "D_Full = []\n",
    "#D_NoBias = []\n",
    "#D_Inv_NoBias = []\n",
    "L_Full = []\n",
    "#L_NoBias = []\n",
    "\n",
    "D_Inv_Full.append(D_Inv_Full1[0]) \n",
    "D_Full.append(D_Full1[0])\n",
    "L_Full.append(L_Full1[0]) "
   ]
  },
  {
   "cell_type": "code",
   "execution_count": 6,
   "metadata": {},
   "outputs": [
    {
     "data": {
      "text/plain": [
       "1"
      ]
     },
     "execution_count": 6,
     "metadata": {},
     "output_type": "execute_result"
    }
   ],
   "source": [
    "len(L_Full)"
   ]
  },
  {
   "cell_type": "code",
   "execution_count": 7,
   "metadata": {},
   "outputs": [],
   "source": [
    "# Load LOO-score\n",
    "Models_WAIC = [np.mean(L_Full),np.mean(D_Inv_Full),np.mean(D_Full)]\n",
    "Models_WAIC_part = [L_Full,D_Inv_Full,D_Full]\n",
    "\n",
    "x = np.arange(len(Models_WAIC))"
   ]
  },
  {
   "cell_type": "code",
   "execution_count": 12,
   "metadata": {},
   "outputs": [
    {
     "data": {
      "image/png": "[encoded data removed]",
      "text/plain": [
       "<Figure size 720x360 with 1 Axes>"
      ]
     },
     "metadata": {},
     "output_type": "display_data"
    }
   ],
   "source": [
    "fig, ax = plt.subplots(1,1,figsize=(10,5))\n",
    "sns.set(style='white', font_scale=1.8)\n",
    "\n",
    "ax.set_facecolor('xkcd:white')\n",
    "plt.bar(x, Models_WAIC, color=['#4F6A9A',  '#AC5255', '#FFDFDD'])\n",
    "#plt.xticks(x, ('', 'Frame-Value', 'Preference-Value'))\n",
    "plt.ylim(15000,18000)\n",
    "plt.ylabel('WAIC score (hierarchical)')\n",
    "\n",
    "like_patch = mpatches.Patch(color='#4F6A9A',hatch='', label='Like')\n",
    "dislike1_patch = mpatches.Patch(color='#AC5255',hatch='', label='Dislike Frame-Value')\n",
    "dislike2_patch = mpatches.Patch(color='#FFB9B4',hatch='', label='Dislike Preference-Value')\n",
    "\n",
    "leg = plt.legend(handles=[like_patch,dislike1_patch,dislike2_patch])\n",
    "leg.get_frame().set_facecolor('none')\n",
    "leg.get_frame().set_linewidth(0.0)\n",
    "\n",
    "for i in range(len(Models_WAIC)):\n",
    "    position_parts= np.full(len(Models_WAIC_part[i]),i, dtype=int)\n",
    "    jittr = np.random.uniform(low=-0.2,high=0.2,size=len(Models_WAIC_part[i]))/2\n",
    "    ax.plot(position_parts+jittr, Models_WAIC_part[i], marker='o', ms=8, color='#000000',alpha=0.3,linestyle=\"None\")\n",
    "\n",
    "# Turn off tick labels\n",
    "ax.set_xticklabels([])\n",
    "    \n",
    "sns.despine()\n",
    "\n",
    "plt.show()\n",
    "\n",
    "fig.savefig(str('SavedFigures/FF2018_GLAM_individual_WAIC_ModelComparison_31.png'), dpi = 200 )"
   ]
  },
  {
   "cell_type": "code",
   "execution_count": null,
   "metadata": {},
   "outputs": [],
   "source": []
  },
  {
   "cell_type": "markdown",
   "metadata": {},
   "source": [
    " # ---[END]----"
   ]
  },
  {
   "cell_type": "code",
   "execution_count": null,
   "metadata": {},
   "outputs": [],
   "source": []
  },
  {
   "cell_type": "code",
   "execution_count": null,
   "metadata": {},
   "outputs": [],
   "source": []
  },
  {
   "cell_type": "code",
   "execution_count": null,
   "metadata": {},
   "outputs": [],
   "source": []
  },
  {
   "cell_type": "code",
   "execution_count": null,
   "metadata": {},
   "outputs": [],
   "source": []
  },
  {
   "cell_type": "code",
   "execution_count": null,
   "metadata": {},
   "outputs": [],
   "source": []
  },
  {
   "cell_type": "code",
   "execution_count": null,
   "metadata": {},
   "outputs": [],
   "source": []
  },
  {
   "cell_type": "code",
   "execution_count": null,
   "metadata": {},
   "outputs": [],
   "source": []
  }
 ],
 "metadata": {
  "kernelspec": {
   "display_name": "Python 3",
   "language": "python",
   "name": "python3"
  },
  "language_info": {
   "codemirror_mode": {
    "name": "ipython",
    "version": 3
   },
   "file_extension": ".py",
   "mimetype": "text/x-python",
   "name": "python",
   "nbconvert_exporter": "python",
   "pygments_lexer": "ipython3",
   "version": "3.7.3"
  }
 },
 "nbformat": 4,
 "nbformat_minor": 2
}
