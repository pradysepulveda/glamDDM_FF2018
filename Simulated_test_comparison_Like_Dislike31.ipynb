{
 "cells": [
  {
   "cell_type": "code",
   "execution_count": 1,
   "metadata": {},
   "outputs": [],
   "source": [
    "import numpy as np\n",
    "import pandas as pd\n",
    "import statsmodels.api as sm\n",
    "from statsmodels.stats.outliers_influence import summary_table\n",
    "\n",
    "# from seaborn import despine\n",
    "import matplotlib.pyplot as plt\n",
    "plt.rc(\"axes.spines\", top=False, right=False)\n",
    "\n",
    "from analysis_functions import compute_gaze_influence, sci_notation, run_linear_model, compute_mean_rt, compute_p_choose_best, write_summary, make_sure_path_exists"
   ]
  },
  {
   "cell_type": "code",
   "execution_count": 2,
   "metadata": {
    "collapsed": true
   },
   "outputs": [],
   "source": [
    "make_sure_path_exists('results/linear_models')"
   ]
  },
  {
   "cell_type": "code",
   "execution_count": 3,
   "metadata": {
    "collapsed": true
   },
   "outputs": [],
   "source": [
    "np.random.seed(52) # from random.org"
   ]
  },
  {
   "cell_type": "markdown",
   "metadata": {},
   "source": [
    "# Absolute model fit (out of sample prediction)\n",
    "## Like and dislike condition"
   ]
  },
  {
   "cell_type": "code",
   "execution_count": 4,
   "metadata": {},
   "outputs": [
    {
     "name": "stdout",
     "output_type": "stream",
     "text": [
      "Assessing absolute model fit...\n"
     ]
    }
   ],
   "source": [
    "print('Assessing absolute model fit...')"
   ]
  },
  {
   "cell_type": "markdown",
   "metadata": {},
   "source": [
    "### Load plot function"
   ]
  },
  {
   "cell_type": "code",
   "execution_count": 5,
   "metadata": {
    "collapsed": true
   },
   "outputs": [],
   "source": [
    "def plot_correlation(x_in, y,\n",
    "                     model_names=None,\n",
    "                     xlabel='',\n",
    "                     ylabel='',\n",
    "                     title='',\n",
    "                     ci=0.95,\n",
    "                     xticks=None,\n",
    "                     yticks=None,\n",
    "                     xticklabels=None,\n",
    "                     yticklabels=None,\n",
    "                     xlim=None,\n",
    "                     ylim=None,\n",
    "                     annotation_pos=(0.1, 0.1),\n",
    "                     annotation_halign='left',\n",
    "                     fontsize_title=15,\n",
    "                     fontsize_axeslabel=15,\n",
    "                     fontsize_ticklabels=12,\n",
    "                     fontsize_annotation=12,\n",
    "                     plot_diagonal=False,\n",
    "                     ax=None):\n",
    "    \n",
    "    \n",
    "    x_all = x_in\n",
    "    color_code = ['#4F6A9A', '#AC5255']\n",
    "    # Defaults\n",
    "    if ax is None:\n",
    "        fig, ax = plt.subplots()\n",
    "    if not isinstance(x_in, list):\n",
    "        x_all = [x_in]\n",
    "    if not isinstance(y, list):\n",
    "        y = [y]\n",
    "    if model_names is None:\n",
    "        model_names = ['Model {}'.format(i)\n",
    "                       for i in range(len(y))]\n",
    "    \n",
    "    for i, yi in enumerate(y):\n",
    "        \n",
    "        # Select if we load the set of observed items for like (0) or dislike (1)\n",
    "        # This will depend on how we define it later.\n",
    "        x = x_all[i]\n",
    "        \n",
    "        # Scatter\n",
    "        ax.scatter(x, yi, color=color_code[i], alpha=0.5)\n",
    "\n",
    "        # LM fit\n",
    "        X = sm.add_constant(x)\n",
    "        lm = sm.OLS(yi, X).fit()\n",
    "        intercept, slope = lm.params\n",
    "        table, data, columns = summary_table(lm, alpha=1.-ci)\n",
    "        predicted, mean_ci_lower, mean_ci_upper = data[:, np.array([2, 4, 5])].T\n",
    "\n",
    "         # Annotation\n",
    "        tval = lm.tvalues[-1]\n",
    "        pval = lm.pvalues[-1]\n",
    "        if pval < 0.01:\n",
    "            pstring = ' < ' + sci_notation(pval, decimal_digits=2)\n",
    "        else:\n",
    "            pstring = ' = {:.2f}'.format(pval)\n",
    "        r = np.sign(tval) * np.sqrt(lm.rsquared)\n",
    "        label = ((r'$r = {:.2f}$, '.format(r)) +\n",
    "                  r'$P${}'.format(pstring))\n",
    "        xs = np.linspace(*ax.get_xlim(), 100)\n",
    "        ax.plot(xs, intercept + slope * xs,\n",
    "                color=color_code[i], label=label)\n",
    "        sort_idx = np.argsort(x)\n",
    "        ax.fill_between(x[sort_idx], mean_ci_lower[sort_idx], mean_ci_upper[sort_idx],\n",
    "                        color=color_code[i], alpha=0.1)\n",
    "\n",
    "    ax.legend(loc='best', fontsize=fontsize_annotation, frameon=False)\n",
    "\n",
    "    # Axes, ticks, ...\n",
    "    if xticks is not None:\n",
    "        ax.set_xticks(xticks)\n",
    "    if yticks is not None:\n",
    "        ax.set_yticks(yticks)\n",
    "        \n",
    "    if xticklabels is not None:\n",
    "        ax.set_xticklabels(xticklabels, fontsize=fontsize_ticklabels)\n",
    "    if yticklabels is not None:\n",
    "        ax.set_yticklabels(yticklabels, fontsize=fontsize_ticklabels)\n",
    "\n",
    "    if xlim is not None:\n",
    "        ax.set_xlim(xlim)\n",
    "    if ylim is not None:\n",
    "        ax.set_ylim(ylim)\n",
    "\n",
    "    # Diagonal\n",
    "    if plot_diagonal:\n",
    "        ax.plot([0, 1], [0, 1], transform=ax.transAxes,\n",
    "                color='black', alpha=.5, zorder=-10, lw=2)\n",
    "\n",
    "    # Labels\n",
    "    ax.set_xlabel(xlabel, fontsize=fontsize_axeslabel)\n",
    "    ax.set_ylabel(ylabel, fontsize=fontsize_axeslabel)\n",
    "    ax.set_title(title, fontsize=fontsize_title)\n",
    "#     despine()\n",
    "\n",
    "    return ax"
   ]
  },
  {
   "cell_type": "markdown",
   "metadata": {},
   "source": [
    "## Load *observed* data (test set) GLAM out of sample *predictions*"
   ]
  },
  {
   "cell_type": "code",
   "execution_count": 6,
   "metadata": {
    "collapsed": true
   },
   "outputs": [],
   "source": [
    "#Like\n",
    "test_data_L = pd.read_csv('data/FF2018_data/GlamDataFF2018_preprocessed_test_Like_NoBin_NUTS_31.csv')\n",
    "glam_full_L = pd.read_csv('results/predictions/glam_FF2018_full_hierarchical_cv_Like_NoBin_NUTS_31.csv')\n",
    "\n",
    "#Dislike\n",
    "test_data_D = pd.read_csv('data/FF2018_data/GlamDataFF2018_preprocessed_test_Dislike_NoBin_Dislike_NUTS_Inv_31.csv')\n",
    "glam_full_D = pd.read_csv('results/predictions/glam_FF2018_full_hierarchical_cv_Dislike_NoBin_Dislike_NUTS_Inv_31.csv')\n"
   ]
  },
  {
   "cell_type": "markdown",
   "metadata": {},
   "source": [
    "# Compute behavioral indices for observed data and predictions"
   ]
  },
  {
   "cell_type": "code",
   "execution_count": 7,
   "metadata": {
    "collapsed": true
   },
   "outputs": [],
   "source": [
    "mean_rt = pd.DataFrame(dict(observed_L=compute_mean_rt(test_data_L),\n",
    "                            observed_D=compute_mean_rt(test_data_D),\n",
    "                            glam_full_L=compute_mean_rt(glam_full_L),\n",
    "                            glam_full_D=compute_mean_rt(glam_full_D)))\n",
    "                            \n",
    "p_choose_best = pd.DataFrame(dict(observed_L=compute_p_choose_best(test_data_L),\n",
    "                            observed_D=compute_p_choose_best(test_data_D),\n",
    "                            glam_full_L=compute_p_choose_best(glam_full_L),\n",
    "                            glam_full_D=compute_p_choose_best(glam_full_D)))\n",
    "\n",
    "gaze_influence = pd.DataFrame(dict(observed_L=compute_gaze_influence(test_data_L),\n",
    "                                   observed_D=compute_gaze_influence(test_data_D),\n",
    "                                   glam_full_L=compute_gaze_influence(glam_full_L),\n",
    "                                  glam_full_D=compute_gaze_influence(glam_full_D)))"
   ]
  },
  {
   "cell_type": "markdown",
   "metadata": {},
   "source": [
    "## Linear models: Are out of sample data predicted by GLAM variants?\n",
    "\n",
    "### 1. Like\n",
    "\n",
    "#### 1.1 Mean RT"
   ]
  },
  {
   "cell_type": "code",
   "execution_count": 8,
   "metadata": {},
   "outputs": [
    {
     "name": "stdout",
     "output_type": "stream",
     "text": [
      "  1. Full GLAM...\n",
      "  1.1 Mean RT\n",
      "                            OLS Regression Results                            \n",
      "==============================================================================\n",
      "Dep. Variable:             observed_L   R-squared:                       0.910\n",
      "Model:                            OLS   Adj. R-squared:                  0.907\n",
      "Method:                 Least Squares   F-statistic:                     294.3\n",
      "Date:                Mon, 18 Feb 2019   Prob (F-statistic):           1.00e-16\n",
      "Time:                        14:21:50   Log-Likelihood:                -214.38\n",
      "No. Observations:                  31   AIC:                             432.8\n",
      "Df Residuals:                      29   BIC:                             435.6\n",
      "Df Model:                           1                                         \n",
      "Covariance Type:            nonrobust                                         \n",
      "===============================================================================\n",
      "                  coef    std err          t      P>|t|      [0.025      0.975]\n",
      "-------------------------------------------------------------------------------\n",
      "const        -526.0264    200.726     -2.621      0.014    -936.557    -115.496\n",
      "glam_full_L     1.2541      0.073     17.156      0.000       1.105       1.404\n",
      "==============================================================================\n",
      "Omnibus:                        1.595   Durbin-Watson:                   2.943\n",
      "Prob(Omnibus):                  0.450   Jarque-Bera (JB):                0.586\n",
      "Skew:                           0.192   Prob(JB):                        0.746\n",
      "Kurtosis:                       3.554   Cond. No.                     1.22e+04\n",
      "==============================================================================\n",
      "\n",
      "Warnings:\n",
      "[1] Standard Errors assume that the covariance matrix of the errors is correctly specified.\n",
      "[2] The condition number is large, 1.22e+04. This might indicate that there are\n",
      "strong multicollinearity or other numerical problems.\n",
      "Slope = 1.25\n",
      "t(29) = 17.16\n",
      "P = 0.0000000000\n"
     ]
    }
   ],
   "source": [
    "print('  1. Full GLAM...')\n",
    "print('  1.1 Mean RT')\n",
    "_ = run_linear_model(mean_rt['glam_full_L'],\n",
    "                     mean_rt['observed_L'])\n",
    "write_summary(_, 'results/linear_models/like/3_absfit_like_rt.csv')"
   ]
  },
  {
   "cell_type": "markdown",
   "metadata": {},
   "source": [
    "#### 1.2 P(choose best)"
   ]
  },
  {
   "cell_type": "code",
   "execution_count": 9,
   "metadata": {},
   "outputs": [
    {
     "name": "stdout",
     "output_type": "stream",
     "text": [
      "  1.2 P(choose best)\n",
      "                            OLS Regression Results                            \n",
      "==============================================================================\n",
      "Dep. Variable:             observed_L   R-squared:                       0.748\n",
      "Model:                            OLS   Adj. R-squared:                  0.739\n",
      "Method:                 Least Squares   F-statistic:                     85.91\n",
      "Date:                Mon, 18 Feb 2019   Prob (F-statistic):           3.59e-10\n",
      "Time:                        14:21:50   Log-Likelihood:                 48.305\n",
      "No. Observations:                  31   AIC:                            -92.61\n",
      "Df Residuals:                      29   BIC:                            -89.74\n",
      "Df Model:                           1                                         \n",
      "Covariance Type:            nonrobust                                         \n",
      "===============================================================================\n",
      "                  coef    std err          t      P>|t|      [0.025      0.975]\n",
      "-------------------------------------------------------------------------------\n",
      "const           0.0188      0.077      0.246      0.808      -0.138       0.175\n",
      "glam_full_L     0.9927      0.107      9.269      0.000       0.774       1.212\n",
      "==============================================================================\n",
      "Omnibus:                        0.222   Durbin-Watson:                   1.959\n",
      "Prob(Omnibus):                  0.895   Jarque-Bera (JB):                0.284\n",
      "Skew:                           0.178   Prob(JB):                        0.868\n",
      "Kurtosis:                       2.695   Cond. No.                         17.1\n",
      "==============================================================================\n",
      "\n",
      "Warnings:\n",
      "[1] Standard Errors assume that the covariance matrix of the errors is correctly specified.\n",
      "Slope = 0.99\n",
      "t(29) = 9.27\n",
      "P = 0.0000000004\n"
     ]
    }
   ],
   "source": [
    "print('  1.2 P(choose best)')\n",
    "_ = run_linear_model(p_choose_best['glam_full_L'],\n",
    "                     p_choose_best['observed_L'])\n",
    "write_summary(_, 'results/linear_models/like/3_absfit_like_pchoosebest.csv')"
   ]
  },
  {
   "cell_type": "markdown",
   "metadata": {},
   "source": [
    "#### 1.3 Gaze influence on P(choose left)"
   ]
  },
  {
   "cell_type": "code",
   "execution_count": 10,
   "metadata": {},
   "outputs": [
    {
     "name": "stdout",
     "output_type": "stream",
     "text": [
      "  1.3 Gaze Influence\n",
      "                            OLS Regression Results                            \n",
      "==============================================================================\n",
      "Dep. Variable:             observed_L   R-squared:                       0.598\n",
      "Model:                            OLS   Adj. R-squared:                  0.585\n",
      "Method:                 Least Squares   F-statistic:                     43.22\n",
      "Date:                Mon, 18 Feb 2019   Prob (F-statistic):           3.34e-07\n",
      "Time:                        14:21:50   Log-Likelihood:                 18.920\n",
      "No. Observations:                  31   AIC:                            -33.84\n",
      "Df Residuals:                      29   BIC:                            -30.97\n",
      "Df Model:                           1                                         \n",
      "Covariance Type:            nonrobust                                         \n",
      "===============================================================================\n",
      "                  coef    std err          t      P>|t|      [0.025      0.975]\n",
      "-------------------------------------------------------------------------------\n",
      "const           0.0956      0.050      1.894      0.068      -0.008       0.199\n",
      "glam_full_L     0.8612      0.131      6.574      0.000       0.593       1.129\n",
      "==============================================================================\n",
      "Omnibus:                        0.196   Durbin-Watson:                   1.568\n",
      "Prob(Omnibus):                  0.906   Jarque-Bera (JB):                0.246\n",
      "Skew:                           0.165   Prob(JB):                        0.884\n",
      "Kurtosis:                       2.715   Cond. No.                         6.00\n",
      "==============================================================================\n",
      "\n",
      "Warnings:\n",
      "[1] Standard Errors assume that the covariance matrix of the errors is correctly specified.\n",
      "Slope = 0.86\n",
      "t(29) = 6.57\n",
      "P = 0.0000003342\n"
     ]
    }
   ],
   "source": [
    "print('  1.3 Gaze Influence')\n",
    "_ = run_linear_model(gaze_influence['glam_full_L'],\n",
    "                     gaze_influence['observed_L'])\n",
    "write_summary(_, 'results/linear_models/like/3_absfit_like_gazeinfluence.csv')"
   ]
  },
  {
   "cell_type": "markdown",
   "metadata": {},
   "source": [
    "### 2. Dislike GLAM\n",
    "\n",
    "#### 2.1 Mean RT"
   ]
  },
  {
   "cell_type": "code",
   "execution_count": 11,
   "metadata": {},
   "outputs": [
    {
     "name": "stdout",
     "output_type": "stream",
     "text": [
      "  2. No-Bias GLAM\n",
      "  2.1 Mean RT\n",
      "                            OLS Regression Results                            \n",
      "==============================================================================\n",
      "Dep. Variable:             observed_D   R-squared:                       0.843\n",
      "Model:                            OLS   Adj. R-squared:                  0.838\n",
      "Method:                 Least Squares   F-statistic:                     156.1\n",
      "Date:                Mon, 18 Feb 2019   Prob (F-statistic):           3.38e-13\n",
      "Time:                        14:21:50   Log-Likelihood:                -218.95\n",
      "No. Observations:                  31   AIC:                             441.9\n",
      "Df Residuals:                      29   BIC:                             444.8\n",
      "Df Model:                           1                                         \n",
      "Covariance Type:            nonrobust                                         \n",
      "===============================================================================\n",
      "                  coef    std err          t      P>|t|      [0.025      0.975]\n",
      "-------------------------------------------------------------------------------\n",
      "const          86.4263    249.054      0.347      0.731    -422.947     595.800\n",
      "glam_full_D     1.0323      0.083     12.494      0.000       0.863       1.201\n",
      "==============================================================================\n",
      "Omnibus:                        1.272   Durbin-Watson:                   1.296\n",
      "Prob(Omnibus):                  0.529   Jarque-Bera (JB):                0.849\n",
      "Skew:                           0.404   Prob(JB):                        0.654\n",
      "Kurtosis:                       2.933   Cond. No.                     1.43e+04\n",
      "==============================================================================\n",
      "\n",
      "Warnings:\n",
      "[1] Standard Errors assume that the covariance matrix of the errors is correctly specified.\n",
      "[2] The condition number is large, 1.43e+04. This might indicate that there are\n",
      "strong multicollinearity or other numerical problems.\n",
      "Slope = 1.03\n",
      "t(29) = 12.49\n",
      "P = 0.0000000000\n"
     ]
    }
   ],
   "source": [
    "print('  2. No-Bias GLAM')\n",
    "print('  2.1 Mean RT')\n",
    "_ = run_linear_model(mean_rt['glam_full_D'],\n",
    "                     mean_rt['observed_D'])\n",
    "write_summary(_, 'results/linear_models/like/3_absfit_dislike_rt.csv')"
   ]
  },
  {
   "cell_type": "markdown",
   "metadata": {},
   "source": [
    "#### 2.2 P(choose best)"
   ]
  },
  {
   "cell_type": "code",
   "execution_count": 12,
   "metadata": {},
   "outputs": [
    {
     "name": "stdout",
     "output_type": "stream",
     "text": [
      "  2.2 P(choose best)\n",
      "                            OLS Regression Results                            \n",
      "==============================================================================\n",
      "Dep. Variable:             observed_D   R-squared:                       0.685\n",
      "Model:                            OLS   Adj. R-squared:                  0.674\n",
      "Method:                 Least Squares   F-statistic:                     62.94\n",
      "Date:                Mon, 18 Feb 2019   Prob (F-statistic):           9.48e-09\n",
      "Time:                        14:21:50   Log-Likelihood:                 42.288\n",
      "No. Observations:                  31   AIC:                            -80.58\n",
      "Df Residuals:                      29   BIC:                            -77.71\n",
      "Df Model:                           1                                         \n",
      "Covariance Type:            nonrobust                                         \n",
      "===============================================================================\n",
      "                  coef    std err          t      P>|t|      [0.025      0.975]\n",
      "-------------------------------------------------------------------------------\n",
      "const           0.0693      0.080      0.865      0.394      -0.094       0.233\n",
      "glam_full_D     0.9219      0.116      7.934      0.000       0.684       1.160\n",
      "==============================================================================\n",
      "Omnibus:                        2.067   Durbin-Watson:                   1.574\n",
      "Prob(Omnibus):                  0.356   Jarque-Bera (JB):                0.973\n",
      "Skew:                          -0.357   Prob(JB):                        0.615\n",
      "Kurtosis:                       3.493   Cond. No.                         14.9\n",
      "==============================================================================\n",
      "\n",
      "Warnings:\n",
      "[1] Standard Errors assume that the covariance matrix of the errors is correctly specified.\n",
      "Slope = 0.92\n",
      "t(29) = 7.93\n",
      "P = 0.0000000095\n"
     ]
    }
   ],
   "source": [
    "print('  2.2 P(choose best)')\n",
    "_ = run_linear_model(p_choose_best['glam_full_D'],\n",
    "                     p_choose_best['observed_D'])\n",
    "write_summary(_, 'results/linear_models/like/3_absfit_dislike_pchoosebest.csv')"
   ]
  },
  {
   "cell_type": "markdown",
   "metadata": {},
   "source": [
    "#### 2.3 Gaze influence on P(choose left)"
   ]
  },
  {
   "cell_type": "code",
   "execution_count": 13,
   "metadata": {},
   "outputs": [
    {
     "name": "stdout",
     "output_type": "stream",
     "text": [
      "  2.3 Gaze influence\n",
      "                            OLS Regression Results                            \n",
      "==============================================================================\n",
      "Dep. Variable:             observed_D   R-squared:                       0.548\n",
      "Model:                            OLS   Adj. R-squared:                  0.533\n",
      "Method:                 Least Squares   F-statistic:                     35.19\n",
      "Date:                Mon, 18 Feb 2019   Prob (F-statistic):           1.92e-06\n",
      "Time:                        14:21:50   Log-Likelihood:                 16.380\n",
      "No. Observations:                  31   AIC:                            -28.76\n",
      "Df Residuals:                      29   BIC:                            -25.89\n",
      "Df Model:                           1                                         \n",
      "Covariance Type:            nonrobust                                         \n",
      "===============================================================================\n",
      "                  coef    std err          t      P>|t|      [0.025      0.975]\n",
      "-------------------------------------------------------------------------------\n",
      "const           0.0441      0.061      0.719      0.478      -0.081       0.169\n",
      "glam_full_D     0.7861      0.133      5.932      0.000       0.515       1.057\n",
      "==============================================================================\n",
      "Omnibus:                        5.623   Durbin-Watson:                   2.147\n",
      "Prob(Omnibus):                  0.060   Jarque-Bera (JB):                4.444\n",
      "Skew:                          -0.534   Prob(JB):                        0.108\n",
      "Kurtosis:                       4.516   Cond. No.                         5.90\n",
      "==============================================================================\n",
      "\n",
      "Warnings:\n",
      "[1] Standard Errors assume that the covariance matrix of the errors is correctly specified.\n",
      "Slope = 0.79\n",
      "t(29) = 5.93\n",
      "P = 0.0000019181\n"
     ]
    }
   ],
   "source": [
    "print('  2.3 Gaze influence')\n",
    "_ = run_linear_model(gaze_influence['glam_full_D'],\n",
    "                     gaze_influence['observed_D'])\n",
    "write_summary(_, 'results/linear_models/like/3_absfit_dislike_gazeinfluence.csv')"
   ]
  },
  {
   "cell_type": "code",
   "execution_count": 14,
   "metadata": {
    "collapsed": true
   },
   "outputs": [],
   "source": [
    "def figure_5(mean_rt, p_choose_best, gaze_influence, figsize=(10, 3.5)):\n",
    "\n",
    "    fig, axs = plt.subplots(1, 3, figsize=figsize)\n",
    "\n",
    "    plot_correlation([mean_rt['observed_L'].values, mean_rt['observed_D'].values], \n",
    "                     [mean_rt['glam_full_L'].values, mean_rt['glam_full_D'].values],\n",
    "                     model_names=['Full', r'$\\theta = 1$'],\n",
    "                     xlabel='Observed',\n",
    "                     ylabel='Predicted',\n",
    "                     title='Mean RT (ms)',\n",
    "                     xlim=[0, 6500],\n",
    "                     ylim=[0, 6500],\n",
    "                     xticks=np.arange(0, 7000, 1000),\n",
    "                     yticks=np.arange(0, 7000, 1000),\n",
    "                     xticklabels=['0', '', '2000', '', '4000', '', '6000'],\n",
    "                     yticklabels=['0', '', '2000', '', '4000', '', '6000'],\n",
    "                     fontsize_axeslabel=15,\n",
    "                     fontsize_ticklabels=12,\n",
    "                     fontsize_title=15,\n",
    "                     fontsize_annotation=8,\n",
    "                     ax=axs[0], plot_diagonal=True)\n",
    "\n",
    "    plot_correlation([p_choose_best['observed_L'].values, p_choose_best['observed_D'].values],\n",
    "                     [p_choose_best['glam_full_L'].values, p_choose_best['glam_full_D'].values],\n",
    "                     model_names=['Full', r'$\\theta = 1$'],\n",
    "                     xlabel='Observed',\n",
    "                     ylabel='Predicted',\n",
    "                     title='P(choose best)',\n",
    "                     xlim=[0.45, 1.05],\n",
    "                     ylim=[0.45, 1.05],\n",
    "                     xticks=np.arange(0.4, 1.1, 0.1),\n",
    "                     yticks=np.arange(0.4, 1.1, 0.1),\n",
    "                     xticklabels=['0.4', '0.5', '0.6', '0.7', '0.8', '0.9', '1.0'],\n",
    "                     yticklabels=['0.4', '0.5', '0.6', '0.7', '0.8', '0.9', '1.0'],\n",
    "                     fontsize_axeslabel=15,\n",
    "                     fontsize_ticklabels=12,\n",
    "                     fontsize_title=15,\n",
    "                     fontsize_annotation=8,\n",
    "                     ax=axs[1], plot_diagonal=True)\n",
    "\n",
    "    plot_correlation([gaze_influence['observed_L'].values, gaze_influence['observed_D'].values],\n",
    "                     [gaze_influence['glam_full_L'].values, gaze_influence['glam_full_D'].values],\n",
    "                     model_names=['Full', r'$\\theta = 1$'],\n",
    "                     xlabel='Observed',\n",
    "                     ylabel='Predicted',\n",
    "                     title='Gaze influence\\non P(choose left)',\n",
    "                     xticks=np.arange(-0.1, 0.7, 0.1),\n",
    "                     yticks=np.arange(-0.1, 0.7, 0.1),\n",
    "                     xticklabels=['-0.1', '0', '0.1', '0.2', '0.3', '0.4', '0.5', '0.6'],\n",
    "                     yticklabels=['-0.1', '0', '0.1', '0.2', '0.3', '0.4', '0.5', '0.6'],\n",
    "                     xlim=[-0.125, 0.625],\n",
    "                     ylim=[-0.125, 0.625],\n",
    "                     fontsize_axeslabel=15,\n",
    "                     fontsize_ticklabels=12,\n",
    "                     fontsize_title=15,\n",
    "                     fontsize_annotation=8,\n",
    "                     ax=axs[2], plot_diagonal=True)\n",
    "\n",
    "    # index axes\n",
    " #   for label, ax in zip(list('ABC'), axs.ravel()):\n",
    " #       ax.text(-0.1, 1.15, label, transform=ax.transAxes,\n",
    " #               fontsize=20, fontweight='bold', va='top')\n",
    "\n",
    "    fig.tight_layout()\n",
    "\n",
    "    return None"
   ]
  },
  {
   "cell_type": "code",
   "execution_count": 15,
   "metadata": {},
   "outputs": [
    {
     "name": "stdout",
     "output_type": "stream",
     "text": [
      "Close Figure to continue...\n"
     ]
    },
    {
     "data": {
      "image/png": "[encoded data removed]",
      "text/plain": [
       "<Figure size 720x252 with 3 Axes>"
      ]
     },
     "metadata": {
      "needs_background": "light"
     },
     "output_type": "display_data"
    }
   ],
   "source": [
    "print('Close Figure to continue...')\n",
    "figure_5(mean_rt, p_choose_best, gaze_influence)\n",
    "#plt.savefig('SavedFigures/Like_model_fit_simulations.png', dpi=330, bbox_inches='tight')\n",
    "plt.show()"
   ]
  },
  {
   "cell_type": "markdown",
   "metadata": {},
   "source": [
    "Model predictions are simulated from hierarchically estimated parameter estimates. Blue color indicates predictions from the full GLAM, whereas orange indicates predictions from a restricted GLAM variant with no gaze bias (gamma = 1).\n"
   ]
  },
  {
   "cell_type": "markdown",
   "metadata": {},
   "source": [
    "## ---------------------------------------------"
   ]
  },
  {
   "cell_type": "code",
   "execution_count": null,
   "metadata": {},
   "outputs": [],
   "source": []
  },
  {
   "cell_type": "code",
   "execution_count": null,
   "metadata": {},
   "outputs": [],
   "source": []
  }
 ],
 "metadata": {
  "kernelspec": {
   "display_name": "Python 3",
   "language": "python",
   "name": "python3"
  },
  "language_info": {
   "codemirror_mode": {
    "name": "ipython",
    "version": 3
   },
   "file_extension": ".py",
   "mimetype": "text/x-python",
   "name": "python",
   "nbconvert_exporter": "python",
   "pygments_lexer": "ipython3",
   "version": "3.7.0"
  }
 },
 "nbformat": 4,
 "nbformat_minor": 2
}
